{
  "nbformat": 4,
  "nbformat_minor": 0,
  "metadata": {
    "kernelspec": {
      "display_name": "Python 3",
      "language": "python",
      "name": "python3"
    },
    "language_info": {
      "codemirror_mode": {
        "name": "ipython",
        "version": 3
      },
      "file_extension": ".py",
      "mimetype": "text/x-python",
      "name": "python",
      "nbconvert_exporter": "python",
      "pygments_lexer": "ipython3",
      "version": "3.7.4"
    },
    "colab": {
      "name": "Capstone_ModelBuilding.ipynb",
      "provenance": [],
      "collapsed_sections": []
    }
  },
  "cells": [
    {
      "cell_type": "code",
      "metadata": {
        "id": "DcidH7FrQhtF"
      },
      "source": [
        "import tensorflow as tf"
      ],
      "execution_count": 3,
      "outputs": []
    },
    {
      "cell_type": "code",
      "metadata": {
        "colab": {
          "base_uri": "https://localhost:8080/"
        },
        "id": "ewC6aG7oROGw",
        "outputId": "459a6fbc-e997-4b64-9d60-6eec869581f4"
      },
      "source": [
        "from google.colab import drive\r\n",
        "drive.mount('/content/drive')"
      ],
      "execution_count": 4,
      "outputs": [
        {
          "output_type": "stream",
          "text": [
            "Mounted at /content/drive\n"
          ],
          "name": "stdout"
        }
      ]
    },
    {
      "cell_type": "code",
      "metadata": {
        "id": "71ZG3BnXRRWj"
      },
      "source": [
        "import os\r\n",
        "os.chdir('/content/drive/My Drive/AIML/GreatLearning/Capstone/')"
      ],
      "execution_count": 5,
      "outputs": []
    },
    {
      "cell_type": "code",
      "metadata": {
        "id": "MTAGg2iaQhtN"
      },
      "source": [
        "import numpy as np\n",
        "import pandas as pd\n",
        "import seaborn as sns\n",
        "import matplotlib.pyplot as plt\n",
        "import keras\n",
        "\n",
        "from nltk.tokenize import word_tokenize,sent_tokenize\n",
        "\n",
        "from keras.models import Sequential\n",
        "from keras.preprocessing import text, sequence\n",
        "from keras.layers import Dense,Embedding,LSTM,Dropout,Bidirectional,GRU, Flatten, Input, LeakyReLU, SpatialDropout1D\n",
        "from keras.utils.np_utils import to_categorical\n",
        "from keras.regularizers import l1, l2, l1_l2\n",
        "from tensorflow.keras.callbacks import ModelCheckpoint, EarlyStopping, ReduceLROnPlateau\n",
        "from tensorflow.keras.optimizers import Adam\n",
        "\n",
        "from sklearn.model_selection import train_test_split\n",
        "from sklearn.metrics import classification_report,confusion_matrix,accuracy_score\n",
        "from sklearn.preprocessing import LabelEncoder\n"
      ],
      "execution_count": 78,
      "outputs": []
    },
    {
      "cell_type": "code",
      "metadata": {
        "colab": {
          "base_uri": "https://localhost:8080/",
          "height": 195
        },
        "id": "gBQesI2mQhtO",
        "outputId": "2fff76cb-9abd-457b-fe63-82bbc0865f35"
      },
      "source": [
        "df = pd.read_csv('week1_data.csv')  # read the data\n",
        "df.head()"
      ],
      "execution_count": 7,
      "outputs": [
        {
          "output_type": "execute_result",
          "data": {
            "text/html": [
              "<div>\n",
              "<style scoped>\n",
              "    .dataframe tbody tr th:only-of-type {\n",
              "        vertical-align: middle;\n",
              "    }\n",
              "\n",
              "    .dataframe tbody tr th {\n",
              "        vertical-align: top;\n",
              "    }\n",
              "\n",
              "    .dataframe thead th {\n",
              "        text-align: right;\n",
              "    }\n",
              "</style>\n",
              "<table border=\"1\" class=\"dataframe\">\n",
              "  <thead>\n",
              "    <tr style=\"text-align: right;\">\n",
              "      <th></th>\n",
              "      <th>Assignment group</th>\n",
              "      <th>ProcessedDescription</th>\n",
              "    </tr>\n",
              "  </thead>\n",
              "  <tbody>\n",
              "    <tr>\n",
              "      <th>0</th>\n",
              "      <td>GRP_0</td>\n",
              "      <td>login issue verify user detail employee manage...</td>\n",
              "    </tr>\n",
              "    <tr>\n",
              "      <th>1</th>\n",
              "      <td>GRP_0</td>\n",
              "      <td>outlook team meeting skype meeting etc not app...</td>\n",
              "    </tr>\n",
              "    <tr>\n",
              "      <th>2</th>\n",
              "      <td>GRP_0</td>\n",
              "      <td>not log vpn not log vpn best</td>\n",
              "    </tr>\n",
              "    <tr>\n",
              "      <th>3</th>\n",
              "      <td>GRP_0</td>\n",
              "      <td>unable access tool page unable access tool page</td>\n",
              "    </tr>\n",
              "    <tr>\n",
              "      <th>4</th>\n",
              "      <td>GRP_0</td>\n",
              "      <td>skype error skype error</td>\n",
              "    </tr>\n",
              "  </tbody>\n",
              "</table>\n",
              "</div>"
            ],
            "text/plain": [
              "  Assignment group                               ProcessedDescription\n",
              "0            GRP_0  login issue verify user detail employee manage...\n",
              "1            GRP_0  outlook team meeting skype meeting etc not app...\n",
              "2            GRP_0                       not log vpn not log vpn best\n",
              "3            GRP_0    unable access tool page unable access tool page\n",
              "4            GRP_0                            skype error skype error"
            ]
          },
          "metadata": {
            "tags": []
          },
          "execution_count": 7
        }
      ]
    },
    {
      "cell_type": "code",
      "metadata": {
        "colab": {
          "base_uri": "https://localhost:8080/",
          "height": 106
        },
        "id": "MqSZl5cyQhtP",
        "outputId": "2c2a0fdf-ba00-48f6-b2ab-69616eeec767"
      },
      "source": [
        "df[pd.isnull(df).any(axis=1)]"
      ],
      "execution_count": 8,
      "outputs": [
        {
          "output_type": "execute_result",
          "data": {
            "text/html": [
              "<div>\n",
              "<style scoped>\n",
              "    .dataframe tbody tr th:only-of-type {\n",
              "        vertical-align: middle;\n",
              "    }\n",
              "\n",
              "    .dataframe tbody tr th {\n",
              "        vertical-align: top;\n",
              "    }\n",
              "\n",
              "    .dataframe thead th {\n",
              "        text-align: right;\n",
              "    }\n",
              "</style>\n",
              "<table border=\"1\" class=\"dataframe\">\n",
              "  <thead>\n",
              "    <tr style=\"text-align: right;\">\n",
              "      <th></th>\n",
              "      <th>Assignment group</th>\n",
              "      <th>ProcessedDescription</th>\n",
              "    </tr>\n",
              "  </thead>\n",
              "  <tbody>\n",
              "    <tr>\n",
              "      <th>1556</th>\n",
              "      <td>GRP_0</td>\n",
              "      <td>NaN</td>\n",
              "    </tr>\n",
              "    <tr>\n",
              "      <th>2423</th>\n",
              "      <td>GRP_34</td>\n",
              "      <td>NaN</td>\n",
              "    </tr>\n",
              "  </tbody>\n",
              "</table>\n",
              "</div>"
            ],
            "text/plain": [
              "     Assignment group ProcessedDescription\n",
              "1556            GRP_0                  NaN\n",
              "2423           GRP_34                  NaN"
            ]
          },
          "metadata": {
            "tags": []
          },
          "execution_count": 8
        }
      ]
    },
    {
      "cell_type": "code",
      "metadata": {
        "id": "8g2sYEHRQhtP"
      },
      "source": [
        "df.dropna(subset = [\"ProcessedDescription\"], inplace=True)"
      ],
      "execution_count": 9,
      "outputs": []
    },
    {
      "cell_type": "code",
      "metadata": {
        "colab": {
          "base_uri": "https://localhost:8080/"
        },
        "id": "fyfdjKSpQhtQ",
        "outputId": "10141ce2-5012-4fd2-dbaf-ea225e6e37c1"
      },
      "source": [
        "df.isna().sum() "
      ],
      "execution_count": 10,
      "outputs": [
        {
          "output_type": "execute_result",
          "data": {
            "text/plain": [
              "Assignment group        0\n",
              "ProcessedDescription    0\n",
              "dtype: int64"
            ]
          },
          "metadata": {
            "tags": []
          },
          "execution_count": 10
        }
      ]
    },
    {
      "cell_type": "code",
      "metadata": {
        "colab": {
          "base_uri": "https://localhost:8080/"
        },
        "id": "e3vSKZbaQmYD",
        "outputId": "bf8d2b8c-0942-4a39-9dbc-2f88ce6ddfd7"
      },
      "source": [
        "df.ProcessedDescription.apply(lambda x: len(x.split(\" \"))).mean()"
      ],
      "execution_count": 11,
      "outputs": [
        {
          "output_type": "execute_result",
          "data": {
            "text/plain": [
              "23.47769489542197"
            ]
          },
          "metadata": {
            "tags": []
          },
          "execution_count": 11
        }
      ]
    },
    {
      "cell_type": "code",
      "metadata": {
        "colab": {
          "base_uri": "https://localhost:8080/"
        },
        "id": "RXrprvFTQhtQ",
        "outputId": "dace48e8-4206-4644-dd9f-c1858e497b10"
      },
      "source": [
        "words = []\n",
        "for i in df.ProcessedDescription.values:\n",
        "    words.append(i.split())\n",
        "words[:1]"
      ],
      "execution_count": 12,
      "outputs": [
        {
          "output_type": "execute_result",
          "data": {
            "text/plain": [
              "[['login',\n",
              "  'issue',\n",
              "  'verify',\n",
              "  'user',\n",
              "  'detail',\n",
              "  'employee',\n",
              "  'manager',\n",
              "  'name',\n",
              "  'check',\n",
              "  'user',\n",
              "  'name',\n",
              "  'ad',\n",
              "  'reset',\n",
              "  'password',\n",
              "  'advise',\n",
              "  'user',\n",
              "  'login',\n",
              "  'check',\n",
              "  'caller',\n",
              "  'confirm',\n",
              "  'able',\n",
              "  'login',\n",
              "  'issue',\n",
              "  'resolve']]"
            ]
          },
          "metadata": {
            "tags": []
          },
          "execution_count": 12
        }
      ]
    },
    {
      "cell_type": "code",
      "metadata": {
        "id": "WUoTVIlrQhtQ"
      },
      "source": [
        "tokenizer = text.Tokenizer(num_words=10000)\n",
        "tokenizer.fit_on_texts(words)\n",
        "tokenized_train = tokenizer.texts_to_sequences(words)"
      ],
      "execution_count": 13,
      "outputs": []
    },
    {
      "cell_type": "code",
      "metadata": {
        "id": "3xZKlqrRQhtR"
      },
      "source": [
        "X = sequence.pad_sequences(tokenized_train, maxlen = 25)"
      ],
      "execution_count": 14,
      "outputs": []
    },
    {
      "cell_type": "code",
      "metadata": {
        "colab": {
          "base_uri": "https://localhost:8080/"
        },
        "id": "zDtksoi_QhtR",
        "outputId": "cb7fe3ce-1125-4189-feec-e308efc31c14"
      },
      "source": [
        "tokenizer.word_index"
      ],
      "execution_count": 15,
      "outputs": [
        {
          "output_type": "execute_result",
          "data": {
            "text/plain": [
              "{'not': 1,\n",
              " 'please': 2,\n",
              " 'password': 3,\n",
              " 'yes': 4,\n",
              " 'erp': 5,\n",
              " 'tool': 6,\n",
              " 'user': 7,\n",
              " 'na': 8,\n",
              " 'company': 9,\n",
              " 'access': 10,\n",
              " 'issue': 11,\n",
              " 'work': 12,\n",
              " 'unable': 13,\n",
              " 'reset': 14,\n",
              " 'error': 15,\n",
              " 'email': 16,\n",
              " 'need': 17,\n",
              " 'sid': 18,\n",
              " 'ticket': 19,\n",
              " 'account': 20,\n",
              " 'hostname': 21,\n",
              " 'outlook': 22,\n",
              " 'site': 23,\n",
              " 'system': 24,\n",
              " 'get': 25,\n",
              " 'help': 26,\n",
              " 'job': 27,\n",
              " 'network': 28,\n",
              " 'circuit': 29,\n",
              " 'power': 30,\n",
              " 'name': 31,\n",
              " 'login': 32,\n",
              " 'message': 33,\n",
              " 'change': 34,\n",
              " 'use': 35,\n",
              " 'problem': 36,\n",
              " 'vendor': 37,\n",
              " 'server': 38,\n",
              " 'new': 39,\n",
              " 'printer': 40,\n",
              " 'open': 41,\n",
              " 'see': 42,\n",
              " 'connect': 43,\n",
              " 'log': 44,\n",
              " 'backup': 45,\n",
              " 'phone': 46,\n",
              " 'time': 47,\n",
              " 'event': 48,\n",
              " 'crm': 49,\n",
              " 'start': 50,\n",
              " 'engineering': 51,\n",
              " 'usa': 52,\n",
              " 'call': 53,\n",
              " 'check': 54,\n",
              " 'telecom': 55,\n",
              " 'order': 56,\n",
              " 'request': 57,\n",
              " 'able': 58,\n",
              " 'vpn': 59,\n",
              " 'report': 60,\n",
              " 'team': 61,\n",
              " 'update': 62,\n",
              " 'outage': 63,\n",
              " 'number': 64,\n",
              " 'type': 65,\n",
              " 'send': 66,\n",
              " 'customer': 67,\n",
              " 'skype': 68,\n",
              " 'device': 69,\n",
              " 'try': 70,\n",
              " 'print': 71,\n",
              " 'contact': 72,\n",
              " 'plant': 73,\n",
              " 'file': 74,\n",
              " 'since': 75,\n",
              " 'create': 76,\n",
              " 'best': 77,\n",
              " 'lock': 78,\n",
              " 'computer': 79,\n",
              " 'inside': 80,\n",
              " 'connection': 81,\n",
              " 'et': 82,\n",
              " 'data': 83,\n",
              " 'show': 84,\n",
              " 'fail': 85,\n",
              " 'platform': 86,\n",
              " 'collaboration': 87,\n",
              " 'manager': 88,\n",
              " 'software': 89,\n",
              " 'microsoft': 90,\n",
              " 'schedule': 91,\n",
              " 'information': 92,\n",
              " 'notify': 93,\n",
              " 'maintenance': 94,\n",
              " 'summary': 95,\n",
              " 'laptop': 96,\n",
              " 'management': 97,\n",
              " 'service': 98,\n",
              " 'add': 99,\n",
              " 'mailto': 100,\n",
              " 'sale': 101,\n",
              " 'screen': 102,\n",
              " 'internet': 103,\n",
              " 'scheduler': 104,\n",
              " 'provider': 105,\n",
              " 'cert': 106,\n",
              " 'production': 107,\n",
              " 'maint': 108,\n",
              " 'tcp': 109,\n",
              " 'mail': 110,\n",
              " 'follow': 111,\n",
              " 'window': 112,\n",
              " 'group': 113,\n",
              " 'application': 114,\n",
              " 'attach': 115,\n",
              " 'unlock': 116,\n",
              " 'office': 117,\n",
              " 'delivery': 118,\n",
              " 'asa': 119,\n",
              " 'language': 120,\n",
              " 'run': 121,\n",
              " 'find': 122,\n",
              " 'agent': 123,\n",
              " 'available': 124,\n",
              " 'could': 125,\n",
              " 'global': 126,\n",
              " 'detail': 127,\n",
              " 'germany': 128,\n",
              " 'business': 129,\n",
              " 'also': 130,\n",
              " 'address': 131,\n",
              " 'deny': 132,\n",
              " 'folder': 133,\n",
              " 'one': 134,\n",
              " 'via': 135,\n",
              " 'remote': 136,\n",
              " 'block': 137,\n",
              " 'employee': 138,\n",
              " 'explorer': 139,\n",
              " 'active': 140,\n",
              " 'process': 141,\n",
              " 'space': 142,\n",
              " 'browser': 143,\n",
              " 'resolve': 144,\n",
              " 'dear': 145,\n",
              " 'drive': 146,\n",
              " 'enter': 147,\n",
              " 'client': 148,\n",
              " 'set': 149,\n",
              " 'source': 150,\n",
              " 'view': 151,\n",
              " 'telephone': 152,\n",
              " 'provide': 153,\n",
              " 'link': 154,\n",
              " 'uacyltoe': 155,\n",
              " 'install': 156,\n",
              " 'inwarehouse': 157,\n",
              " 'portal': 158,\n",
              " 'note': 159,\n",
              " 'know': 160,\n",
              " 'complete': 161,\n",
              " 'document': 162,\n",
              " 'go': 163,\n",
              " 'require': 164,\n",
              " 'interface': 165,\n",
              " 'alert': 166,\n",
              " 'gsc': 167,\n",
              " 'src': 168,\n",
              " 'dst': 169,\n",
              " 'status': 170,\n",
              " 'location': 171,\n",
              " 'code': 172,\n",
              " 'back': 173,\n",
              " 'port': 174,\n",
              " 'would': 175,\n",
              " 'sep': 176,\n",
              " 'additional': 177,\n",
              " 'receive': 178,\n",
              " 'mobile': 179,\n",
              " 'list': 180,\n",
              " 'inc': 181,\n",
              " 'acl': 182,\n",
              " 'top': 183,\n",
              " 'hxgaycze': 184,\n",
              " 'outside': 185,\n",
              " 'possible': 186,\n",
              " 'monitor': 187,\n",
              " 'specify': 188,\n",
              " 'let': 189,\n",
              " 'load': 190,\n",
              " 'still': 191,\n",
              " 'dial': 192,\n",
              " 'slow': 193,\n",
              " 'support': 194,\n",
              " 'setup': 195,\n",
              " 'host': 196,\n",
              " 'page': 197,\n",
              " 'telephony': 198,\n",
              " 'equipment': 199,\n",
              " 'look': 200,\n",
              " 'day': 201,\n",
              " 'make': 202,\n",
              " 'delete': 203,\n",
              " 'like': 204,\n",
              " 'material': 205,\n",
              " 'nwfodmhc': 206,\n",
              " 'exurcwkm': 207,\n",
              " 'center': 208,\n",
              " 'attachment': 209,\n",
              " 'good': 210,\n",
              " 'app': 211,\n",
              " 'may': 212,\n",
              " 'verified': 213,\n",
              " 'item': 214,\n",
              " 'disk': 215,\n",
              " 'diagnostics': 216,\n",
              " 'confirm': 217,\n",
              " 'verizon': 218,\n",
              " 'fix': 219,\n",
              " 'date': 220,\n",
              " 'urgent': 221,\n",
              " 'machine': 222,\n",
              " 'advise': 223,\n",
              " 'want': 224,\n",
              " 'kindly': 225,\n",
              " 'ethic': 226,\n",
              " 'today': 227,\n",
              " 'high': 228,\n",
              " 'e': 229,\n",
              " 'aug': 230,\n",
              " 'expense': 231,\n",
              " 'f': 232,\n",
              " 'no': 233,\n",
              " 'display': 234,\n",
              " 'take': 235,\n",
              " 'destination': 236,\n",
              " 'morning': 237,\n",
              " 'click': 238,\n",
              " 'come': 239,\n",
              " 'miss': 240,\n",
              " 'driver': 241,\n",
              " 'security': 242,\n",
              " 'notification': 243,\n",
              " 'incident': 244,\n",
              " 'pc': 245,\n",
              " 'excel': 246,\n",
              " 'internal': 247,\n",
              " 'priority': 248,\n",
              " 'meeting': 249,\n",
              " 'assign': 250,\n",
              " 'old': 251,\n",
              " 'due': 252,\n",
              " 'per': 253,\n",
              " 'approve': 254,\n",
              " 'query': 255,\n",
              " 'give': 256,\n",
              " 'mii': 257,\n",
              " 'september': 258,\n",
              " 'windows': 259,\n",
              " 'label': 260,\n",
              " 'full': 261,\n",
              " 'correct': 262,\n",
              " 'total': 263,\n",
              " 'save': 264,\n",
              " 'submit': 265,\n",
              " 'sign': 266,\n",
              " 'apac': 267,\n",
              " 'august': 268,\n",
              " 'mit': 269,\n",
              " 'pls': 270,\n",
              " 'say': 271,\n",
              " 'india': 272,\n",
              " 'transaction': 273,\n",
              " 'action': 274,\n",
              " 'http': 275,\n",
              " 'last': 276,\n",
              " 'version': 277,\n",
              " 'october': 278,\n",
              " 'iphone': 279,\n",
              " 'wifi': 280,\n",
              " 'exe': 281,\n",
              " 'keep': 282,\n",
              " 'switch': 283,\n",
              " 'post': 284,\n",
              " 'ship': 285,\n",
              " 'vip': 286,\n",
              " 'product': 287,\n",
              " 'scan': 288,\n",
              " 'download': 289,\n",
              " 'consume': 290,\n",
              " 'volume': 291,\n",
              " 'form': 292,\n",
              " 'wrong': 293,\n",
              " 'dell': 294,\n",
              " 'line': 295,\n",
              " 'medium': 296,\n",
              " 'appear': 297,\n",
              " 'search': 298,\n",
              " 'installation': 299,\n",
              " 'share': 300,\n",
              " 'select': 301,\n",
              " 'model': 302,\n",
              " 'ask': 303,\n",
              " 'count': 304,\n",
              " 'purchase': 305,\n",
              " 'field': 306,\n",
              " 'instal': 307,\n",
              " 'supply': 308,\n",
              " 'option': 309,\n",
              " 'content': 310,\n",
              " 'distributor': 311,\n",
              " 'logon': 312,\n",
              " 'external': 313,\n",
              " 'warehouse': 314,\n",
              " 'respond': 315,\n",
              " 'defective': 316,\n",
              " 'audio': 317,\n",
              " 'net': 318,\n",
              " 'etc': 319,\n",
              " 'c': 320,\n",
              " 'question': 321,\n",
              " 'close': 322,\n",
              " 'local': 323,\n",
              " 'restart': 324,\n",
              " 'automatically': 325,\n",
              " 'web': 326,\n",
              " 'exchange': 327,\n",
              " 'generate': 328,\n",
              " 'remove': 329,\n",
              " 'two': 330,\n",
              " 'impact': 331,\n",
              " 'transfer': 332,\n",
              " 'multiple': 333,\n",
              " 'hana': 334,\n",
              " 'longer': 335,\n",
              " 'programdnty': 336,\n",
              " 'person': 337,\n",
              " 'week': 338,\n",
              " 'move': 339,\n",
              " 'communication': 340,\n",
              " 'hub': 341,\n",
              " 'price': 342,\n",
              " 'screenshot': 343,\n",
              " 'many': 344,\n",
              " 'certificate': 345,\n",
              " 'review': 346,\n",
              " 'traffic': 347,\n",
              " 'expire': 348,\n",
              " 'sto': 349,\n",
              " 'plm': 350,\n",
              " 'copy': 351,\n",
              " 'response': 352,\n",
              " 'happen': 353,\n",
              " 'distribution': 354,\n",
              " 'stop': 355,\n",
              " 'seem': 356,\n",
              " 'attached': 357,\n",
              " 'cost': 358,\n",
              " 'domain': 359,\n",
              " 'default': 360,\n",
              " 'sir': 361,\n",
              " 'result': 362,\n",
              " 'pdf': 363,\n",
              " 'even': 364,\n",
              " 'return': 365,\n",
              " 'kind': 366,\n",
              " 'fine': 367,\n",
              " 'shot': 368,\n",
              " 'upgrade': 369,\n",
              " 'handle': 370,\n",
              " 'b': 371,\n",
              " 'pcap': 372,\n",
              " 'allow': 373,\n",
              " 'aerp': 374,\n",
              " 'attempt': 375,\n",
              " 'assist': 376,\n",
              " 'finance': 377,\n",
              " 'online': 378,\n",
              " 'failure': 379,\n",
              " 'quote': 380,\n",
              " 'home': 381,\n",
              " 'g': 382,\n",
              " 'stock': 383,\n",
              " 'admin': 384,\n",
              " 'sync': 385,\n",
              " 'prompt': 386,\n",
              " 'hard': 387,\n",
              " 'every': 388,\n",
              " 'already': 389,\n",
              " 'prod': 390,\n",
              " 'currently': 391,\n",
              " 'desktop': 392,\n",
              " 'month': 393,\n",
              " 'end': 394,\n",
              " 'blank': 395,\n",
              " 'tax': 396,\n",
              " 'another': 397,\n",
              " 'friday': 398,\n",
              " 'lean': 399,\n",
              " 'correctly': 400,\n",
              " 'personal': 401,\n",
              " 'netweaver': 402,\n",
              " 'bex': 403,\n",
              " 'analysis': 404,\n",
              " 'chain': 405,\n",
              " 'function': 406,\n",
              " 'bobj': 407,\n",
              " 'reporting': 408,\n",
              " 'abended': 409,\n",
              " 'indicate': 410,\n",
              " 'wireless': 411,\n",
              " 'teamviewer': 412,\n",
              " 'activation': 413,\n",
              " 'several': 414,\n",
              " 'eu': 415,\n",
              " 'r': 416,\n",
              " 'department': 417,\n",
              " 'example': 418,\n",
              " 'desk': 419,\n",
              " 'ewew': 420,\n",
              " 'sent': 421,\n",
              " 'yesterday': 422,\n",
              " 'exist': 423,\n",
              " 'rule': 424,\n",
              " 'website': 425,\n",
              " 'hour': 426,\n",
              " 'es': 427,\n",
              " 'without': 428,\n",
              " 'record': 429,\n",
              " 'approval': 430,\n",
              " 'workflow': 431,\n",
              " 'project': 432,\n",
              " 'write': 433,\n",
              " 'database': 434,\n",
              " 'sincerely': 435,\n",
              " 'hr': 436,\n",
              " 'area': 437,\n",
              " 'next': 438,\n",
              " 'monday': 439,\n",
              " 'turn': 440,\n",
              " 'read': 441,\n",
              " 'reference': 442,\n",
              " 'caller': 443,\n",
              " 'setting': 444,\n",
              " 'java': 445,\n",
              " 'right': 446,\n",
              " 'hrp': 447,\n",
              " 'interaction': 448,\n",
              " 'long': 449,\n",
              " 'refer': 450,\n",
              " 'value': 451,\n",
              " 'well': 452,\n",
              " 'floor': 453,\n",
              " 'launch': 454,\n",
              " 'related': 455,\n",
              " 'cause': 456,\n",
              " 'output': 457,\n",
              " 'plan': 458,\n",
              " 'daily': 459,\n",
              " 'license': 460,\n",
              " 'sure': 461,\n",
              " 'guest': 462,\n",
              " 'solve': 463,\n",
              " 'vid': 464,\n",
              " 'calendar': 465,\n",
              " 'incorrect': 466,\n",
              " 'rtr': 467,\n",
              " 'restore': 468,\n",
              " 'shop': 469,\n",
              " 'south': 470,\n",
              " 'condition': 471,\n",
              " 'us': 472,\n",
              " 'occurrence': 473,\n",
              " 'reason': 474,\n",
              " 'case': 475,\n",
              " 'extend': 476,\n",
              " 'primary': 477,\n",
              " 'do': 478,\n",
              " 'forward': 479,\n",
              " 'activity': 480,\n",
              " 'release': 481,\n",
              " 'accept': 482,\n",
              " 'investigate': 483,\n",
              " 'current': 484,\n",
              " 'locate': 485,\n",
              " 'reboot': 486,\n",
              " 'boot': 487,\n",
              " 'explicit': 488,\n",
              " 'drawing': 489,\n",
              " 'gso': 490,\n",
              " 'directory': 491,\n",
              " 'enable': 492,\n",
              " 'someone': 493,\n",
              " 'inbound': 494,\n",
              " 'procedure': 495,\n",
              " 'free': 496,\n",
              " 'dynamic': 497,\n",
              " 'replace': 498,\n",
              " 'disconnect': 499,\n",
              " 'tab': 500,\n",
              " 'box': 501,\n",
              " 'state': 502,\n",
              " 'first': 503,\n",
              " 'discount': 504,\n",
              " 'mailbox': 505,\n",
              " 'dsw': 506,\n",
              " 'control': 507,\n",
              " 'batch': 508,\n",
              " 'renew': 509,\n",
              " 'flag': 510,\n",
              " 'inspector': 511,\n",
              " 'ad': 512,\n",
              " 'configure': 513,\n",
              " 'engineer': 514,\n",
              " 'description': 515,\n",
              " 'outbound': 516,\n",
              " 'thank': 517,\n",
              " 'include': 518,\n",
              " 'partner': 519,\n",
              " 'sender': 520,\n",
              " 'ping': 521,\n",
              " 'packet': 522,\n",
              " 'either': 523,\n",
              " 'card': 524,\n",
              " 'attendance': 525,\n",
              " 'different': 526,\n",
              " 'supervisor': 527,\n",
              " 'join': 528,\n",
              " 'lhqksbdx': 529,\n",
              " 'duration': 530,\n",
              " 'pick': 531,\n",
              " 'reach': 532,\n",
              " 'immediately': 533,\n",
              " 'confidential': 534,\n",
              " 'dev': 535,\n",
              " 'balance': 536,\n",
              " 'nicht': 537,\n",
              " 'organization': 538,\n",
              " 'correlation': 539,\n",
              " 'sound': 540,\n",
              " 'recipient': 541,\n",
              " 'org': 542,\n",
              " 'word': 543,\n",
              " 'room': 544,\n",
              " 'tuesday': 545,\n",
              " 'operation': 546,\n",
              " 'win': 547,\n",
              " 'threshold': 548,\n",
              " 'entry': 549,\n",
              " 'step': 550,\n",
              " 'regard': 551,\n",
              " 'username': 552,\n",
              " 'etime': 553,\n",
              " 'lose': 554,\n",
              " 'authorize': 555,\n",
              " 'mention': 556,\n",
              " 'www': 557,\n",
              " 'detect': 558,\n",
              " 'welcome': 559,\n",
              " 'scanner': 560,\n",
              " 'probleme': 561,\n",
              " 'repair': 562,\n",
              " 'amerirtca': 563,\n",
              " 'reinstall': 564,\n",
              " 'concern': 565,\n",
              " 'importance': 566,\n",
              " 'freundlichen': 567,\n",
              " 'ascii': 568,\n",
              " 'hex': 569,\n",
              " 'button': 570,\n",
              " 'occur': 571,\n",
              " 'permission': 572,\n",
              " 'repeat': 573,\n",
              " 'soon': 574,\n",
              " 'warn': 575,\n",
              " 'intend': 576,\n",
              " 'lan': 577,\n",
              " 'draw': 578,\n",
              " 'however': 579,\n",
              " 'assignment': 580,\n",
              " 'administrator': 581,\n",
              " 'station': 582,\n",
              " 'image': 583,\n",
              " 'wednesday': 584,\n",
              " 'sample': 585,\n",
              " 'israel': 586,\n",
              " 'upload': 587,\n",
              " 'director': 588,\n",
              " 'within': 589,\n",
              " 'node': 590,\n",
              " 'thursday': 591,\n",
              " 'blue': 592,\n",
              " 'credential': 593,\n",
              " 'must': 594,\n",
              " 'configuration': 595,\n",
              " 'pop': 596,\n",
              " 'relay': 597,\n",
              " 'disable': 598,\n",
              " 'nothing': 599,\n",
              " 'freeze': 600,\n",
              " 'temporarily': 601,\n",
              " 'activate': 602,\n",
              " 'continue': 603,\n",
              " 'face': 604,\n",
              " 'future': 605,\n",
              " 'minute': 606,\n",
              " 'dock': 607,\n",
              " 'dhcpd': 608,\n",
              " 'dhcpack': 609,\n",
              " 'eth': 610,\n",
              " 'lease': 611,\n",
              " 'udp': 612,\n",
              " 'soc': 613,\n",
              " 'point': 614,\n",
              " 'reply': 615,\n",
              " 'shipment': 616,\n",
              " 'profile': 617,\n",
              " 'cell': 618,\n",
              " 'perform': 619,\n",
              " 'technical': 620,\n",
              " 'gmbh': 621,\n",
              " 'battery': 622,\n",
              " 'critical': 623,\n",
              " 'needful': 624,\n",
              " 'object': 625,\n",
              " 'always': 626,\n",
              " 'travel': 627,\n",
              " 'confirmation': 628,\n",
              " 'tracker': 629,\n",
              " 'en': 630,\n",
              " 'bitte': 631,\n",
              " 'rakthyesh': 632,\n",
              " 'hear': 633,\n",
              " 'lhqsm': 634,\n",
              " 'android': 635,\n",
              " 'anymore': 636,\n",
              " 'part': 637,\n",
              " 'train': 638,\n",
              " 'pull': 639,\n",
              " 'crash': 640,\n",
              " 'effective': 641,\n",
              " 'replacement': 642,\n",
              " 'german': 643,\n",
              " 'recently': 644,\n",
              " 'und': 645,\n",
              " 'operator': 646,\n",
              " 'purpose': 647,\n",
              " 'deployment': 648,\n",
              " 'artlgeo': 649,\n",
              " 'jul': 650,\n",
              " 'icmp': 651,\n",
              " 'verify': 652,\n",
              " 'tell': 653,\n",
              " 'colleague': 654,\n",
              " 'text': 655,\n",
              " 'notice': 656,\n",
              " 'something': 657,\n",
              " 'spam': 658,\n",
              " 'instance': 659,\n",
              " 'netbios': 660,\n",
              " 'warning': 661,\n",
              " 'average': 662,\n",
              " 'contain': 663,\n",
              " 'resource': 664,\n",
              " 'dmvpn': 665,\n",
              " 'tried': 666,\n",
              " 'valid': 667,\n",
              " 'properly': 668,\n",
              " 'info': 669,\n",
              " 'bit': 670,\n",
              " 'ist': 671,\n",
              " 'flash': 672,\n",
              " 'alternate': 673,\n",
              " 'manually': 674,\n",
              " 'affect': 675,\n",
              " 'side': 676,\n",
              " 'hxgayczeing': 677,\n",
              " 'performance': 678,\n",
              " 'key': 679,\n",
              " 'describe': 680,\n",
              " 'delegate': 681,\n",
              " 'financial': 682,\n",
              " 'latitude': 683,\n",
              " 'protocol': 684,\n",
              " 'escalation': 685,\n",
              " 'syn': 686,\n",
              " 'session': 687,\n",
              " 'original': 688,\n",
              " 'base': 689,\n",
              " 'leave': 690,\n",
              " 'english': 691,\n",
              " 'directly': 692,\n",
              " 'p': 693,\n",
              " 'firewall': 694,\n",
              " 'ess': 695,\n",
              " 'tablet': 696,\n",
              " 'basis': 697,\n",
              " 'experience': 698,\n",
              " 'cancel': 699,\n",
              " 'disclaimer': 700,\n",
              " 'bkwin': 701,\n",
              " 'member': 702,\n",
              " 'refresh': 703,\n",
              " 'past': 704,\n",
              " 'est': 705,\n",
              " 'own': 706,\n",
              " 'synchronize': 707,\n",
              " 'quality': 708,\n",
              " 'mouse': 709,\n",
              " 'task': 710,\n",
              " 'dwfiykeo': 711,\n",
              " 'argtxmvcumar': 712,\n",
              " 'rth': 713,\n",
              " 'authorization': 714,\n",
              " 'drop': 715,\n",
              " 'dat': 716,\n",
              " 'video': 717,\n",
              " 'die': 718,\n",
              " 'billing': 719,\n",
              " 'sle': 720,\n",
              " 'way': 721,\n",
              " 'mistake': 722,\n",
              " 'msd': 723,\n",
              " 'course': 724,\n",
              " 'place': 725,\n",
              " 'environment': 726,\n",
              " 'mfg': 727,\n",
              " 'rerouted': 728,\n",
              " 'k': 729,\n",
              " 'put': 730,\n",
              " 'm': 731,\n",
              " 'escalate': 732,\n",
              " 'termination': 733,\n",
              " 'bank': 734,\n",
              " 'antivirus': 735,\n",
              " 'vlan': 736,\n",
              " 'rpc': 737,\n",
              " 'directionality': 738,\n",
              " 'scwx': 739,\n",
              " 'sherlock': 740,\n",
              " 'sinkhole': 741,\n",
              " 'single': 742,\n",
              " 'failed': 743,\n",
              " 'po': 744,\n",
              " 'assistance': 745,\n",
              " 'conversation': 746,\n",
              " 'wu': 747,\n",
              " 'mpls': 748,\n",
              " 'amount': 749,\n",
              " 'charge': 750,\n",
              " 'instead': 751,\n",
              " 'symantec': 752,\n",
              " 'payment': 753,\n",
              " 'conference': 754,\n",
              " 'archive': 755,\n",
              " 'asset': 756,\n",
              " 'utc': 757,\n",
              " 'urgently': 758,\n",
              " 'paper': 759,\n",
              " 'applicable': 760,\n",
              " 'mode': 761,\n",
              " 'map': 762,\n",
              " 'yet': 763,\n",
              " 'general': 764,\n",
              " 'id': 765,\n",
              " 'bad': 766,\n",
              " 'register': 767,\n",
              " 'expect': 768,\n",
              " 'score': 769,\n",
              " 'php': 770,\n",
              " 'corresponding': 771,\n",
              " 'non': 772,\n",
              " 'gigabitethernet': 773,\n",
              " 'bkbackup': 774,\n",
              " 'manage': 775,\n",
              " 'law': 776,\n",
              " 'master': 777,\n",
              " 'shortly': 778,\n",
              " 'visitor': 779,\n",
              " 'training': 780,\n",
              " 'mikhghytr': 781,\n",
              " 'pricing': 782,\n",
              " 'receipt': 783,\n",
              " 'url': 784,\n",
              " 'inform': 785,\n",
              " 'deu': 786,\n",
              " 'der': 787,\n",
              " 'von': 788,\n",
              " 'think': 789,\n",
              " 'conversion': 790,\n",
              " 'incoming': 791,\n",
              " 'differently': 792,\n",
              " 'activesync': 793,\n",
              " 'fastethernet': 794,\n",
              " 'strictly': 795,\n",
              " 'prohibit': 796,\n",
              " 'bill': 797,\n",
              " 'unlocked': 798,\n",
              " 'tag': 799,\n",
              " 'cookie': 800,\n",
              " 'none': 801,\n",
              " 'citrix': 802,\n",
              " 'terminate': 803,\n",
              " 'least': 804,\n",
              " 'dashbankrd': 805,\n",
              " 'infopath': 806,\n",
              " 'ramdntythanjesh': 807,\n",
              " 'inplant': 808,\n",
              " 'speaker': 809,\n",
              " 'stack': 810,\n",
              " 'usb': 811,\n",
              " 'null': 812,\n",
              " 'utilization': 813,\n",
              " 'comment': 814,\n",
              " 'locked': 815,\n",
              " 'printing': 816,\n",
              " 'command': 817,\n",
              " 'path': 818,\n",
              " 'saturday': 819,\n",
              " 'size': 820,\n",
              " 'credit': 821,\n",
              " 'inquiry': 822,\n",
              " 'owner': 823,\n",
              " 'edit': 824,\n",
              " 'unit': 825,\n",
              " 'book': 826,\n",
              " 'awyl': 827,\n",
              " 'inbox': 828,\n",
              " 'quantity': 829,\n",
              " 'light': 830,\n",
              " 'icon': 831,\n",
              " 'virus': 832,\n",
              " 'vulnerability': 833,\n",
              " 'tomorrow': 834,\n",
              " 'queue': 835,\n",
              " 'markhtyeting': 836,\n",
              " 'match': 837,\n",
              " 'format': 838,\n",
              " 'keybankrd': 839,\n",
              " 'ensure': 840,\n",
              " 'method': 841,\n",
              " 'sql': 842,\n",
              " 'table': 843,\n",
              " 'year': 844,\n",
              " 'early': 845,\n",
              " 'input': 846,\n",
              " 'anything': 847,\n",
              " 'moment': 848,\n",
              " 'forget': 849,\n",
              " 'solution': 850,\n",
              " 'pgi': 851,\n",
              " 'userid': 852,\n",
              " 'shut': 853,\n",
              " 'visible': 854,\n",
              " 'ontology': 855,\n",
              " 'player': 856,\n",
              " 'ie': 857,\n",
              " 'pay': 858,\n",
              " 'trouble': 859,\n",
              " 'controller': 860,\n",
              " 'disclosure': 861,\n",
              " 'connectivity': 862,\n",
              " 'azure': 863,\n",
              " 'ind': 864,\n",
              " 'award': 865,\n",
              " 'people': 866,\n",
              " 'offline': 867,\n",
              " 'cable': 868,\n",
              " 'den': 869,\n",
              " 'piece': 870,\n",
              " 'recreate': 871,\n",
              " 'nsu': 872,\n",
              " 'empty': 873,\n",
              " 'qty': 874,\n",
              " 'amar': 875,\n",
              " 'cache': 876,\n",
              " 'patch': 877,\n",
              " 'geolocation': 878,\n",
              " 'companysecure': 879,\n",
              " 'n': 880,\n",
              " 'apo': 881,\n",
              " 'sys': 882,\n",
              " 'hang': 883,\n",
              " 'viewer': 884,\n",
              " 'clear': 885,\n",
              " 'lead': 886,\n",
              " 'quarantine': 887,\n",
              " 'clock': 888,\n",
              " 'behalf': 889,\n",
              " 'warm': 890,\n",
              " 'carrier': 891,\n",
              " 'necessary': 892,\n",
              " 'thing': 893,\n",
              " 'router': 894,\n",
              " 'validate': 895,\n",
              " 'rout': 896,\n",
              " 'european': 897,\n",
              " 'tiyhum': 898,\n",
              " 'kuyiomar': 899,\n",
              " 'role': 900,\n",
              " 'de': 901,\n",
              " 'classification': 902,\n",
              " 'ger': 903,\n",
              " 'proto': 904,\n",
              " 'att': 905,\n",
              " 'handling': 906,\n",
              " 'oracle': 907,\n",
              " 'lot': 908,\n",
              " 'oct': 909,\n",
              " 'agreement': 910,\n",
              " 'onto': 911,\n",
              " 'ltd': 912,\n",
              " 'plug': 913,\n",
              " 'complaint': 914,\n",
              " 'aborted': 915,\n",
              " 'owa': 916,\n",
              " 'doc': 917,\n",
              " 'adobe': 918,\n",
              " 'drucker': 919,\n",
              " 'extension': 920,\n",
              " 'cv': 921,\n",
              " 'overview': 922,\n",
              " 'package': 923,\n",
              " 'worm': 924,\n",
              " 'second': 925,\n",
              " 'recall': 926,\n",
              " 'chn': 927,\n",
              " 'vitalyst': 928,\n",
              " 'screenshots': 929,\n",
              " 'consider': 930,\n",
              " 'fill': 931,\n",
              " 'stick': 932,\n",
              " 'inventory': 933,\n",
              " 'quick': 934,\n",
              " 'determine': 935,\n",
              " 'sensor': 936,\n",
              " 'facility': 937,\n",
              " 'isensor': 938,\n",
              " 'cpu': 939,\n",
              " 'tel': 940,\n",
              " 'identify': 941,\n",
              " 'hcm': 942,\n",
              " 'meet': 943,\n",
              " 'weekly': 944,\n",
              " 'previous': 945,\n",
              " 'successfully': 946,\n",
              " 'build': 947,\n",
              " 'whenever': 948,\n",
              " 'policy': 949,\n",
              " 'frequent': 950,\n",
              " 'exempt': 951,\n",
              " 'alicona': 952,\n",
              " 'updated': 953,\n",
              " 'true': 954,\n",
              " 'deliver': 955,\n",
              " 'around': 956,\n",
              " 'appreciate': 957,\n",
              " 'configair': 958,\n",
              " 'finish': 959,\n",
              " 'target': 960,\n",
              " 'arrange': 961,\n",
              " 'lockout': 962,\n",
              " 'noise': 963,\n",
              " 'senior': 964,\n",
              " 'catalog': 965,\n",
              " 'important': 966,\n",
              " 'sorry': 967,\n",
              " 'level': 968,\n",
              " 'qlhmawgi': 969,\n",
              " 'secondary': 970,\n",
              " 'russia': 971,\n",
              " 'template': 972,\n",
              " 'barcode': 973,\n",
              " 'consultant': 974,\n",
              " 'picture': 975,\n",
              " 'public': 976,\n",
              " 'lauacyltoe': 977,\n",
              " 'tooltion': 978,\n",
              " 'ap': 979,\n",
              " 'kirty': 980,\n",
              " 'noris': 981,\n",
              " 'infected': 982,\n",
              " 'ago': 983,\n",
              " 'gui': 984,\n",
              " 'stay': 985,\n",
              " 'matheywter': 986,\n",
              " 'extract': 987,\n",
              " 'standard': 988,\n",
              " 'observe': 989,\n",
              " 'monitoring': 990,\n",
              " 'mm': 991,\n",
              " 'apply': 992,\n",
              " 'everything': 993,\n",
              " 'unavailable': 994,\n",
              " 'asia': 995,\n",
              " 'though': 996,\n",
              " 'dns': 997,\n",
              " 'min': 998,\n",
              " 'zip': 999,\n",
              " 'instruction': 1000,\n",
              " ...}"
            ]
          },
          "metadata": {
            "tags": []
          },
          "execution_count": 15
        }
      ]
    },
    {
      "cell_type": "code",
      "metadata": {
        "colab": {
          "base_uri": "https://localhost:8080/"
        },
        "id": "Hqp9FHikQhtR",
        "outputId": "9b4c1ba4-6680-4164-9a8b-ce46a9168eab"
      },
      "source": [
        "vocab_size = len(tokenizer.word_index) + 1\n",
        "print(vocab_size)"
      ],
      "execution_count": 16,
      "outputs": [
        {
          "output_type": "stream",
          "text": [
            "10162\n"
          ],
          "name": "stdout"
        }
      ]
    },
    {
      "cell_type": "code",
      "metadata": {
        "id": "fXdOJBnzQhtR"
      },
      "source": [
        "group_frequency = dict(df['Assignment group'].value_counts())"
      ],
      "execution_count": 17,
      "outputs": []
    },
    {
      "cell_type": "code",
      "metadata": {
        "colab": {
          "base_uri": "https://localhost:8080/",
          "height": 491
        },
        "id": "hlr4kw--QhtR",
        "outputId": "f52aea0f-d3e8-45e7-af68-79e9e889e0c5"
      },
      "source": [
        "group_df = pd.DataFrame.from_dict(group_frequency, orient='index', columns=['frequency'])\n",
        "group_df['percent representation'] = group_df['frequency'] / group_df['frequency'].sum()\n",
        "group_df['cumulative percentage'] = group_df['percent representation'].cumsum(axis = 0)\n",
        "group_df.head(15)"
      ],
      "execution_count": 18,
      "outputs": [
        {
          "output_type": "execute_result",
          "data": {
            "text/html": [
              "<div>\n",
              "<style scoped>\n",
              "    .dataframe tbody tr th:only-of-type {\n",
              "        vertical-align: middle;\n",
              "    }\n",
              "\n",
              "    .dataframe tbody tr th {\n",
              "        vertical-align: top;\n",
              "    }\n",
              "\n",
              "    .dataframe thead th {\n",
              "        text-align: right;\n",
              "    }\n",
              "</style>\n",
              "<table border=\"1\" class=\"dataframe\">\n",
              "  <thead>\n",
              "    <tr style=\"text-align: right;\">\n",
              "      <th></th>\n",
              "      <th>frequency</th>\n",
              "      <th>percent representation</th>\n",
              "      <th>cumulative percentage</th>\n",
              "    </tr>\n",
              "  </thead>\n",
              "  <tbody>\n",
              "    <tr>\n",
              "      <th>GRP_0</th>\n",
              "      <td>3199</td>\n",
              "      <td>0.467895</td>\n",
              "      <td>0.467895</td>\n",
              "    </tr>\n",
              "    <tr>\n",
              "      <th>GRP_8</th>\n",
              "      <td>313</td>\n",
              "      <td>0.045780</td>\n",
              "      <td>0.513676</td>\n",
              "    </tr>\n",
              "    <tr>\n",
              "      <th>GRP_24</th>\n",
              "      <td>277</td>\n",
              "      <td>0.040515</td>\n",
              "      <td>0.554190</td>\n",
              "    </tr>\n",
              "    <tr>\n",
              "      <th>GRP_12</th>\n",
              "      <td>243</td>\n",
              "      <td>0.035542</td>\n",
              "      <td>0.589732</td>\n",
              "    </tr>\n",
              "    <tr>\n",
              "      <th>GRP_2</th>\n",
              "      <td>238</td>\n",
              "      <td>0.034811</td>\n",
              "      <td>0.624543</td>\n",
              "    </tr>\n",
              "    <tr>\n",
              "      <th>GRP_19</th>\n",
              "      <td>212</td>\n",
              "      <td>0.031008</td>\n",
              "      <td>0.655551</td>\n",
              "    </tr>\n",
              "    <tr>\n",
              "      <th>GRP_3</th>\n",
              "      <td>198</td>\n",
              "      <td>0.028960</td>\n",
              "      <td>0.684511</td>\n",
              "    </tr>\n",
              "    <tr>\n",
              "      <th>GRP_13</th>\n",
              "      <td>141</td>\n",
              "      <td>0.020623</td>\n",
              "      <td>0.705134</td>\n",
              "    </tr>\n",
              "    <tr>\n",
              "      <th>GRP_25</th>\n",
              "      <td>116</td>\n",
              "      <td>0.016967</td>\n",
              "      <td>0.722100</td>\n",
              "    </tr>\n",
              "    <tr>\n",
              "      <th>GRP_14</th>\n",
              "      <td>116</td>\n",
              "      <td>0.016967</td>\n",
              "      <td>0.739067</td>\n",
              "    </tr>\n",
              "    <tr>\n",
              "      <th>GRP_33</th>\n",
              "      <td>107</td>\n",
              "      <td>0.015650</td>\n",
              "      <td>0.754717</td>\n",
              "    </tr>\n",
              "    <tr>\n",
              "      <th>GRP_4</th>\n",
              "      <td>96</td>\n",
              "      <td>0.014041</td>\n",
              "      <td>0.768758</td>\n",
              "    </tr>\n",
              "    <tr>\n",
              "      <th>GRP_29</th>\n",
              "      <td>95</td>\n",
              "      <td>0.013895</td>\n",
              "      <td>0.782653</td>\n",
              "    </tr>\n",
              "    <tr>\n",
              "      <th>GRP_16</th>\n",
              "      <td>85</td>\n",
              "      <td>0.012432</td>\n",
              "      <td>0.795086</td>\n",
              "    </tr>\n",
              "    <tr>\n",
              "      <th>GRP_18</th>\n",
              "      <td>85</td>\n",
              "      <td>0.012432</td>\n",
              "      <td>0.807518</td>\n",
              "    </tr>\n",
              "  </tbody>\n",
              "</table>\n",
              "</div>"
            ],
            "text/plain": [
              "        frequency  percent representation  cumulative percentage\n",
              "GRP_0        3199                0.467895               0.467895\n",
              "GRP_8         313                0.045780               0.513676\n",
              "GRP_24        277                0.040515               0.554190\n",
              "GRP_12        243                0.035542               0.589732\n",
              "GRP_2         238                0.034811               0.624543\n",
              "GRP_19        212                0.031008               0.655551\n",
              "GRP_3         198                0.028960               0.684511\n",
              "GRP_13        141                0.020623               0.705134\n",
              "GRP_25        116                0.016967               0.722100\n",
              "GRP_14        116                0.016967               0.739067\n",
              "GRP_33        107                0.015650               0.754717\n",
              "GRP_4          96                0.014041               0.768758\n",
              "GRP_29         95                0.013895               0.782653\n",
              "GRP_16         85                0.012432               0.795086\n",
              "GRP_18         85                0.012432               0.807518"
            ]
          },
          "metadata": {
            "tags": []
          },
          "execution_count": 18
        }
      ]
    },
    {
      "cell_type": "code",
      "metadata": {
        "colab": {
          "base_uri": "https://localhost:8080/"
        },
        "id": "PvFapCLKQhtS",
        "outputId": "30d92fbe-71a0-4c6f-bc75-fc9d020201fc"
      },
      "source": [
        "groups = df.groupby(['Assignment group'])\n",
        "misc_group=[]\n",
        "for grp in df['Assignment group'].unique():\n",
        "      if(groups.get_group(grp).shape[0]<100):\n",
        "        misc_group.append(grp)\n",
        "print('GRP_74 which have under 100 samples are {} '.format(len(misc_group)))\n",
        "df['Assignment group - After']=df['Assignment group'].apply(lambda x : 'GRP_74' if x in misc_group else x)"
      ],
      "execution_count": 19,
      "outputs": [
        {
          "output_type": "stream",
          "text": [
            "GRP_74 which have under 100 samples are 63 \n"
          ],
          "name": "stdout"
        }
      ]
    },
    {
      "cell_type": "code",
      "metadata": {
        "colab": {
          "base_uri": "https://localhost:8080/"
        },
        "id": "Lc5yyF7xQhtS",
        "outputId": "15d1f470-476e-43f0-df91-6c7b1e263fdb"
      },
      "source": [
        "df['Assignment group - After'].value_counts().sort_values(ascending=False).index"
      ],
      "execution_count": 20,
      "outputs": [
        {
          "output_type": "execute_result",
          "data": {
            "text/plain": [
              "Index(['GRP_0', 'GRP_74', 'GRP_8', 'GRP_24', 'GRP_12', 'GRP_2', 'GRP_19',\n",
              "       'GRP_3', 'GRP_13', 'GRP_25', 'GRP_14', 'GRP_33'],\n",
              "      dtype='object')"
            ]
          },
          "metadata": {
            "tags": []
          },
          "execution_count": 20
        }
      ]
    },
    {
      "cell_type": "code",
      "metadata": {
        "colab": {
          "base_uri": "https://localhost:8080/"
        },
        "id": "XF2Yux-FguZO",
        "outputId": "8c3ca3ec-7f1f-4f7e-bbc2-496e271beada"
      },
      "source": [
        "df['Assignment group - After'].value_counts()"
      ],
      "execution_count": 21,
      "outputs": [
        {
          "output_type": "execute_result",
          "data": {
            "text/plain": [
              "GRP_0     3199\n",
              "GRP_74    1677\n",
              "GRP_8      313\n",
              "GRP_24     277\n",
              "GRP_12     243\n",
              "GRP_2      238\n",
              "GRP_19     212\n",
              "GRP_3      198\n",
              "GRP_13     141\n",
              "GRP_14     116\n",
              "GRP_25     116\n",
              "GRP_33     107\n",
              "Name: Assignment group - After, dtype: int64"
            ]
          },
          "metadata": {
            "tags": []
          },
          "execution_count": 21
        }
      ]
    },
    {
      "cell_type": "code",
      "metadata": {
        "colab": {
          "base_uri": "https://localhost:8080/",
          "height": 544
        },
        "id": "6Vt0EE2dZEDs",
        "outputId": "96debce9-6cff-45be-f62d-6ffea3310481"
      },
      "source": [
        "df_desc = df['Assignment group - After'].value_counts().sort_values(ascending=False).index\r\n",
        "plt.figure(figsize= (20,8))\r\n",
        "plt.xticks(rotation=75)\r\n",
        "sns.countplot(x='Assignment group - After', data=df, order=df_desc)"
      ],
      "execution_count": 22,
      "outputs": [
        {
          "output_type": "execute_result",
          "data": {
            "text/plain": [
              "<matplotlib.axes._subplots.AxesSubplot at 0x7f1f43948c18>"
            ]
          },
          "metadata": {
            "tags": []
          },
          "execution_count": 22
        },
        {
          "output_type": "display_data",
          "data": {
            "image/png": "[encoded data removed]",
            "text/plain": [
              "<Figure size 1440x576 with 1 Axes>"
            ]
          },
          "metadata": {
            "tags": [],
            "needs_background": "light"
          }
        }
      ]
    },
    {
      "cell_type": "code",
      "metadata": {
        "colab": {
          "base_uri": "https://localhost:8080/",
          "height": 195
        },
        "id": "cGRjlE-dQhtT",
        "outputId": "7612d718-d9c1-4972-c6a2-1c73bc59544e"
      },
      "source": [
        "df.head()"
      ],
      "execution_count": 23,
      "outputs": [
        {
          "output_type": "execute_result",
          "data": {
            "text/html": [
              "<div>\n",
              "<style scoped>\n",
              "    .dataframe tbody tr th:only-of-type {\n",
              "        vertical-align: middle;\n",
              "    }\n",
              "\n",
              "    .dataframe tbody tr th {\n",
              "        vertical-align: top;\n",
              "    }\n",
              "\n",
              "    .dataframe thead th {\n",
              "        text-align: right;\n",
              "    }\n",
              "</style>\n",
              "<table border=\"1\" class=\"dataframe\">\n",
              "  <thead>\n",
              "    <tr style=\"text-align: right;\">\n",
              "      <th></th>\n",
              "      <th>Assignment group</th>\n",
              "      <th>ProcessedDescription</th>\n",
              "      <th>Assignment group - After</th>\n",
              "    </tr>\n",
              "  </thead>\n",
              "  <tbody>\n",
              "    <tr>\n",
              "      <th>0</th>\n",
              "      <td>GRP_0</td>\n",
              "      <td>login issue verify user detail employee manage...</td>\n",
              "      <td>GRP_0</td>\n",
              "    </tr>\n",
              "    <tr>\n",
              "      <th>1</th>\n",
              "      <td>GRP_0</td>\n",
              "      <td>outlook team meeting skype meeting etc not app...</td>\n",
              "      <td>GRP_0</td>\n",
              "    </tr>\n",
              "    <tr>\n",
              "      <th>2</th>\n",
              "      <td>GRP_0</td>\n",
              "      <td>not log vpn not log vpn best</td>\n",
              "      <td>GRP_0</td>\n",
              "    </tr>\n",
              "    <tr>\n",
              "      <th>3</th>\n",
              "      <td>GRP_0</td>\n",
              "      <td>unable access tool page unable access tool page</td>\n",
              "      <td>GRP_0</td>\n",
              "    </tr>\n",
              "    <tr>\n",
              "      <th>4</th>\n",
              "      <td>GRP_0</td>\n",
              "      <td>skype error skype error</td>\n",
              "      <td>GRP_0</td>\n",
              "    </tr>\n",
              "  </tbody>\n",
              "</table>\n",
              "</div>"
            ],
            "text/plain": [
              "  Assignment group  ... Assignment group - After\n",
              "0            GRP_0  ...                    GRP_0\n",
              "1            GRP_0  ...                    GRP_0\n",
              "2            GRP_0  ...                    GRP_0\n",
              "3            GRP_0  ...                    GRP_0\n",
              "4            GRP_0  ...                    GRP_0\n",
              "\n",
              "[5 rows x 3 columns]"
            ]
          },
          "metadata": {
            "tags": []
          },
          "execution_count": 23
        }
      ]
    },
    {
      "cell_type": "code",
      "metadata": {
        "id": "LvJgrqMuRSEu"
      },
      "source": [
        "encoder = LabelEncoder()\r\n",
        "Y = df['Assignment group - After']\r\n",
        "encoder.fit(Y)\r\n",
        "encoded_Y = encoder.transform(Y)\r\n",
        "# convert integers to dummy variables (i.e. one hot encoded)\r\n",
        "dummy_y = to_categorical(encoded_Y)"
      ],
      "execution_count": 30,
      "outputs": []
    },
    {
      "cell_type": "code",
      "metadata": {
        "id": "BYnIk7FNQhtT"
      },
      "source": [
        "from sklearn import model_selection\n",
        "X_train_val, X_test, y_train_val, y_test = model_selection.train_test_split(X, dummy_y, test_size=0.25, random_state=42)"
      ],
      "execution_count": 31,
      "outputs": []
    },
    {
      "cell_type": "code",
      "metadata": {
        "id": "DUHfmK983x9O"
      },
      "source": [
        "X_train, X_val, y_train, y_val = model_selection.train_test_split(X_train_val, y_train_val, test_size=0.3, random_state=42)"
      ],
      "execution_count": 32,
      "outputs": []
    },
    {
      "cell_type": "code",
      "metadata": {
        "colab": {
          "base_uri": "https://localhost:8080/"
        },
        "id": "hkECOzQXiDLG",
        "outputId": "9f225655-3f09-4df6-dca7-7cfebbbeb5d4"
      },
      "source": [
        "print(\"Size of the training dataframe is \",len(X_train))\r\n",
        "print(\"Size of the Validation dataframe is \",len(X_val))\r\n",
        "print(\"Size of the test dataframe is \",len(X_test))\r\n",
        "print(\"{0:0.2f}% data is in training set\".format((len(X_train)/len(df.index)) * 100))\r\n",
        "print(\"{0:0.2f}% data is in training set\".format((len(X_val)/len(df.index)) * 100))\r\n",
        "print(\"{0:0.2f}% data is in test set\".format((len(X_test)/len(df.index)) * 100))"
      ],
      "execution_count": 33,
      "outputs": [
        {
          "output_type": "stream",
          "text": [
            "Size of the training dataframe is  3588\n",
            "Size of the Validation dataframe is  1539\n",
            "Size of the test dataframe is  1710\n",
            "52.48% data is in training set\n",
            "22.51% data is in training set\n",
            "25.01% data is in test set\n"
          ],
          "name": "stdout"
        }
      ]
    },
    {
      "cell_type": "markdown",
      "metadata": {
        "id": "EAbClc26QhtT"
      },
      "source": [
        "## Model 1:: Bi-directional LSTM"
      ]
    },
    {
      "cell_type": "code",
      "metadata": {
        "scrolled": true,
        "colab": {
          "base_uri": "https://localhost:8080/"
        },
        "id": "3cH9czC3QhtU",
        "outputId": "d6a3275f-ab6c-4ec4-baee-9f14f1783b77"
      },
      "source": [
        "# define the model\n",
        "model = Sequential()\n",
        "#Non-trainable embeddidng layer\n",
        "model.add(Embedding(vocab_size, output_dim=300, input_length=25, trainable=True))\n",
        "#LSTM \n",
        "model.add(Bidirectional(LSTM(units=128 , recurrent_dropout = 0.4 , dropout = 0.5)))\n",
        "model.add(Dense(12, activation='softmax'))\n",
        "model.compile(optimizer=keras.optimizers.Adam(lr = 0.05), loss='categorical_crossentropy', metrics=['acc'])\n",
        "\n",
        "# summarize the model\n",
        "print(model.summary())"
      ],
      "execution_count": 310,
      "outputs": [
        {
          "output_type": "stream",
          "text": [
            "Model: \"sequential_23\"\n",
            "_________________________________________________________________\n",
            "Layer (type)                 Output Shape              Param #   \n",
            "=================================================================\n",
            "embedding_46 (Embedding)     (None, 25, 300)           3048600   \n",
            "_________________________________________________________________\n",
            "bidirectional_8 (Bidirection (None, 256)               439296    \n",
            "_________________________________________________________________\n",
            "dense_165 (Dense)            (None, 12)                3084      \n",
            "=================================================================\n",
            "Total params: 3,490,980\n",
            "Trainable params: 3,490,980\n",
            "Non-trainable params: 0\n",
            "_________________________________________________________________\n",
            "None\n"
          ],
          "name": "stdout"
        }
      ]
    },
    {
      "cell_type": "code",
      "metadata": {
        "colab": {
          "base_uri": "https://localhost:8080/"
        },
        "id": "C5q3SUouQhtU",
        "outputId": "ae704ffc-bb06-47e3-93ba-bcca157270ce"
      },
      "source": [
        "from tensorflow.keras.callbacks import ModelCheckpoint, EarlyStopping, ReduceLROnPlateau\n",
        "checkpoint = ModelCheckpoint(\"model-{loss:.2f}.h5\", monitor=\"loss\", verbose=1, save_best_only=True,\n",
        "                             save_weights_only=True, mode=\"min\", period=1)\n",
        "stop = EarlyStopping(monitor=\"loss\", patience=5, mode=\"min\")\n",
        "reduce_lr = ReduceLROnPlateau(monitor=\"loss\", factor=0.2, patience=5, min_lr=1e-6, verbose=1, mode=\"min\")"
      ],
      "execution_count": 304,
      "outputs": [
        {
          "output_type": "stream",
          "text": [
            "WARNING:tensorflow:`period` argument is deprecated. Please use `save_freq` to specify the frequency in number of batches seen.\n"
          ],
          "name": "stdout"
        }
      ]
    },
    {
      "cell_type": "code",
      "metadata": {
        "colab": {
          "base_uri": "https://localhost:8080/"
        },
        "id": "rguG9D8LQhtU",
        "outputId": "141c1534-aaea-465d-b107-ba1fafb4e2b9"
      },
      "source": [
        "# fit the model\n",
        "model.fit(X_train, y_train, validation_data=(X_val,y_val), epochs=10, batch_size=32)\n",
        "# evaluate the model\n",
        "loss, accuracy = model.evaluate(X_test, y_test, verbose=0)\n",
        "print('Accuracy: %f' % (accuracy*100))"
      ],
      "execution_count": 311,
      "outputs": [
        {
          "output_type": "stream",
          "text": [
            "Epoch 1/10\n",
            "113/113 [==============================] - 24s 210ms/step - loss: 1.8660 - acc: 0.4836 - val_loss: 1.6266 - val_acc: 0.5068\n",
            "Epoch 2/10\n",
            "113/113 [==============================] - 23s 200ms/step - loss: 1.6408 - acc: 0.5178 - val_loss: 1.9043 - val_acc: 0.5146\n",
            "Epoch 3/10\n",
            "113/113 [==============================] - 23s 201ms/step - loss: 1.8225 - acc: 0.4994 - val_loss: 2.0521 - val_acc: 0.4977\n",
            "Epoch 4/10\n",
            "113/113 [==============================] - 23s 201ms/step - loss: 1.8834 - acc: 0.4891 - val_loss: 1.9948 - val_acc: 0.5094\n",
            "Epoch 5/10\n",
            "113/113 [==============================] - 23s 200ms/step - loss: 1.9064 - acc: 0.4964 - val_loss: 2.0567 - val_acc: 0.4782\n",
            "Epoch 6/10\n",
            "113/113 [==============================] - 23s 200ms/step - loss: 1.8986 - acc: 0.5039 - val_loss: 1.9519 - val_acc: 0.4893\n",
            "Epoch 7/10\n",
            "113/113 [==============================] - 23s 200ms/step - loss: 1.8740 - acc: 0.4978 - val_loss: 2.0743 - val_acc: 0.5146\n",
            "Epoch 8/10\n",
            "113/113 [==============================] - 23s 201ms/step - loss: 1.9341 - acc: 0.5114 - val_loss: 2.0592 - val_acc: 0.4711\n",
            "Epoch 9/10\n",
            "113/113 [==============================] - 22s 199ms/step - loss: 1.9011 - acc: 0.5039 - val_loss: 2.0108 - val_acc: 0.4743\n",
            "Epoch 10/10\n",
            "113/113 [==============================] - 23s 200ms/step - loss: 1.8686 - acc: 0.5075 - val_loss: 1.9546 - val_acc: 0.5192\n",
            "Accuracy: 52.105266\n"
          ],
          "name": "stdout"
        }
      ]
    },
    {
      "cell_type": "markdown",
      "metadata": {
        "id": "cI8UT0zkw8PU"
      },
      "source": [
        "- The final loss of train and validation data is 186.86% and 195.46% respectively\r\n",
        "- The final test accuracy is 52.10% which is not very good"
      ]
    },
    {
      "cell_type": "markdown",
      "metadata": {
        "id": "DRrlGkWvQhtU"
      },
      "source": [
        "## Model 2:: LSTM with 2 Dense layers"
      ]
    },
    {
      "cell_type": "code",
      "metadata": {
        "colab": {
          "base_uri": "https://localhost:8080/"
        },
        "id": "S1yvpAEWQhtV",
        "outputId": "cf6f8415-a5a3-4914-dfe3-5de53b469b0c"
      },
      "source": [
        "embed_dim = 128\n",
        "lstm_out = 196\n",
        "\n",
        "lstm_model = Sequential()\n",
        "lstm_model.add(Embedding(vocab_size, embed_dim,input_length = X.shape[1]))\n",
        "lstm_model.add(SpatialDropout1D(0.4))\n",
        "lstm_model.add(LSTM(lstm_out, dropout=0.2, recurrent_dropout=0.2))\n",
        "lstm_model.add(Dense(64, activation='relu'))\n",
        "lstm_model.add(Dropout(0.2))\n",
        "lstm_model.add(Dense(12, activation='softmax'))\n",
        "lstm_model.compile(loss = 'categorical_crossentropy', optimizer=keras.optimizers.Adam(lr = 0.01),metrics = ['accuracy'])\n",
        "print(lstm_model.summary())"
      ],
      "execution_count": 42,
      "outputs": [
        {
          "output_type": "stream",
          "text": [
            "Model: \"sequential_2\"\n",
            "_________________________________________________________________\n",
            "Layer (type)                 Output Shape              Param #   \n",
            "=================================================================\n",
            "embedding_2 (Embedding)      (None, 25, 128)           1300736   \n",
            "_________________________________________________________________\n",
            "spatial_dropout1d_1 (Spatial (None, 25, 128)           0         \n",
            "_________________________________________________________________\n",
            "lstm (LSTM)                  (None, 196)               254800    \n",
            "_________________________________________________________________\n",
            "dense (Dense)                (None, 64)                12608     \n",
            "_________________________________________________________________\n",
            "dropout (Dropout)            (None, 64)                0         \n",
            "_________________________________________________________________\n",
            "dense_1 (Dense)              (None, 12)                780       \n",
            "=================================================================\n",
            "Total params: 1,568,924\n",
            "Trainable params: 1,568,924\n",
            "Non-trainable params: 0\n",
            "_________________________________________________________________\n",
            "None\n"
          ],
          "name": "stdout"
        }
      ]
    },
    {
      "cell_type": "code",
      "metadata": {
        "colab": {
          "base_uri": "https://localhost:8080/"
        },
        "id": "vLxc0u5nQhtV",
        "outputId": "ed79c2db-e9d3-4fab-a8e3-3a4439332306"
      },
      "source": [
        "# fit the model\n",
        "lstm_model.fit(X_train, y_train, validation_split=0.3, epochs=10, batch_size=32)\n",
        "# evaluate the model\n",
        "loss, accuracy = lstm_model.evaluate(X_test, y_test, verbose=0)\n",
        "print('Accuracy: %f' % (accuracy*100))"
      ],
      "execution_count": 325,
      "outputs": [
        {
          "output_type": "stream",
          "text": [
            "Epoch 1/10\n",
            "79/79 [==============================] - 10s 131ms/step - loss: 1.6240 - accuracy: 0.5026 - val_loss: 1.3977 - val_accuracy: 0.5664\n",
            "Epoch 2/10\n",
            "79/79 [==============================] - 10s 127ms/step - loss: 1.1909 - accuracy: 0.6280 - val_loss: 1.3603 - val_accuracy: 0.6110\n",
            "Epoch 3/10\n",
            "79/79 [==============================] - 10s 129ms/step - loss: 0.8919 - accuracy: 0.7260 - val_loss: 1.5521 - val_accuracy: 0.5645\n",
            "Epoch 4/10\n",
            "79/79 [==============================] - 10s 127ms/step - loss: 0.6886 - accuracy: 0.7838 - val_loss: 1.4524 - val_accuracy: 0.5970\n",
            "Epoch 5/10\n",
            "79/79 [==============================] - 10s 128ms/step - loss: 0.5483 - accuracy: 0.8280 - val_loss: 1.5815 - val_accuracy: 0.5998\n",
            "Epoch 6/10\n",
            "79/79 [==============================] - 10s 127ms/step - loss: 0.4569 - accuracy: 0.8570 - val_loss: 1.7385 - val_accuracy: 0.6128\n",
            "Epoch 7/10\n",
            "79/79 [==============================] - 12s 151ms/step - loss: 0.3645 - accuracy: 0.8865 - val_loss: 1.9659 - val_accuracy: 0.6091\n",
            "Epoch 8/10\n",
            "79/79 [==============================] - 10s 127ms/step - loss: 0.3051 - accuracy: 0.9012 - val_loss: 2.1899 - val_accuracy: 0.5840\n",
            "Epoch 9/10\n",
            "79/79 [==============================] - 10s 127ms/step - loss: 0.2569 - accuracy: 0.9207 - val_loss: 2.4285 - val_accuracy: 0.6175\n",
            "Epoch 10/10\n",
            "79/79 [==============================] - 10s 127ms/step - loss: 0.2336 - accuracy: 0.9303 - val_loss: 2.5353 - val_accuracy: 0.6110\n",
            "Accuracy: 60.467833\n"
          ],
          "name": "stdout"
        }
      ]
    },
    {
      "cell_type": "markdown",
      "metadata": {
        "id": "1qiNmRzlxclh"
      },
      "source": [
        "- Simple LSTM model shows improvement in final test accuracy = 60.46%\r\n",
        "- The model seems to have over-fitted as train accuracy has reached 93.03% and loss has reduced to 23.23%\r\n",
        "- The validation accuracy is also comparitively low = 61.10% and loss has jumped upto 253.53%\r\n",
        "- The validation accuracy does not seem to increase in the 10 epochs"
      ]
    },
    {
      "cell_type": "markdown",
      "metadata": {
        "id": "r21DRKxF3xq3"
      },
      "source": [
        "#### Hyperparameter tuning for LSTM model"
      ]
    },
    {
      "cell_type": "code",
      "metadata": {
        "colab": {
          "base_uri": "https://localhost:8080/"
        },
        "id": "fCLOIVSU34ND",
        "outputId": "4cef1543-a75e-4fdf-ce6c-b326f8c30d51"
      },
      "source": [
        "lstm_model_4 = Sequential()\r\n",
        "lstm_model_4.add(Embedding(vocab_size, output_dim=200, input_length=25, trainable=True))\r\n",
        "lstm_model_4.add(Dropout(0.5))\r\n",
        "lstm_model_4.add(LSTM(128, recurrent_dropout = 0.5 , dropout = 0.5))\r\n",
        "lstm_model_4.add(Dense(64, activity_regularizer=l1(0.01)))\r\n",
        "lstm_model_4.add(LeakyReLU(alpha=0.3))\r\n",
        "lstm_model_4.add(Dropout(0.5))\r\n",
        "lstm_model_4.add(Dense(12, activity_regularizer=l1(0.01),activation='softmax'))\r\n",
        "lstm_model_4.compile(loss = 'categorical_crossentropy', optimizer=adam_optimizer,metrics = ['accuracy'])\r\n",
        "print(lstm_model_4.summary())"
      ],
      "execution_count": null,
      "outputs": [
        {
          "output_type": "stream",
          "text": [
            "Model: \"sequential_14\"\n",
            "_________________________________________________________________\n",
            "Layer (type)                 Output Shape              Param #   \n",
            "=================================================================\n",
            "embedding_14 (Embedding)     (None, 25, 200)           2032400   \n",
            "_________________________________________________________________\n",
            "dropout_10 (Dropout)         (None, 25, 200)           0         \n",
            "_________________________________________________________________\n",
            "lstm_11 (LSTM)               (None, 128)               168448    \n",
            "_________________________________________________________________\n",
            "dense_17 (Dense)             (None, 64)                8256      \n",
            "_________________________________________________________________\n",
            "leaky_re_lu_1 (LeakyReLU)    (None, 64)                0         \n",
            "_________________________________________________________________\n",
            "dropout_11 (Dropout)         (None, 64)                0         \n",
            "_________________________________________________________________\n",
            "dense_18 (Dense)             (None, 12)                780       \n",
            "=================================================================\n",
            "Total params: 2,209,884\n",
            "Trainable params: 2,209,884\n",
            "Non-trainable params: 0\n",
            "_________________________________________________________________\n",
            "None\n"
          ],
          "name": "stdout"
        }
      ]
    },
    {
      "cell_type": "code",
      "metadata": {
        "id": "X7ibR_z739-O"
      },
      "source": [
        "adam_optimizer = Adam(lr=1e-2, beta_1=0.09, beta_2=0.999, amsgrad=True)\r\n",
        "\r\n",
        "lstm_model_4.compile(loss='categorical_crossentropy',\r\n",
        "              optimizer=adam_optimizer,\r\n",
        "              metrics='accuracy')"
      ],
      "execution_count": null,
      "outputs": []
    },
    {
      "cell_type": "code",
      "metadata": {
        "colab": {
          "base_uri": "https://localhost:8080/"
        },
        "id": "BA-cpE0z4Dvy",
        "outputId": "bd88c86c-11c9-463b-e7f8-87c9c0fc64d2"
      },
      "source": [
        "BATCH_SIZE = 32\r\n",
        "EPOCHS = 20\r\n",
        "stop = EarlyStopping(monitor=\"loss\", patience=5, mode=\"min\")\r\n",
        "reduce_lr = ReduceLROnPlateau(monitor=\"loss\", factor=0.2, patience=5, min_lr=1e-6, verbose=1, mode=\"min\")\r\n",
        "\r\n",
        "history = lstm_model_4.fit(X_train_val, y_train_val, validation_split=0.5, epochs=EPOCHS, batch_size=BATCH_SIZE, verbose=1, shuffle=True, callbacks=[stop, reduce_lr])"
      ],
      "execution_count": null,
      "outputs": [
        {
          "output_type": "stream",
          "text": [
            "Epoch 1/20\n",
            "81/81 [==============================] - 9s 109ms/step - loss: 1.7935 - accuracy: 0.5205 - val_loss: 4.9285 - val_accuracy: 0.1026\n",
            "Epoch 2/20\n",
            "81/81 [==============================] - 9s 106ms/step - loss: 1.4216 - accuracy: 0.6243 - val_loss: 1.4928 - val_accuracy: 0.6112\n",
            "Epoch 3/20\n",
            "81/81 [==============================] - 8s 105ms/step - loss: 1.0856 - accuracy: 0.7401 - val_loss: 1.5457 - val_accuracy: 0.6127\n",
            "Epoch 4/20\n",
            "81/81 [==============================] - 9s 105ms/step - loss: 0.9192 - accuracy: 0.7827 - val_loss: 1.5986 - val_accuracy: 0.6022\n",
            "Epoch 5/20\n",
            "81/81 [==============================] - 9s 105ms/step - loss: 0.7937 - accuracy: 0.8357 - val_loss: 2.1976 - val_accuracy: 0.5885\n",
            "Epoch 6/20\n",
            "81/81 [==============================] - 9s 106ms/step - loss: 0.7836 - accuracy: 0.8365 - val_loss: 1.8982 - val_accuracy: 0.6022\n",
            "Epoch 7/20\n",
            "81/81 [==============================] - 9s 106ms/step - loss: 0.7291 - accuracy: 0.8451 - val_loss: 2.1652 - val_accuracy: 0.5819\n",
            "Epoch 8/20\n",
            "81/81 [==============================] - 9s 105ms/step - loss: 0.7471 - accuracy: 0.8584 - val_loss: 2.0851 - val_accuracy: 0.6108\n",
            "Epoch 9/20\n",
            "81/81 [==============================] - 9s 106ms/step - loss: 0.7408 - accuracy: 0.8564 - val_loss: 2.2000 - val_accuracy: 0.5952\n",
            "Epoch 10/20\n",
            "81/81 [==============================] - 9s 105ms/step - loss: 0.7546 - accuracy: 0.8529 - val_loss: 2.2990 - val_accuracy: 0.5924\n",
            "Epoch 11/20\n",
            "81/81 [==============================] - 9s 106ms/step - loss: 0.7396 - accuracy: 0.8541 - val_loss: 2.2466 - val_accuracy: 0.6057\n",
            "Epoch 12/20\n",
            "81/81 [==============================] - ETA: 0s - loss: 0.7478 - accuracy: 0.8541\n",
            "Epoch 00012: ReduceLROnPlateau reducing learning rate to 0.0019999999552965165.\n",
            "81/81 [==============================] - 9s 106ms/step - loss: 0.7478 - accuracy: 0.8541 - val_loss: 2.4501 - val_accuracy: 0.6104\n"
          ],
          "name": "stdout"
        }
      ]
    },
    {
      "cell_type": "code",
      "metadata": {
        "colab": {
          "base_uri": "https://localhost:8080/"
        },
        "id": "AgT-tmQb4MDk",
        "outputId": "e57bd624-f265-4a3c-a68b-07a964bdccfb"
      },
      "source": [
        "loss, accuracy = lstm_model_4.evaluate(X_test, y_test)\r\n",
        "print('Accuracy: %f' % (accuracy*100))\r\n",
        "print('loss: %f' % (loss))"
      ],
      "execution_count": null,
      "outputs": [
        {
          "output_type": "stream",
          "text": [
            "54/54 [==============================] - 0s 8ms/step - loss: 2.3069 - accuracy: 0.6333\n",
            "Accuracy: 63.333333\n",
            "loss: 2.306902\n"
          ],
          "name": "stdout"
        }
      ]
    },
    {
      "cell_type": "code",
      "metadata": {
        "colab": {
          "base_uri": "https://localhost:8080/",
          "height": 265
        },
        "id": "I-NGQS7M4UNI",
        "outputId": "6e9b6588-9ae0-4bac-8e42-5aa4e1e68131"
      },
      "source": [
        "from matplotlib import pyplot\r\n",
        "\r\n",
        "pyplot.plot(history.history['accuracy'], label='train')\r\n",
        "pyplot.plot(history.history['val_accuracy'], label='Validation')\r\n",
        "pyplot.legend()\r\n",
        "pyplot.show()"
      ],
      "execution_count": null,
      "outputs": [
        {
          "output_type": "display_data",
          "data": {
            "image/png": "[encoded data removed]",
            "text/plain": [
              "<Figure size 432x288 with 1 Axes>"
            ]
          },
          "metadata": {
            "tags": [],
            "needs_background": "light"
          }
        }
      ]
    },
    {
      "cell_type": "markdown",
      "metadata": {
        "id": "XmyWQYBAQhtV"
      },
      "source": [
        "## Model 3:: Loading pre-defined Embedding weights"
      ]
    },
    {
      "cell_type": "code",
      "metadata": {
        "id": "MpaQaFTzNCLp"
      },
      "source": [
        "EMBEDDING_FILE_200 = './glove.6B.200d.txt'"
      ],
      "execution_count": 37,
      "outputs": []
    },
    {
      "cell_type": "code",
      "metadata": {
        "id": "PNRYhJxuNNHw"
      },
      "source": [
        "def define_embedding(EMBEDDING_FILE, size):\r\n",
        "  embeddings = {}\r\n",
        "  for o in open(EMBEDDING_FILE):\r\n",
        "      word = o.split(\" \")[0]\r\n",
        "      # print(word)\r\n",
        "      embd = o.split(\" \")[1:]\r\n",
        "      embd = np.asarray(embd, dtype='float32')\r\n",
        "      # print(embd)\r\n",
        "      embeddings[word] = embd\r\n",
        "\r\n",
        "  # create a weight matrix for words in training docs\r\n",
        "  embedding_matrix = np.zeros((vocab_size, size))\r\n",
        "\r\n",
        "  for word, i in tokenizer.word_index.items():\r\n",
        "    embedding_vector = embeddings.get(word)\r\n",
        "    if embedding_vector is not None:\r\n",
        "      embedding_matrix[i] = embedding_vector\r\n",
        "    return embedding_matrix"
      ],
      "execution_count": 35,
      "outputs": []
    },
    {
      "cell_type": "code",
      "metadata": {
        "id": "SKHMJuOaa6_n"
      },
      "source": [
        "embedding_matrix = define_embedding(EMBEDDING_FILE_200, 200)"
      ],
      "execution_count": 331,
      "outputs": []
    },
    {
      "cell_type": "code",
      "metadata": {
        "colab": {
          "base_uri": "https://localhost:8080/"
        },
        "id": "2q699ZR_QhtW",
        "outputId": "3985c9aa-a167-40fc-f554-6d6f15102d84"
      },
      "source": [
        "embedding_size = 200\n",
        "lstm_out = 196\n",
        "\n",
        "lstm_model_1 = Sequential()\n",
        "lstm_model_1.add(Embedding(vocab_size, output_dim=embedding_size, weights=[embedding_matrix], input_length=200, trainable=True))\n",
        "lstm_model_1.add(SpatialDropout1D(0.4))\n",
        "lstm_model_1.add(LSTM(lstm_out, dropout=0.2, recurrent_dropout=0.2))\n",
        "lstm_model_1.add(Dense(12,activation='softmax'))\n",
        "lstm_model_1.compile(loss = 'categorical_crossentropy', optimizer=keras.optimizers.Adam(lr = 0.01),metrics = ['accuracy'])\n",
        "print(lstm_model_1.summary())"
      ],
      "execution_count": 43,
      "outputs": [
        {
          "output_type": "stream",
          "text": [
            "Model: \"sequential_3\"\n",
            "_________________________________________________________________\n",
            "Layer (type)                 Output Shape              Param #   \n",
            "=================================================================\n",
            "embedding_3 (Embedding)      (None, 200, 200)          2032400   \n",
            "_________________________________________________________________\n",
            "spatial_dropout1d_2 (Spatial (None, 200, 200)          0         \n",
            "_________________________________________________________________\n",
            "lstm_1 (LSTM)                (None, 196)               311248    \n",
            "_________________________________________________________________\n",
            "dense_2 (Dense)              (None, 12)                2364      \n",
            "=================================================================\n",
            "Total params: 2,346,012\n",
            "Trainable params: 2,346,012\n",
            "Non-trainable params: 0\n",
            "_________________________________________________________________\n",
            "None\n"
          ],
          "name": "stdout"
        }
      ]
    },
    {
      "cell_type": "code",
      "metadata": {
        "colab": {
          "base_uri": "https://localhost:8080/"
        },
        "id": "9EINiAgcQhtW",
        "outputId": "10c0eaa5-c227-456d-9fad-997dcb4771e8"
      },
      "source": [
        "# fit the model\n",
        "lstm_model_1.fit(X_train, y_train, validation_data = (X_val,y_val), epochs=10, batch_size=32)\n",
        "# evaluate the model\n",
        "lstm_loss_1, lstm_accuracy_1 = lstm_model_1.evaluate(X_test, y_test, verbose=0)\n",
        "print('Accuracy: %f' % (lstm_accuracy_1*100))\n",
        "print('loss: %f' % (lstm_loss_1*100))"
      ],
      "execution_count": 333,
      "outputs": [
        {
          "output_type": "stream",
          "text": [
            "Epoch 1/10\n",
            "WARNING:tensorflow:Model was constructed with shape (None, 200) for input Tensor(\"embedding_53_input:0\", shape=(None, 200), dtype=float32), but it was called on an input with incompatible shape (None, 25).\n",
            "WARNING:tensorflow:Model was constructed with shape (None, 200) for input Tensor(\"embedding_53_input:0\", shape=(None, 200), dtype=float32), but it was called on an input with incompatible shape (None, 25).\n",
            "113/113 [==============================] - ETA: 0s - loss: 1.4743 - accuracy: 0.5465WARNING:tensorflow:Model was constructed with shape (None, 200) for input Tensor(\"embedding_53_input:0\", shape=(None, 200), dtype=float32), but it was called on an input with incompatible shape (None, 25).\n",
            "113/113 [==============================] - 17s 148ms/step - loss: 1.4743 - accuracy: 0.5465 - val_loss: 1.2739 - val_accuracy: 0.6225\n",
            "Epoch 2/10\n",
            "113/113 [==============================] - 16s 145ms/step - loss: 0.9766 - accuracy: 0.7001 - val_loss: 1.2155 - val_accuracy: 0.6303\n",
            "Epoch 3/10\n",
            "113/113 [==============================] - 16s 146ms/step - loss: 0.5979 - accuracy: 0.8091 - val_loss: 1.2787 - val_accuracy: 0.6374\n",
            "Epoch 4/10\n",
            "113/113 [==============================] - 16s 146ms/step - loss: 0.3760 - accuracy: 0.8829 - val_loss: 1.4046 - val_accuracy: 0.6400\n",
            "Epoch 5/10\n",
            "113/113 [==============================] - 16s 145ms/step - loss: 0.2656 - accuracy: 0.9119 - val_loss: 1.5892 - val_accuracy: 0.6212\n",
            "Epoch 6/10\n",
            "113/113 [==============================] - 16s 146ms/step - loss: 0.2040 - accuracy: 0.9362 - val_loss: 1.6757 - val_accuracy: 0.6361\n",
            "Epoch 7/10\n",
            "113/113 [==============================] - 16s 146ms/step - loss: 0.1813 - accuracy: 0.9415 - val_loss: 1.7817 - val_accuracy: 0.6452\n",
            "Epoch 8/10\n",
            "113/113 [==============================] - 17s 146ms/step - loss: 0.1457 - accuracy: 0.9515 - val_loss: 1.9239 - val_accuracy: 0.6413\n",
            "Epoch 9/10\n",
            "113/113 [==============================] - 17s 147ms/step - loss: 0.1210 - accuracy: 0.9643 - val_loss: 2.0365 - val_accuracy: 0.6452\n",
            "Epoch 10/10\n",
            "113/113 [==============================] - 16s 146ms/step - loss: 0.1109 - accuracy: 0.9624 - val_loss: 2.0508 - val_accuracy: 0.6420\n",
            "Accuracy: 61.695904\n",
            "loss: 220.526338\n"
          ],
          "name": "stdout"
        }
      ]
    },
    {
      "cell_type": "markdown",
      "metadata": {
        "id": "4C4C_0z_yVWh"
      },
      "source": [
        "- The test accuracy has increased by just 1% which is 61.69% than the simple LSTM model and loss is still as high as 220%\r\n",
        "- Here also the model has over-fitted as we can see training data accuracy has consistently increased upto 96.24% but validation accuracy is stuck to 64.20%\r\n",
        "- Regularization needs to be added to the dense layers to overcome over-fitting"
      ]
    },
    {
      "cell_type": "markdown",
      "metadata": {
        "id": "9TafimYdQhtX"
      },
      "source": [
        "## Removing the sparse data"
      ]
    },
    {
      "cell_type": "code",
      "metadata": {
        "id": "4WWIaUYxk1hB"
      },
      "source": [
        "df_filtered = df[df['Assignment group - After'] != 'GRP_74']"
      ],
      "execution_count": 75,
      "outputs": []
    },
    {
      "cell_type": "code",
      "metadata": {
        "colab": {
          "base_uri": "https://localhost:8080/"
        },
        "id": "3LisFoT-lUyZ",
        "outputId": "1cb96fb2-173e-47c3-d087-7df5d6054f2d"
      },
      "source": [
        "df_filtered.shape"
      ],
      "execution_count": 76,
      "outputs": [
        {
          "output_type": "execute_result",
          "data": {
            "text/plain": [
              "(5160, 3)"
            ]
          },
          "metadata": {
            "tags": []
          },
          "execution_count": 76
        }
      ]
    },
    {
      "cell_type": "code",
      "metadata": {
        "colab": {
          "base_uri": "https://localhost:8080/"
        },
        "id": "c1nwmYw4lGoO",
        "outputId": "4f320cde-fc3e-4a9e-93b1-4161a499159c"
      },
      "source": [
        "df_filtered['Assignment group - After'].value_counts()"
      ],
      "execution_count": 77,
      "outputs": [
        {
          "output_type": "execute_result",
          "data": {
            "text/plain": [
              "GRP_0     3199\n",
              "GRP_8      313\n",
              "GRP_24     277\n",
              "GRP_12     243\n",
              "GRP_2      238\n",
              "GRP_19     212\n",
              "GRP_3      198\n",
              "GRP_13     141\n",
              "GRP_14     116\n",
              "GRP_25     116\n",
              "GRP_33     107\n",
              "Name: Assignment group - After, dtype: int64"
            ]
          },
          "metadata": {
            "tags": []
          },
          "execution_count": 77
        }
      ]
    },
    {
      "cell_type": "code",
      "metadata": {
        "colab": {
          "base_uri": "https://localhost:8080/"
        },
        "id": "N49ztX52m7xu",
        "outputId": "3e34ae55-2245-4822-a6b4-55c500477837"
      },
      "source": [
        "words = []\r\n",
        "for i in df_filtered.ProcessedDescription.values:\r\n",
        "    words.append(i.split())\r\n",
        "words[:5]"
      ],
      "execution_count": 48,
      "outputs": [
        {
          "output_type": "execute_result",
          "data": {
            "text/plain": [
              "[['login',\n",
              "  'issue',\n",
              "  'verify',\n",
              "  'user',\n",
              "  'detail',\n",
              "  'employee',\n",
              "  'manager',\n",
              "  'name',\n",
              "  'check',\n",
              "  'user',\n",
              "  'name',\n",
              "  'ad',\n",
              "  'reset',\n",
              "  'password',\n",
              "  'advise',\n",
              "  'user',\n",
              "  'login',\n",
              "  'check',\n",
              "  'caller',\n",
              "  'confirm',\n",
              "  'able',\n",
              "  'login',\n",
              "  'issue',\n",
              "  'resolve'],\n",
              " ['outlook',\n",
              "  'team',\n",
              "  'meeting',\n",
              "  'skype',\n",
              "  'meeting',\n",
              "  'etc',\n",
              "  'not',\n",
              "  'appear',\n",
              "  'outlook',\n",
              "  'calendar',\n",
              "  'somebody',\n",
              "  'please',\n",
              "  'advise',\n",
              "  'correct',\n",
              "  'kind'],\n",
              " ['not', 'log', 'vpn', 'not', 'log', 'vpn', 'best'],\n",
              " ['unable', 'access', 'tool', 'page', 'unable', 'access', 'tool', 'page'],\n",
              " ['skype', 'error', 'skype', 'error']]"
            ]
          },
          "metadata": {
            "tags": []
          },
          "execution_count": 48
        }
      ]
    },
    {
      "cell_type": "code",
      "metadata": {
        "colab": {
          "base_uri": "https://localhost:8080/"
        },
        "id": "Oy8wMIbanIQJ",
        "outputId": "318ec340-3754-4235-d793-ff8cbc86491b"
      },
      "source": [
        "num_words = len(tokenizer.word_index) + 1\r\n",
        "print(num_words)"
      ],
      "execution_count": 193,
      "outputs": [
        {
          "output_type": "stream",
          "text": [
            "7693\n"
          ],
          "name": "stdout"
        }
      ]
    },
    {
      "cell_type": "code",
      "metadata": {
        "colab": {
          "base_uri": "https://localhost:8080/"
        },
        "id": "jkzlO3WcrljS",
        "outputId": "b28a22d5-0d69-47d1-f122-2c89b52e19ee"
      },
      "source": [
        "df_filtered.ProcessedDescription.apply(lambda x: len(x.split(\" \"))).mean()"
      ],
      "execution_count": 49,
      "outputs": [
        {
          "output_type": "execute_result",
          "data": {
            "text/plain": [
              "22.573643410852714"
            ]
          },
          "metadata": {
            "tags": []
          },
          "execution_count": 49
        }
      ]
    },
    {
      "cell_type": "code",
      "metadata": {
        "id": "76LNItR5jPBe"
      },
      "source": [
        "encoder = LabelEncoder()\r\n",
        "Y = df_filtered['Assignment group - After']\r\n",
        "encoder.fit(Y)\r\n",
        "encoded_Y = encoder.transform(Y)\r\n",
        "# convert integers to dummy variables (i.e. one hot encoded)\r\n",
        "dummy_y = to_categorical(encoded_Y)"
      ],
      "execution_count": 153,
      "outputs": []
    },
    {
      "cell_type": "code",
      "metadata": {
        "id": "gbSUkN8DC3DC"
      },
      "source": [
        "MAX_FEATURES = 6000\r\n",
        "EMBED_SIZE = 128\r\n",
        "tokenizer = text.Tokenizer(num_words=MAX_FEATURES)\r\n",
        "tokenizer.fit_on_texts(df_filtered['ProcessedDescription'])\r\n",
        "list_tokenized_train = tokenizer.texts_to_sequences(df_filtered['ProcessedDescription'])\r\n",
        "  \r\n",
        "RNN_CELL_SIZE = 32\r\n",
        "  \r\n",
        "MAX_LEN = 25  # Since our mean length is 22.57\r\n",
        "X_attd = sequence.pad_sequences(list_tokenized_train, maxlen=MAX_LEN)\r\n",
        "y_attd = df_filtered.CategoricalGroup\r\n"
      ],
      "execution_count": 50,
      "outputs": []
    },
    {
      "cell_type": "code",
      "metadata": {
        "id": "F32A7wAr4Zc_"
      },
      "source": [
        "X_attd_train_val, X_attd_test, y_attd_train_val, y_attd_test = model_selection.train_test_split(X_attd, dummy_y, test_size=0.3, random_state=42)\r\n",
        "X_attd_train, X_attd_val, y_attd_train, y_attd_val = model_selection.train_test_split(X_attd_train_val, y_attd_train_val, test_size=0.3, random_state=42)"
      ],
      "execution_count": 162,
      "outputs": []
    },
    {
      "cell_type": "markdown",
      "metadata": {
        "id": "MDrPrDrqI_z9"
      },
      "source": [
        "## Model 4:: Attention Model Using LSTM after removing sparse data ('miscelleneous group')"
      ]
    },
    {
      "cell_type": "code",
      "metadata": {
        "colab": {
          "base_uri": "https://localhost:8080/"
        },
        "id": "E7_t5L4nQhtX",
        "outputId": "6193430c-3f04-48ae-820f-78e262bc69ed"
      },
      "source": [
        "!git clone \"https://github.com/thushv89/attention_keras\""
      ],
      "execution_count": 60,
      "outputs": [
        {
          "output_type": "stream",
          "text": [
            "fatal: destination path 'attention_keras' already exists and is not an empty directory.\n"
          ],
          "name": "stdout"
        }
      ]
    },
    {
      "cell_type": "code",
      "metadata": {
        "id": "YnZ3GMC9DmGl"
      },
      "source": [
        "class Attention(tf.keras.Model):\r\n",
        "    def __init__(self, units):\r\n",
        "        super(Attention, self).__init__()\r\n",
        "        self.W1 = tf.keras.layers.Dense(units)\r\n",
        "        self.W2 = tf.keras.layers.Dense(units)\r\n",
        "        self.V = tf.keras.layers.Dense(1)\r\n",
        "\r\n",
        "    def call(self, features, hidden):\r\n",
        "        # hidden shape == (batch_size, hidden size)\r\n",
        "        # hidden_with_time_axis shape == (batch_size, 1, hidden size)\r\n",
        "        # we are doing this to perform addition to calculate the score\r\n",
        "        hidden_with_time_axis = tf.expand_dims(hidden, 1)\r\n",
        "          \r\n",
        "        # score shape == (batch_size, max_length, 1)\r\n",
        "        # we get 1 at the last axis because we are applying score to self.V\r\n",
        "        # the shape of the tensor before applying self.V is (batch_size, max_length, units)\r\n",
        "        score = tf.nn.tanh(\r\n",
        "            self.W1(features) + self.W2(hidden_with_time_axis))\r\n",
        "        # attention_weights shape == (batch_size, max_length, 1)\r\n",
        "        attention_weights = tf.nn.softmax(self.V(score), axis=1)\r\n",
        "          \r\n",
        "        # context_vector shape after sum == (batch_size, hidden_size)\r\n",
        "        context_vector = attention_weights * features\r\n",
        "        context_vector = tf.reduce_sum(context_vector, axis=1)\r\n",
        "        return context_vector, attention_weights"
      ],
      "execution_count": 54,
      "outputs": []
    },
    {
      "cell_type": "code",
      "metadata": {
        "id": "HPsbonVCUZsX"
      },
      "source": [
        "sequence_input = Input(shape=(MAX_LEN,), dtype=\"int32\")\r\n",
        "embedded_sequences = Embedding(MAX_FEATURES, EMBED_SIZE)(sequence_input)\r\n",
        "\r\n",
        "lstm = LSTM(RNN_CELL_SIZE, return_sequences = True)(embedded_sequences)\r\n",
        "\r\n",
        "# Getting our LSTM outputs\r\n",
        "(lstm, state_h, state_c) = LSTM(RNN_CELL_SIZE, return_sequences=True, return_state=True)(lstm)\r\n",
        "\r\n",
        "context_vector, attention_weights = Attention(10)(lstm, state_h)\r\n",
        "dense1 = Dense(1024, activity_regularizer=l1(0.01))(context_vector)\r\n",
        "activation1 = LeakyReLU(alpha=0.2)(dense1)\r\n",
        "dropout1 = Dropout(0.5)(activation1)\r\n",
        "dense2 = Dense(512, activity_regularizer=l1(0.1))(dropout1)\r\n",
        "activation2 = LeakyReLU(alpha=0.2)(dense2)\r\n",
        "dropout2 = Dropout(0.5)(activation2)\r\n",
        "output = Dense(11, activation=\"softmax\")(dropout2)\r\n",
        "  \r\n",
        "model_label = keras.Model(inputs=sequence_input, outputs=output)"
      ],
      "execution_count": 203,
      "outputs": []
    },
    {
      "cell_type": "code",
      "metadata": {
        "id": "xvQtV_tjlZl1"
      },
      "source": [
        "adam_optimizer = Adam(lr=1e-3, beta_1=0.009, beta_2=0.999, amsgrad=True)\r\n",
        "\r\n",
        "model_label.compile(loss='categorical_crossentropy',\r\n",
        "              optimizer=adam_optimizer,\r\n",
        "              metrics='accuracy')"
      ],
      "execution_count": 204,
      "outputs": []
    },
    {
      "cell_type": "code",
      "metadata": {
        "colab": {
          "base_uri": "https://localhost:8080/"
        },
        "id": "tI4pLEGgVWv3",
        "outputId": "19e9934e-f504-4849-afc0-dc4f194e2074"
      },
      "source": [
        "BATCH_SIZE = 32 \r\n",
        "EPOCHS = 30\r\n",
        "for i in range(EPOCHS):\r\n",
        "  model_label.fit(X_attd_train_val, y_attd_train_val, validation_split=0.2, epochs=1, batch_size=BATCH_SIZE, verbose=1, shuffle=True, callbacks=[stop, reduce_lr])\r\n",
        "  model_label.reset_states()"
      ],
      "execution_count": 206,
      "outputs": [
        {
          "output_type": "stream",
          "text": [
            "91/91 [==============================] - 3s 35ms/step - loss: 1.0313 - accuracy: 0.7913 - val_loss: 1.0595 - val_accuracy: 0.7925\n",
            "91/91 [==============================] - 3s 35ms/step - loss: 0.8703 - accuracy: 0.8231 - val_loss: 0.9105 - val_accuracy: 0.8008\n",
            "91/91 [==============================] - 3s 37ms/step - loss: 0.7950 - accuracy: 0.8432 - val_loss: 0.8976 - val_accuracy: 0.8285\n",
            "91/91 [==============================] - 3s 37ms/step - loss: 0.7382 - accuracy: 0.8588 - val_loss: 0.9151 - val_accuracy: 0.8188\n",
            "91/91 [==============================] - 3s 35ms/step - loss: 0.7107 - accuracy: 0.8823 - val_loss: 0.9217 - val_accuracy: 0.8368\n",
            "91/91 [==============================] - 3s 35ms/step - loss: 0.6845 - accuracy: 0.9052 - val_loss: 0.8723 - val_accuracy: 0.8520\n",
            "91/91 [==============================] - 3s 35ms/step - loss: 0.6462 - accuracy: 0.9218 - val_loss: 0.8924 - val_accuracy: 0.8382\n",
            "91/91 [==============================] - 3s 35ms/step - loss: 0.6240 - accuracy: 0.9259 - val_loss: 0.8842 - val_accuracy: 0.8437\n",
            "91/91 [==============================] - 3s 35ms/step - loss: 0.6009 - accuracy: 0.9308 - val_loss: 0.8476 - val_accuracy: 0.8479\n",
            "91/91 [==============================] - 3s 35ms/step - loss: 0.5758 - accuracy: 0.9367 - val_loss: 0.9423 - val_accuracy: 0.8437\n",
            "91/91 [==============================] - 3s 35ms/step - loss: 0.5537 - accuracy: 0.9436 - val_loss: 0.9581 - val_accuracy: 0.8562\n",
            "91/91 [==============================] - 3s 35ms/step - loss: 0.5403 - accuracy: 0.9640 - val_loss: 0.8804 - val_accuracy: 0.8617\n",
            "91/91 [==============================] - 3s 35ms/step - loss: 0.5293 - accuracy: 0.9699 - val_loss: 0.8534 - val_accuracy: 0.8617\n",
            "91/91 [==============================] - 3s 35ms/step - loss: 0.5160 - accuracy: 0.9768 - val_loss: 0.8337 - val_accuracy: 0.8617\n",
            "91/91 [==============================] - 3s 35ms/step - loss: 0.4839 - accuracy: 0.9841 - val_loss: 1.6602 - val_accuracy: 0.7026\n",
            "91/91 [==============================] - 3s 35ms/step - loss: 0.4978 - accuracy: 0.9817 - val_loss: 0.9272 - val_accuracy: 0.8492\n",
            "91/91 [==============================] - 3s 35ms/step - loss: 0.4569 - accuracy: 0.9900 - val_loss: 0.8662 - val_accuracy: 0.8520\n",
            "91/91 [==============================] - 3s 35ms/step - loss: 0.4345 - accuracy: 0.9931 - val_loss: 0.8344 - val_accuracy: 0.8562\n",
            "91/91 [==============================] - 3s 35ms/step - loss: 0.4234 - accuracy: 0.9917 - val_loss: 0.9151 - val_accuracy: 0.8382\n",
            "91/91 [==============================] - 3s 35ms/step - loss: 0.4198 - accuracy: 0.9913 - val_loss: 0.8492 - val_accuracy: 0.8534\n",
            "91/91 [==============================] - 3s 35ms/step - loss: 0.4018 - accuracy: 0.9931 - val_loss: 0.8420 - val_accuracy: 0.8506\n",
            "91/91 [==============================] - 3s 35ms/step - loss: 0.3953 - accuracy: 0.9938 - val_loss: 0.8256 - val_accuracy: 0.8506\n",
            "91/91 [==============================] - 3s 36ms/step - loss: 0.3934 - accuracy: 0.9945 - val_loss: 0.8972 - val_accuracy: 0.8520\n",
            "91/91 [==============================] - 3s 36ms/step - loss: 0.3870 - accuracy: 0.9952 - val_loss: 0.8447 - val_accuracy: 0.8548\n",
            "91/91 [==============================] - 3s 35ms/step - loss: 0.3761 - accuracy: 0.9941 - val_loss: 0.8319 - val_accuracy: 0.8562\n",
            "91/91 [==============================] - 3s 36ms/step - loss: 0.3705 - accuracy: 0.9934 - val_loss: 0.8232 - val_accuracy: 0.8479\n",
            "91/91 [==============================] - 3s 35ms/step - loss: 0.3792 - accuracy: 0.9931 - val_loss: 0.8656 - val_accuracy: 0.8451\n",
            "91/91 [==============================] - 3s 36ms/step - loss: 0.3605 - accuracy: 0.9945 - val_loss: 0.8149 - val_accuracy: 0.8548\n",
            "91/91 [==============================] - 3s 35ms/step - loss: 0.3640 - accuracy: 0.9927 - val_loss: 0.8182 - val_accuracy: 0.8437\n",
            "91/91 [==============================] - 3s 35ms/step - loss: 0.3570 - accuracy: 0.9927 - val_loss: 0.8228 - val_accuracy: 0.8492\n"
          ],
          "name": "stdout"
        }
      ]
    },
    {
      "cell_type": "code",
      "metadata": {
        "colab": {
          "base_uri": "https://localhost:8080/"
        },
        "id": "07-U31LNU1E0",
        "outputId": "8cd6aae8-af1b-4a57-c26a-878c229f93c3"
      },
      "source": [
        "loss, accuracy = model_label.evaluate(X_attd_test, y_attd_test)\r\n",
        "print('Accuracy: %f' % (accuracy*100))\r\n",
        "print('loss: %f' % (loss))"
      ],
      "execution_count": 207,
      "outputs": [
        {
          "output_type": "stream",
          "text": [
            "49/49 [==============================] - 0s 8ms/step - loss: 1.2642 - accuracy: 0.7487\n",
            "Accuracy: 74.870801\n",
            "loss: 1.264174\n"
          ],
          "name": "stdout"
        }
      ]
    },
    {
      "cell_type": "markdown",
      "metadata": {
        "id": "fH-WYpk_5jXN"
      },
      "source": [
        "- Using the attention layer in the network and removing the sparse data from the dataset has kicked the accuracy to a large extent\r\n",
        "- The training data has over-fit to 99.27% but for the first time the validation accuracy has gone upto 84.92%\r\n",
        "- The test accuracy has also increased to 74.87%\r\n",
        "- The validation and test loss is the minimum as compared to all the model, 82.28% and 1.26% respectively"
      ]
    },
    {
      "cell_type": "markdown",
      "metadata": {
        "id": "Fu97P25H3MTE"
      },
      "source": [
        "## LSTM after removal of records of 'GRP_74'(Miscelleneous group)"
      ]
    },
    {
      "cell_type": "code",
      "metadata": {
        "colab": {
          "base_uri": "https://localhost:8080/"
        },
        "id": "QSWjRmOevyRF",
        "outputId": "d64fcab0-9e8e-4171-b809-fcc668d3fc35"
      },
      "source": [
        "lstm_model_4 = Sequential()\r\n",
        "lstm_model_4.add(Embedding(vocab_size, output_dim=200, input_length=25, trainable=True))\r\n",
        "lstm_model_4.add(Dropout(0.5))\r\n",
        "lstm_model_4.add(LSTM(128, recurrent_dropout = 0.5 , dropout = 0.5))\r\n",
        "lstm_model_4.add(Dense(64, activity_regularizer=l1(0.01)))\r\n",
        "lstm_model_4.add(LeakyReLU(alpha=0.3))\r\n",
        "lstm_model_4.add(Dropout(0.5))\r\n",
        "lstm_model_4.add(Dense(11, activity_regularizer=l1(0.01),activation='softmax'))\r\n",
        "lstm_model_4.compile(loss = 'categorical_crossentropy', optimizer=adam_optimizer,metrics = ['accuracy'])\r\n",
        "print(lstm_model_4.summary())"
      ],
      "execution_count": 63,
      "outputs": [
        {
          "output_type": "stream",
          "text": [
            "Model: \"sequential_13\"\n",
            "_________________________________________________________________\n",
            "Layer (type)                 Output Shape              Param #   \n",
            "=================================================================\n",
            "embedding_13 (Embedding)     (None, 25, 200)           2032400   \n",
            "_________________________________________________________________\n",
            "dropout_8 (Dropout)          (None, 25, 200)           0         \n",
            "_________________________________________________________________\n",
            "lstm_10 (LSTM)               (None, 128)               168448    \n",
            "_________________________________________________________________\n",
            "dense_15 (Dense)             (None, 64)                8256      \n",
            "_________________________________________________________________\n",
            "leaky_re_lu (LeakyReLU)      (None, 64)                0         \n",
            "_________________________________________________________________\n",
            "dropout_9 (Dropout)          (None, 64)                0         \n",
            "_________________________________________________________________\n",
            "dense_16 (Dense)             (None, 11)                715       \n",
            "=================================================================\n",
            "Total params: 2,209,819\n",
            "Trainable params: 2,209,819\n",
            "Non-trainable params: 0\n",
            "_________________________________________________________________\n",
            "None\n"
          ],
          "name": "stdout"
        }
      ]
    },
    {
      "cell_type": "code",
      "metadata": {
        "id": "FguZcgw5v-fe"
      },
      "source": [
        "adam_optimizer = Adam(lr=1e-2, beta_1=0.09, beta_2=0.999, amsgrad=True)\r\n",
        "\r\n",
        "lstm_model_4.compile(loss='categorical_crossentropy',\r\n",
        "              optimizer=adam_optimizer,\r\n",
        "              metrics='accuracy')"
      ],
      "execution_count": 64,
      "outputs": []
    },
    {
      "cell_type": "code",
      "metadata": {
        "colab": {
          "base_uri": "https://localhost:8080/"
        },
        "id": "FpSIcmtDwDkp",
        "outputId": "a9827c8b-8125-4ad8-a293-fd5aa31a9fc6"
      },
      "source": [
        "BATCH_SIZE = 32\r\n",
        "EPOCHS = 20\r\n",
        "history = lstm_model_4.fit(X_attd_train_val, y_attd_train_val, validation_split=0.5, epochs=EPOCHS, batch_size=BATCH_SIZE, verbose=1, shuffle=True, callbacks=[stop, reduce_lr])"
      ],
      "execution_count": 275,
      "outputs": [
        {
          "output_type": "stream",
          "text": [
            "Epoch 1/20\n",
            "57/57 [==============================] - 6s 106ms/step - loss: 1.6114 - accuracy: 0.6545 - val_loss: 1.3868 - val_accuracy: 0.6888\n",
            "Epoch 2/20\n",
            "57/57 [==============================] - 6s 99ms/step - loss: 1.1662 - accuracy: 0.7303 - val_loss: 1.3090 - val_accuracy: 0.6999\n",
            "Epoch 3/20\n",
            "57/57 [==============================] - 6s 99ms/step - loss: 0.9456 - accuracy: 0.7807 - val_loss: 1.3942 - val_accuracy: 0.7065\n",
            "Epoch 4/20\n",
            "57/57 [==============================] - 6s 99ms/step - loss: 0.7639 - accuracy: 0.8333 - val_loss: 1.3741 - val_accuracy: 0.7453\n",
            "Epoch 5/20\n",
            "57/57 [==============================] - 6s 100ms/step - loss: 0.6249 - accuracy: 0.8798 - val_loss: 1.3059 - val_accuracy: 0.7392\n",
            "Epoch 6/20\n",
            "57/57 [==============================] - 6s 99ms/step - loss: 0.5171 - accuracy: 0.9097 - val_loss: 1.4941 - val_accuracy: 0.7447\n",
            "Epoch 7/20\n",
            "57/57 [==============================] - 6s 99ms/step - loss: 0.5068 - accuracy: 0.9214 - val_loss: 1.3995 - val_accuracy: 0.7220\n",
            "Epoch 8/20\n",
            "57/57 [==============================] - 6s 99ms/step - loss: 0.4430 - accuracy: 0.9380 - val_loss: 1.4579 - val_accuracy: 0.7337\n",
            "Epoch 9/20\n",
            "57/57 [==============================] - 6s 99ms/step - loss: 0.4822 - accuracy: 0.9280 - val_loss: 1.5394 - val_accuracy: 0.7303\n",
            "Epoch 10/20\n",
            "57/57 [==============================] - 6s 100ms/step - loss: 0.4386 - accuracy: 0.9424 - val_loss: 1.5149 - val_accuracy: 0.7281\n",
            "Epoch 11/20\n",
            "57/57 [==============================] - 6s 100ms/step - loss: 0.4462 - accuracy: 0.9336 - val_loss: 1.5469 - val_accuracy: 0.7442\n",
            "Epoch 12/20\n",
            "57/57 [==============================] - 6s 99ms/step - loss: 0.4340 - accuracy: 0.9374 - val_loss: 1.6632 - val_accuracy: 0.7287\n",
            "Epoch 13/20\n",
            "57/57 [==============================] - 8s 134ms/step - loss: 0.4643 - accuracy: 0.9363 - val_loss: 1.7480 - val_accuracy: 0.7442\n",
            "Epoch 14/20\n",
            "57/57 [==============================] - 6s 100ms/step - loss: 0.4473 - accuracy: 0.9363 - val_loss: 1.8185 - val_accuracy: 0.7475\n",
            "Epoch 15/20\n",
            "57/57 [==============================] - 6s 99ms/step - loss: 0.4620 - accuracy: 0.9385 - val_loss: 1.7573 - val_accuracy: 0.7375\n",
            "Epoch 16/20\n",
            "57/57 [==============================] - 6s 99ms/step - loss: 0.4729 - accuracy: 0.9391 - val_loss: 1.7839 - val_accuracy: 0.7470\n",
            "Epoch 17/20\n",
            "57/57 [==============================] - ETA: 0s - loss: 0.4897 - accuracy: 0.9330\n",
            "Epoch 00017: ReduceLROnPlateau reducing learning rate to 0.0019999999552965165.\n",
            "57/57 [==============================] - 6s 100ms/step - loss: 0.4897 - accuracy: 0.9330 - val_loss: 1.9629 - val_accuracy: 0.7359\n"
          ],
          "name": "stdout"
        }
      ]
    },
    {
      "cell_type": "code",
      "metadata": {
        "colab": {
          "base_uri": "https://localhost:8080/"
        },
        "id": "vyTG0USV5t1z",
        "outputId": "fe002dee-420a-4dbc-dc43-46c426837f20"
      },
      "source": [
        "loss, accuracy = lstm_model_4.evaluate(X_attd_test, y_attd_test)\r\n",
        "print('Accuracy: %f' % (accuracy*100))\r\n",
        "print('loss: %f' % (loss))"
      ],
      "execution_count": 276,
      "outputs": [
        {
          "output_type": "stream",
          "text": [
            "49/49 [==============================] - 1s 11ms/step - loss: 2.1041 - accuracy: 0.7319\n",
            "Accuracy: 73.191214\n",
            "loss: 2.104127\n"
          ],
          "name": "stdout"
        }
      ]
    },
    {
      "cell_type": "code",
      "metadata": {
        "colab": {
          "base_uri": "https://localhost:8080/",
          "height": 265
        },
        "id": "7eJoBdbc51MU",
        "outputId": "ef172538-cb8f-47e0-895c-c3af93f33d7f"
      },
      "source": [
        "from matplotlib import pyplot\r\n",
        "\r\n",
        "pyplot.plot(history.history['accuracy'], label='train')\r\n",
        "pyplot.plot(history.history['val_accuracy'], label='Validation')\r\n",
        "pyplot.legend()\r\n",
        "pyplot.show()"
      ],
      "execution_count": 277,
      "outputs": [
        {
          "output_type": "display_data",
          "data": {
            "image/png": "[encoded data removed]",
            "text/plain": [
              "<Figure size 432x288 with 1 Axes>"
            ]
          },
          "metadata": {
            "tags": [],
            "needs_background": "light"
          }
        }
      ]
    },
    {
      "cell_type": "markdown",
      "metadata": {
        "id": "J0ouEI4q3cBT"
      },
      "source": [
        "#### Hyperparameter tuning by changing the validation split"
      ]
    },
    {
      "cell_type": "code",
      "metadata": {
        "colab": {
          "base_uri": "https://localhost:8080/"
        },
        "id": "Wk7RCXAZABiq",
        "outputId": "a10106b0-1fbe-4dbb-be34-5f3f504317ad"
      },
      "source": [
        "BATCH_SIZE = 32\r\n",
        "EPOCHS = 20\r\n",
        "history = lstm_model_4.fit(X_attd_train_val, y_attd_train_val, validation_split=0.2, epochs=EPOCHS, batch_size=BATCH_SIZE, verbose=1, shuffle=True, callbacks=[stop, reduce_lr])"
      ],
      "execution_count": 278,
      "outputs": [
        {
          "output_type": "stream",
          "text": [
            "Epoch 1/20\n",
            "91/91 [==============================] - 8s 91ms/step - loss: 0.9439 - accuracy: 0.8418 - val_loss: 1.3182 - val_accuracy: 0.7635\n",
            "Epoch 2/20\n",
            "91/91 [==============================] - 8s 91ms/step - loss: 0.8061 - accuracy: 0.8581 - val_loss: 1.2515 - val_accuracy: 0.7649\n",
            "Epoch 3/20\n",
            "91/91 [==============================] - 8s 91ms/step - loss: 0.7365 - accuracy: 0.8667 - val_loss: 1.2006 - val_accuracy: 0.7663\n",
            "Epoch 4/20\n",
            "91/91 [==============================] - 8s 91ms/step - loss: 0.6801 - accuracy: 0.8726 - val_loss: 1.2877 - val_accuracy: 0.7663\n",
            "Epoch 5/20\n",
            "91/91 [==============================] - 8s 91ms/step - loss: 0.6443 - accuracy: 0.8837 - val_loss: 1.1598 - val_accuracy: 0.7676\n",
            "Epoch 6/20\n",
            "91/91 [==============================] - 8s 92ms/step - loss: 0.6192 - accuracy: 0.8889 - val_loss: 1.1425 - val_accuracy: 0.7732\n",
            "Epoch 7/20\n",
            "91/91 [==============================] - 8s 91ms/step - loss: 0.6067 - accuracy: 0.8896 - val_loss: 1.2295 - val_accuracy: 0.7718\n",
            "Epoch 8/20\n",
            "91/91 [==============================] - 8s 91ms/step - loss: 0.5702 - accuracy: 0.8979 - val_loss: 1.2027 - val_accuracy: 0.7801\n",
            "Epoch 9/20\n",
            "91/91 [==============================] - 8s 91ms/step - loss: 0.5645 - accuracy: 0.9034 - val_loss: 1.1859 - val_accuracy: 0.7773\n",
            "Epoch 10/20\n",
            "91/91 [==============================] - 8s 92ms/step - loss: 0.5222 - accuracy: 0.9072 - val_loss: 1.1434 - val_accuracy: 0.7732\n",
            "Epoch 11/20\n",
            "91/91 [==============================] - 8s 92ms/step - loss: 0.5382 - accuracy: 0.9052 - val_loss: 1.1618 - val_accuracy: 0.7746\n",
            "Epoch 12/20\n",
            "91/91 [==============================] - 8s 92ms/step - loss: 0.5164 - accuracy: 0.9128 - val_loss: 1.2002 - val_accuracy: 0.7676\n",
            "Epoch 13/20\n",
            "91/91 [==============================] - 8s 91ms/step - loss: 0.4756 - accuracy: 0.9173 - val_loss: 1.2175 - val_accuracy: 0.7704\n",
            "Epoch 14/20\n",
            "91/91 [==============================] - 8s 92ms/step - loss: 0.4547 - accuracy: 0.9259 - val_loss: 1.2243 - val_accuracy: 0.7787\n",
            "Epoch 15/20\n",
            "91/91 [==============================] - 8s 92ms/step - loss: 0.4413 - accuracy: 0.9294 - val_loss: 1.2778 - val_accuracy: 0.7787\n",
            "Epoch 16/20\n",
            "91/91 [==============================] - 8s 92ms/step - loss: 0.4334 - accuracy: 0.9283 - val_loss: 1.2106 - val_accuracy: 0.7787\n",
            "Epoch 17/20\n",
            "91/91 [==============================] - 9s 94ms/step - loss: 0.4185 - accuracy: 0.9304 - val_loss: 1.2887 - val_accuracy: 0.7759\n",
            "Epoch 18/20\n",
            "91/91 [==============================] - 8s 92ms/step - loss: 0.4199 - accuracy: 0.9301 - val_loss: 1.2818 - val_accuracy: 0.7759\n",
            "Epoch 19/20\n",
            "91/91 [==============================] - 8s 93ms/step - loss: 0.4111 - accuracy: 0.9335 - val_loss: 1.2497 - val_accuracy: 0.7787\n",
            "Epoch 20/20\n",
            "91/91 [==============================] - 8s 93ms/step - loss: 0.4058 - accuracy: 0.9335 - val_loss: 1.2480 - val_accuracy: 0.7801\n"
          ],
          "name": "stdout"
        }
      ]
    },
    {
      "cell_type": "code",
      "metadata": {
        "colab": {
          "base_uri": "https://localhost:8080/"
        },
        "id": "BhBr9iHRAyNt",
        "outputId": "2cc99857-2231-4cc5-b4da-c96479b17bdf"
      },
      "source": [
        "loss, accuracy = lstm_model_4.evaluate(X_attd_test, y_attd_test)\r\n",
        "print('Accuracy: %f' % (accuracy*100))\r\n",
        "print('loss: %f' % (loss))"
      ],
      "execution_count": 279,
      "outputs": [
        {
          "output_type": "stream",
          "text": [
            "49/49 [==============================] - 1s 11ms/step - loss: 1.4020 - accuracy: 0.7578\n",
            "Accuracy: 75.775194\n",
            "loss: 1.402029\n"
          ],
          "name": "stdout"
        }
      ]
    },
    {
      "cell_type": "markdown",
      "metadata": {
        "id": "8tiRBbaj45Hk"
      },
      "source": [
        "- Although the training data has overfit, but still the validation and test accuracy has increased considerably\r\n",
        "- The validation accuracy has gone down to 78.01% and loss has increased to 124%  \r\n",
        "- The test accuracy has increased to 75.78% as compared to attention layer model\r\n",
        "- On the other hand, the loss has reduced to 140.20%, which is high as compared to attention models"
      ]
    },
    {
      "cell_type": "code",
      "metadata": {
        "colab": {
          "base_uri": "https://localhost:8080/",
          "height": 430
        },
        "id": "UJu_-5DDcghv",
        "outputId": "55572e45-bae4-43c6-fa5c-8b6ba6f98209"
      },
      "source": [
        "incident = ['job printer printer issue']\r\n",
        "#['login issue verify user detail employee']\r\n",
        "#vectorizing the tweet by the pre-fitted tokenizer instance\r\n",
        "inc = tokenizer.texts_to_sequences(incident)\r\n",
        "#padding the tweet to have exactly the same shape as `embedding_2` input\r\n",
        "#twt = pad_sequences(inc, maxlen=28, dtype='int32', value=0)\r\n",
        "inc = sequence.pad_sequences(inc, maxlen=50)\r\n",
        "print(inc)\r\n",
        "sentiment = lstm_model_4.predict(inc,batch_size=1,verbose = 2)\r\n",
        "print(sentiment)"
      ],
      "execution_count": 212,
      "outputs": [
        {
          "output_type": "stream",
          "text": [
            "[[ 0  0  0  0  0  0  0  0  0  0  0  0  0  0  0  0  0  0  0  0  0  0  0  0\n",
            "   0  0  0  0  0  0  0  0  0  0  0  0  0  0  0  0  0  0  0  0  0  0 56 38\n",
            "  38 11]]\n",
            "1/1 - 0s\n",
            "[[0.97194606 0.00216034 0.00175424 0.00179068 0.00553611 0.00377704\n",
            "  0.0024497  0.00251492 0.00322086 0.00269284 0.00215725]]\n"
          ],
          "name": "stdout"
        },
        {
          "output_type": "error",
          "ename": "ValueError",
          "evalue": "ignored",
          "traceback": [
            "\u001b[0;31m---------------------------------------------------------------------------\u001b[0m",
            "\u001b[0;31mValueError\u001b[0m                                Traceback (most recent call last)",
            "\u001b[0;32m<ipython-input-212-8f44981b243a>\u001b[0m in \u001b[0;36m<module>\u001b[0;34m()\u001b[0m\n\u001b[1;32m      9\u001b[0m \u001b[0msentiment\u001b[0m \u001b[0;34m=\u001b[0m \u001b[0mmodel_label\u001b[0m\u001b[0;34m.\u001b[0m\u001b[0mpredict\u001b[0m\u001b[0;34m(\u001b[0m\u001b[0minc\u001b[0m\u001b[0;34m,\u001b[0m\u001b[0mbatch_size\u001b[0m\u001b[0;34m=\u001b[0m\u001b[0;36m1\u001b[0m\u001b[0;34m,\u001b[0m\u001b[0mverbose\u001b[0m \u001b[0;34m=\u001b[0m \u001b[0;36m2\u001b[0m\u001b[0;34m)\u001b[0m\u001b[0;34m\u001b[0m\u001b[0;34m\u001b[0m\u001b[0m\n\u001b[1;32m     10\u001b[0m \u001b[0mprint\u001b[0m\u001b[0;34m(\u001b[0m\u001b[0msentiment\u001b[0m\u001b[0;34m)\u001b[0m\u001b[0;34m\u001b[0m\u001b[0;34m\u001b[0m\u001b[0m\n\u001b[0;32m---> 11\u001b[0;31m \u001b[0mle\u001b[0m\u001b[0;34m.\u001b[0m\u001b[0minverse_transform\u001b[0m\u001b[0;34m(\u001b[0m\u001b[0msentiment\u001b[0m\u001b[0;34m[\u001b[0m\u001b[0;36m0\u001b[0m\u001b[0;34m]\u001b[0m\u001b[0;34m)\u001b[0m\u001b[0;34m\u001b[0m\u001b[0;34m\u001b[0m\u001b[0m\n\u001b[0m",
            "\u001b[0;32m/usr/local/lib/python3.6/dist-packages/sklearn/preprocessing/_label.py\u001b[0m in \u001b[0;36minverse_transform\u001b[0;34m(self, y)\u001b[0m\n\u001b[1;32m    295\u001b[0m         \u001b[0;32mif\u001b[0m \u001b[0mlen\u001b[0m\u001b[0;34m(\u001b[0m\u001b[0mdiff\u001b[0m\u001b[0;34m)\u001b[0m\u001b[0;34m:\u001b[0m\u001b[0;34m\u001b[0m\u001b[0;34m\u001b[0m\u001b[0m\n\u001b[1;32m    296\u001b[0m             raise ValueError(\n\u001b[0;32m--> 297\u001b[0;31m                     \"y contains previously unseen labels: %s\" % str(diff))\n\u001b[0m\u001b[1;32m    298\u001b[0m         \u001b[0my\u001b[0m \u001b[0;34m=\u001b[0m \u001b[0mnp\u001b[0m\u001b[0;34m.\u001b[0m\u001b[0masarray\u001b[0m\u001b[0;34m(\u001b[0m\u001b[0my\u001b[0m\u001b[0;34m)\u001b[0m\u001b[0;34m\u001b[0m\u001b[0;34m\u001b[0m\u001b[0m\n\u001b[1;32m    299\u001b[0m         \u001b[0;32mreturn\u001b[0m \u001b[0mself\u001b[0m\u001b[0;34m.\u001b[0m\u001b[0mclasses_\u001b[0m\u001b[0;34m[\u001b[0m\u001b[0my\u001b[0m\u001b[0;34m]\u001b[0m\u001b[0;34m\u001b[0m\u001b[0;34m\u001b[0m\u001b[0m\n",
            "\u001b[0;31mValueError\u001b[0m: y contains previously unseen labels: [0.00175424 0.00179068 0.00215725 0.00216034 0.0024497  0.00251492\n 0.00269284 0.00322086 0.00377704 0.00553611 0.97194606]"
          ]
        }
      ]
    }
  ]
}