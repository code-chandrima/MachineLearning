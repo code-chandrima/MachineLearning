{
 "cells": [
  {
   "cell_type": "markdown",
   "metadata": {
    "colab_type": "text",
    "id": "VvWl3ebqzCc1"
   },
   "source": [
    "# Instructions\n",
    "- Some parts of the code are already done for you\n",
    "- You need to execute all the cells\n",
    "- You need to add the code where ever you see `\"#### Add your code here ####\"`\n",
    "- Marks are mentioned along with the cells"
   ]
  },
  {
   "cell_type": "markdown",
   "metadata": {
    "colab_type": "text",
    "id": "NgR0j5310qqC"
   },
   "source": [
    "# Face Mask Segmentation\n",
    "Task is to predict the boundaries(mask) around the face in a given image."
   ]
  },
  {
   "cell_type": "markdown",
   "metadata": {
    "colab_type": "text",
    "id": "Aa0jyJzw091I"
   },
   "source": [
    "## Dataset\n",
    "Faces in images marked with bounding boxes. Have around 500 images with around 1100 faces manually tagged via bounding box."
   ]
  },
  {
   "cell_type": "markdown",
   "metadata": {
    "colab_type": "text",
    "id": "CjRTlPkp1LC2"
   },
   "source": [
    "### Mount Google drive if you are using google colab\n",
    "- We recommend using Google Colab as you can face memory issues and longer runtimes while running on local"
   ]
  },
  {
   "cell_type": "code",
   "execution_count": 1,
   "metadata": {
    "colab": {
     "base_uri": "https://localhost:8080/",
     "height": 121
    },
    "colab_type": "code",
    "id": "sBWMoTJ9cf3Z",
    "outputId": "c1d458a1-f8ba-4ef9-f179-53e01e93ed3c"
   },
   "outputs": [
    {
     "name": "stdout",
     "output_type": "stream",
     "text": [
      "Go to this URL in a browser: https://accounts.google.com/o/oauth2/auth?client_id=947318989803-6bn6qk8qdgf4n4g3pfee6491hc0brc4i.apps.googleusercontent.com&redirect_uri=urn%3aietf%3awg%3aoauth%3a2.0%3aoob&scope=email%20https%3a%2f%2fwww.googleapis.com%2fauth%2fdocs.test%20https%3a%2f%2fwww.googleapis.com%2fauth%2fdrive%20https%3a%2f%2fwww.googleapis.com%2fauth%2fdrive.photos.readonly%20https%3a%2f%2fwww.googleapis.com%2fauth%2fpeopleapi.readonly&response_type=code\n",
      "\n",
      "Enter your authorization code:\n",
      "··········\n",
      "Mounted at /content/gdrive\n"
     ]
    }
   ],
   "source": [
    "from google.colab import drive\n",
    "drive.mount('/content/gdrive')"
   ]
  },
  {
   "cell_type": "code",
   "execution_count": 3,
   "metadata": {
    "colab": {},
    "colab_type": "code",
    "id": "843qSVU-Y0c4"
   },
   "outputs": [],
   "source": [
    "import os\n",
    "os.chdir('/content/gdrive/My Drive/AIML/Great Learning/Computer Vision/')"
   ]
  },
  {
   "cell_type": "markdown",
   "metadata": {
    "colab_type": "text",
    "id": "sO9mgMmp13sI"
   },
   "source": [
    "### Change current working directory to project folder (1 mark)"
   ]
  },
  {
   "cell_type": "code",
   "execution_count": 5,
   "metadata": {
    "colab": {
     "base_uri": "https://localhost:8080/",
     "height": 35
    },
    "colab_type": "code",
    "id": "TddMnf4D1-59",
    "outputId": "937b43a1-2e03-4ca8-a121-71d6ddbd5cbf"
   },
   "outputs": [
    {
     "data": {
      "application/vnd.google.colaboratory.intrinsic+json": {
       "type": "string"
      },
      "text/plain": [
       "'2.3.0'"
      ]
     },
     "execution_count": 5,
     "metadata": {
      "tags": []
     },
     "output_type": "execute_result"
    }
   ],
   "source": [
    "#### Add your code here ####\n",
    "# Initialize the random number generator\n",
    "import random\n",
    "random.seed(0)\n",
    "\n",
    "# Ignore the warnings\n",
    "import warnings\n",
    "warnings.filterwarnings(\"ignore\")\n",
    "\n",
    "%tensorflow_version 2.x\n",
    "import tensorflow\n",
    "tensorflow.__version__"
   ]
  },
  {
   "cell_type": "markdown",
   "metadata": {
    "colab_type": "text",
    "id": "3srplE-FEpKa"
   },
   "source": [
    "### Load the \"images.npy\" file (2 marks)\n",
    "- This file contains images with details of bounding boxes"
   ]
  },
  {
   "cell_type": "code",
   "execution_count": 6,
   "metadata": {
    "colab": {},
    "colab_type": "code",
    "id": "MqFE_tZDf0sM"
   },
   "outputs": [],
   "source": [
    "import numpy as np\n",
    "\n",
    "data = np.load('/content/gdrive/My Drive/AIML/Great Learning/Computer Vision/images.npy', allow_pickle=True)\n"
   ]
  },
  {
   "cell_type": "markdown",
   "metadata": {
    "colab_type": "text",
    "id": "_SMP8zliFT7R"
   },
   "source": [
    "### Check one sample from the loaded \"images.npy\" file  (2 marks)\n",
    "Hint - print data[10][1] "
   ]
  },
  {
   "cell_type": "code",
   "execution_count": 7,
   "metadata": {
    "colab": {
     "base_uri": "https://localhost:8080/",
     "height": 50
    },
    "colab_type": "code",
    "id": "NoqNvPK-iXqG",
    "outputId": "96797311-a8e4-42ae-86be-8df5b33961da"
   },
   "outputs": [
    {
     "name": "stdout",
     "output_type": "stream",
     "text": [
      "(409, 2)\n",
      "[{'label': ['Face'], 'notes': '', 'points': [{'x': 0.48, 'y': 0.10385756676557864}, {'x': 0.7716666666666666, 'y': 0.6795252225519288}], 'imageWidth': 600, 'imageHeight': 337}]\n"
     ]
    }
   ],
   "source": [
    "#### Add your code here ####\n",
    "print (data.shape)\n",
    "print (data[10][1])"
   ]
  },
  {
   "cell_type": "markdown",
   "metadata": {
    "colab_type": "text",
    "id": "m94G4p3CE5Cj"
   },
   "source": [
    "### Set image dimensions   (2 marks)\n",
    "- Initialize image height, image width with value: 224 "
   ]
  },
  {
   "cell_type": "code",
   "execution_count": 8,
   "metadata": {
    "colab": {},
    "colab_type": "code",
    "id": "kuZmtOASevDo"
   },
   "outputs": [],
   "source": [
    "IMAGE_WIDTH = 224\n",
    "IMAGE_HEIGHT = 224\n",
    "\n",
    "HEIGHT_CELLS = 28\n",
    "WIDTH_CELLS = 28"
   ]
  },
  {
   "cell_type": "markdown",
   "metadata": {
    "colab_type": "text",
    "id": "wY6FEsCjG47s"
   },
   "source": [
    "### Create features and labels\n",
    "- Here feature is the image\n",
    "- The label is the mask\n",
    "- Images will be stored in \"X_train\" array\n",
    "- Masks will be stored in \"masks\" array"
   ]
  },
  {
   "cell_type": "code",
   "execution_count": 9,
   "metadata": {
    "colab": {},
    "colab_type": "code",
    "id": "XjCT9EVTgAvr"
   },
   "outputs": [],
   "source": [
    "import cv2\n",
    "from tensorflow.keras.applications.mobilenet import preprocess_input\n",
    "\n",
    "masks = np.zeros((int(data.shape[0]), HEIGHT_CELLS, WIDTH_CELLS))\n",
    "X_train = np.zeros((int(data.shape[0]), IMAGE_HEIGHT, IMAGE_WIDTH, 3))\n",
    "for index in range(data.shape[0]):\n",
    "    img = data[index][0]\n",
    "    img = cv2.resize(img, dsize=(IMAGE_HEIGHT, IMAGE_WIDTH), interpolation=cv2.INTER_CUBIC)\n",
    "    try:\n",
    "      img = img[:, :, :3]\n",
    "    except:\n",
    "      continue\n",
    "    X_train[index] = preprocess_input(np.array(img, dtype=np.float32))\n",
    "    for i in data[index][1]:\n",
    "        x1 = int(i[\"points\"][0]['x'] * WIDTH_CELLS)\n",
    "        x2 = int(i[\"points\"][1]['x'] * WIDTH_CELLS)\n",
    "        y1 = int(i[\"points\"][0]['y'] * HEIGHT_CELLS)\n",
    "        y2 = int(i[\"points\"][1]['y'] * HEIGHT_CELLS)\n",
    "        masks[index][y1:y2, x1:x2] = 1"
   ]
  },
  {
   "cell_type": "markdown",
   "metadata": {
    "colab_type": "text",
    "id": "N3AYbP79bFtJ"
   },
   "source": [
    "### Print the shape of X_train and mask array  (2 marks)"
   ]
  },
  {
   "cell_type": "code",
   "execution_count": 10,
   "metadata": {
    "colab": {
     "base_uri": "https://localhost:8080/",
     "height": 34
    },
    "colab_type": "code",
    "id": "3PIRaEdWIjDa",
    "outputId": "ddfe7b7a-b49d-431b-bc9e-8ef8ca83bff4"
   },
   "outputs": [
    {
     "name": "stdout",
     "output_type": "stream",
     "text": [
      "(409, 224, 224, 3)\n"
     ]
    }
   ],
   "source": [
    "print (X_train.shape)"
   ]
  },
  {
   "cell_type": "code",
   "execution_count": 11,
   "metadata": {
    "colab": {
     "base_uri": "https://localhost:8080/",
     "height": 34
    },
    "colab_type": "code",
    "id": "Gw6uH5DxgI_r",
    "outputId": "4d6610cc-207d-4e51-996c-e5d166451bbc"
   },
   "outputs": [
    {
     "name": "stdout",
     "output_type": "stream",
     "text": [
      "(409, 28, 28)\n"
     ]
    }
   ],
   "source": [
    "print (masks.shape)"
   ]
  },
  {
   "cell_type": "markdown",
   "metadata": {
    "colab_type": "text",
    "id": "R4wgkWq1bk5F"
   },
   "source": [
    "### Print a sample image and image array"
   ]
  },
  {
   "cell_type": "code",
   "execution_count": 12,
   "metadata": {
    "colab": {
     "base_uri": "https://localhost:8080/",
     "height": 1000
    },
    "colab_type": "code",
    "id": "qfRZjQufj0N9",
    "outputId": "89fd2235-8af9-43f2-e6cf-8f5dc3c91b0c"
   },
   "outputs": [
    {
     "name": "stderr",
     "output_type": "stream",
     "text": [
      "Clipping input data to the valid range for imshow with RGB data ([0..1] for floats or [0..255] for integers).\n"
     ]
    },
    {
     "name": "stdout",
     "output_type": "stream",
     "text": [
      "[[[-0.98431373 -0.98431373 -0.98431373]\n",
      "  [-0.98431373 -0.98431373 -0.98431373]\n",
      "  [-0.98431373 -0.98431373 -0.98431373]\n",
      "  ...\n",
      "  [-1.         -1.         -1.        ]\n",
      "  [-1.         -1.         -1.        ]\n",
      "  [-1.         -1.         -1.        ]]\n",
      "\n",
      " [[-0.98431373 -0.98431373 -0.98431373]\n",
      "  [-0.98431373 -0.98431373 -0.98431373]\n",
      "  [-0.98431373 -0.98431373 -0.98431373]\n",
      "  ...\n",
      "  [-1.         -1.         -1.        ]\n",
      "  [-1.         -1.         -1.        ]\n",
      "  [-1.         -1.         -1.        ]]\n",
      "\n",
      " [[-0.98431373 -0.98431373 -0.98431373]\n",
      "  [-0.98431373 -0.98431373 -0.98431373]\n",
      "  [-0.98431373 -0.98431373 -0.98431373]\n",
      "  ...\n",
      "  [-1.         -1.         -1.        ]\n",
      "  [-1.         -1.         -1.        ]\n",
      "  [-1.         -1.         -1.        ]]\n",
      "\n",
      " ...\n",
      "\n",
      " [[-1.         -1.         -1.        ]\n",
      "  [-1.         -1.         -1.        ]\n",
      "  [-1.         -1.         -1.        ]\n",
      "  ...\n",
      "  [-0.96862745 -0.96862745 -0.96862745]\n",
      "  [-0.96078432 -0.96078432 -0.96078432]\n",
      "  [-0.96078432 -0.96078432 -0.96078432]]\n",
      "\n",
      " [[-1.         -1.         -1.        ]\n",
      "  [-1.         -1.         -1.        ]\n",
      "  [-1.         -1.         -1.        ]\n",
      "  ...\n",
      "  [-0.96862745 -0.96862745 -0.96862745]\n",
      "  [-0.96078432 -0.96078432 -0.96078432]\n",
      "  [-0.95294118 -0.95294118 -0.95294118]]\n",
      "\n",
      " [[-1.         -1.         -1.        ]\n",
      "  [-1.         -1.         -1.        ]\n",
      "  [-1.         -1.         -1.        ]\n",
      "  ...\n",
      "  [-0.97647059 -0.97647059 -0.97647059]\n",
      "  [-0.96862745 -0.96862745 -0.96862745]\n",
      "  [-0.96078432 -0.96078432 -0.96078432]]]\n"
     ]
    },
    {
     "data": {
      "text/plain": [
       "<matplotlib.image.AxesImage at 0x7fdede0d2d68>"
      ]
     },
     "execution_count": 12,
     "metadata": {
      "tags": []
     },
     "output_type": "execute_result"
    },
    {
     "data": {
      "image/png": "[encoded data removed]",
      "text/plain": [
       "<Figure size 432x288 with 1 Axes>"
      ]
     },
     "metadata": {
      "needs_background": "light",
      "tags": []
     },
     "output_type": "display_data"
    }
   ],
   "source": [
    "from matplotlib import pyplot\n",
    "n = 10\n",
    "print(X_train[n])\n",
    "pyplot.imshow(X_train[n])"
   ]
  },
  {
   "cell_type": "code",
   "execution_count": 13,
   "metadata": {
    "colab": {
     "base_uri": "https://localhost:8080/",
     "height": 282
    },
    "colab_type": "code",
    "id": "983gGKcwlSe8",
    "outputId": "08a6fd02-bb7f-45a4-e016-bdd6526bf06b"
   },
   "outputs": [
    {
     "data": {
      "text/plain": [
       "<matplotlib.image.AxesImage at 0x7fdeddbca6a0>"
      ]
     },
     "execution_count": 13,
     "metadata": {
      "tags": []
     },
     "output_type": "execute_result"
    },
    {
     "data": {
      "image/png": "[encoded data removed]",
      "text/plain": [
       "<Figure size 432x288 with 1 Axes>"
      ]
     },
     "metadata": {
      "needs_background": "light",
      "tags": []
     },
     "output_type": "display_data"
    }
   ],
   "source": [
    "pyplot.imshow(masks[n])"
   ]
  },
  {
   "cell_type": "markdown",
   "metadata": {
    "colab_type": "text",
    "id": "Z0Qa1UOue9TE"
   },
   "source": [
    "## Create the model (10 marks)\n",
    "- Add MobileNet as model with below parameter values\n",
    "  - input_shape: IMAGE_HEIGHT, IMAGE_WIDTH, 3\n",
    "  - include_top: False\n",
    "  - alpha: 1.0\n",
    "  - weights: \"imagenet\"\n",
    "- Add UNET architecture layers\n",
    "  - This is the trickiest part of the project, you need to research and implement it correctly"
   ]
  },
  {
   "cell_type": "code",
   "execution_count": 14,
   "metadata": {
    "colab": {},
    "colab_type": "code",
    "id": "BTVYOvANrUVx"
   },
   "outputs": [],
   "source": [
    "from tensorflow.keras.applications.mobilenet import MobileNet\n",
    "from tensorflow.keras.layers import Concatenate, UpSampling2D, Conv2D, Reshape\n",
    "from tensorflow.keras.models import Model\n",
    "\n",
    "\n",
    "def create_model(trainable=True):\n",
    "    model = MobileNet(input_shape=(IMAGE_HEIGHT, IMAGE_WIDTH, 3), include_top=False, alpha=1.0, weights=\"imagenet\")\n",
    "    for layer in model.layers:\n",
    "        layer.trainable = trainable\n",
    "\n",
    "    block1 = model.get_layer(\"conv_pw_5_relu\").output\n",
    "    block2 = model.get_layer(\"conv_pw_11_relu\").output\n",
    "    block3 = model.get_layer(\"conv_pw_13_relu\").output\n",
    "\n",
    "    x = Concatenate()([UpSampling2D()(block3), block2])\n",
    "    x = Concatenate()([UpSampling2D()(x), block1])\n",
    "\n",
    "    x = Conv2D(1, kernel_size=1, activation=\"sigmoid\")(x)\n",
    "    x = Reshape((28, 28))(x)\n",
    "\n",
    "    return Model(inputs=model.input, outputs=x)"
   ]
  },
  {
   "cell_type": "markdown",
   "metadata": {
    "colab_type": "text",
    "id": "_snZ9o0ZBAiv"
   },
   "source": [
    "### Call the create_model function"
   ]
  },
  {
   "cell_type": "code",
   "execution_count": 15,
   "metadata": {
    "colab": {
     "base_uri": "https://localhost:8080/",
     "height": 1000
    },
    "colab_type": "code",
    "id": "9TfSSP51uPoO",
    "outputId": "6ef34bc0-af41-46e4-fdaa-1171df1e2ae3"
   },
   "outputs": [
    {
     "name": "stdout",
     "output_type": "stream",
     "text": [
      "Downloading data from https://storage.googleapis.com/tensorflow/keras-applications/mobilenet/mobilenet_1_0_224_tf_no_top.h5\n",
      "17227776/17225924 [==============================] - 0s 0us/step\n",
      "Model: \"functional_1\"\n",
      "__________________________________________________________________________________________________\n",
      "Layer (type)                    Output Shape         Param #     Connected to                     \n",
      "==================================================================================================\n",
      "input_1 (InputLayer)            [(None, 224, 224, 3) 0                                            \n",
      "__________________________________________________________________________________________________\n",
      "conv1_pad (ZeroPadding2D)       (None, 225, 225, 3)  0           input_1[0][0]                    \n",
      "__________________________________________________________________________________________________\n",
      "conv1 (Conv2D)                  (None, 112, 112, 32) 864         conv1_pad[0][0]                  \n",
      "__________________________________________________________________________________________________\n",
      "conv1_bn (BatchNormalization)   (None, 112, 112, 32) 128         conv1[0][0]                      \n",
      "__________________________________________________________________________________________________\n",
      "conv1_relu (ReLU)               (None, 112, 112, 32) 0           conv1_bn[0][0]                   \n",
      "__________________________________________________________________________________________________\n",
      "conv_dw_1 (DepthwiseConv2D)     (None, 112, 112, 32) 288         conv1_relu[0][0]                 \n",
      "__________________________________________________________________________________________________\n",
      "conv_dw_1_bn (BatchNormalizatio (None, 112, 112, 32) 128         conv_dw_1[0][0]                  \n",
      "__________________________________________________________________________________________________\n",
      "conv_dw_1_relu (ReLU)           (None, 112, 112, 32) 0           conv_dw_1_bn[0][0]               \n",
      "__________________________________________________________________________________________________\n",
      "conv_pw_1 (Conv2D)              (None, 112, 112, 64) 2048        conv_dw_1_relu[0][0]             \n",
      "__________________________________________________________________________________________________\n",
      "conv_pw_1_bn (BatchNormalizatio (None, 112, 112, 64) 256         conv_pw_1[0][0]                  \n",
      "__________________________________________________________________________________________________\n",
      "conv_pw_1_relu (ReLU)           (None, 112, 112, 64) 0           conv_pw_1_bn[0][0]               \n",
      "__________________________________________________________________________________________________\n",
      "conv_pad_2 (ZeroPadding2D)      (None, 113, 113, 64) 0           conv_pw_1_relu[0][0]             \n",
      "__________________________________________________________________________________________________\n",
      "conv_dw_2 (DepthwiseConv2D)     (None, 56, 56, 64)   576         conv_pad_2[0][0]                 \n",
      "__________________________________________________________________________________________________\n",
      "conv_dw_2_bn (BatchNormalizatio (None, 56, 56, 64)   256         conv_dw_2[0][0]                  \n",
      "__________________________________________________________________________________________________\n",
      "conv_dw_2_relu (ReLU)           (None, 56, 56, 64)   0           conv_dw_2_bn[0][0]               \n",
      "__________________________________________________________________________________________________\n",
      "conv_pw_2 (Conv2D)              (None, 56, 56, 128)  8192        conv_dw_2_relu[0][0]             \n",
      "__________________________________________________________________________________________________\n",
      "conv_pw_2_bn (BatchNormalizatio (None, 56, 56, 128)  512         conv_pw_2[0][0]                  \n",
      "__________________________________________________________________________________________________\n",
      "conv_pw_2_relu (ReLU)           (None, 56, 56, 128)  0           conv_pw_2_bn[0][0]               \n",
      "__________________________________________________________________________________________________\n",
      "conv_dw_3 (DepthwiseConv2D)     (None, 56, 56, 128)  1152        conv_pw_2_relu[0][0]             \n",
      "__________________________________________________________________________________________________\n",
      "conv_dw_3_bn (BatchNormalizatio (None, 56, 56, 128)  512         conv_dw_3[0][0]                  \n",
      "__________________________________________________________________________________________________\n",
      "conv_dw_3_relu (ReLU)           (None, 56, 56, 128)  0           conv_dw_3_bn[0][0]               \n",
      "__________________________________________________________________________________________________\n",
      "conv_pw_3 (Conv2D)              (None, 56, 56, 128)  16384       conv_dw_3_relu[0][0]             \n",
      "__________________________________________________________________________________________________\n",
      "conv_pw_3_bn (BatchNormalizatio (None, 56, 56, 128)  512         conv_pw_3[0][0]                  \n",
      "__________________________________________________________________________________________________\n",
      "conv_pw_3_relu (ReLU)           (None, 56, 56, 128)  0           conv_pw_3_bn[0][0]               \n",
      "__________________________________________________________________________________________________\n",
      "conv_pad_4 (ZeroPadding2D)      (None, 57, 57, 128)  0           conv_pw_3_relu[0][0]             \n",
      "__________________________________________________________________________________________________\n",
      "conv_dw_4 (DepthwiseConv2D)     (None, 28, 28, 128)  1152        conv_pad_4[0][0]                 \n",
      "__________________________________________________________________________________________________\n",
      "conv_dw_4_bn (BatchNormalizatio (None, 28, 28, 128)  512         conv_dw_4[0][0]                  \n",
      "__________________________________________________________________________________________________\n",
      "conv_dw_4_relu (ReLU)           (None, 28, 28, 128)  0           conv_dw_4_bn[0][0]               \n",
      "__________________________________________________________________________________________________\n",
      "conv_pw_4 (Conv2D)              (None, 28, 28, 256)  32768       conv_dw_4_relu[0][0]             \n",
      "__________________________________________________________________________________________________\n",
      "conv_pw_4_bn (BatchNormalizatio (None, 28, 28, 256)  1024        conv_pw_4[0][0]                  \n",
      "__________________________________________________________________________________________________\n",
      "conv_pw_4_relu (ReLU)           (None, 28, 28, 256)  0           conv_pw_4_bn[0][0]               \n",
      "__________________________________________________________________________________________________\n",
      "conv_dw_5 (DepthwiseConv2D)     (None, 28, 28, 256)  2304        conv_pw_4_relu[0][0]             \n",
      "__________________________________________________________________________________________________\n",
      "conv_dw_5_bn (BatchNormalizatio (None, 28, 28, 256)  1024        conv_dw_5[0][0]                  \n",
      "__________________________________________________________________________________________________\n",
      "conv_dw_5_relu (ReLU)           (None, 28, 28, 256)  0           conv_dw_5_bn[0][0]               \n",
      "__________________________________________________________________________________________________\n",
      "conv_pw_5 (Conv2D)              (None, 28, 28, 256)  65536       conv_dw_5_relu[0][0]             \n",
      "__________________________________________________________________________________________________\n",
      "conv_pw_5_bn (BatchNormalizatio (None, 28, 28, 256)  1024        conv_pw_5[0][0]                  \n",
      "__________________________________________________________________________________________________\n",
      "conv_pw_5_relu (ReLU)           (None, 28, 28, 256)  0           conv_pw_5_bn[0][0]               \n",
      "__________________________________________________________________________________________________\n",
      "conv_pad_6 (ZeroPadding2D)      (None, 29, 29, 256)  0           conv_pw_5_relu[0][0]             \n",
      "__________________________________________________________________________________________________\n",
      "conv_dw_6 (DepthwiseConv2D)     (None, 14, 14, 256)  2304        conv_pad_6[0][0]                 \n",
      "__________________________________________________________________________________________________\n",
      "conv_dw_6_bn (BatchNormalizatio (None, 14, 14, 256)  1024        conv_dw_6[0][0]                  \n",
      "__________________________________________________________________________________________________\n",
      "conv_dw_6_relu (ReLU)           (None, 14, 14, 256)  0           conv_dw_6_bn[0][0]               \n",
      "__________________________________________________________________________________________________\n",
      "conv_pw_6 (Conv2D)              (None, 14, 14, 512)  131072      conv_dw_6_relu[0][0]             \n",
      "__________________________________________________________________________________________________\n",
      "conv_pw_6_bn (BatchNormalizatio (None, 14, 14, 512)  2048        conv_pw_6[0][0]                  \n",
      "__________________________________________________________________________________________________\n",
      "conv_pw_6_relu (ReLU)           (None, 14, 14, 512)  0           conv_pw_6_bn[0][0]               \n",
      "__________________________________________________________________________________________________\n",
      "conv_dw_7 (DepthwiseConv2D)     (None, 14, 14, 512)  4608        conv_pw_6_relu[0][0]             \n",
      "__________________________________________________________________________________________________\n",
      "conv_dw_7_bn (BatchNormalizatio (None, 14, 14, 512)  2048        conv_dw_7[0][0]                  \n",
      "__________________________________________________________________________________________________\n",
      "conv_dw_7_relu (ReLU)           (None, 14, 14, 512)  0           conv_dw_7_bn[0][0]               \n",
      "__________________________________________________________________________________________________\n",
      "conv_pw_7 (Conv2D)              (None, 14, 14, 512)  262144      conv_dw_7_relu[0][0]             \n",
      "__________________________________________________________________________________________________\n",
      "conv_pw_7_bn (BatchNormalizatio (None, 14, 14, 512)  2048        conv_pw_7[0][0]                  \n",
      "__________________________________________________________________________________________________\n",
      "conv_pw_7_relu (ReLU)           (None, 14, 14, 512)  0           conv_pw_7_bn[0][0]               \n",
      "__________________________________________________________________________________________________\n",
      "conv_dw_8 (DepthwiseConv2D)     (None, 14, 14, 512)  4608        conv_pw_7_relu[0][0]             \n",
      "__________________________________________________________________________________________________\n",
      "conv_dw_8_bn (BatchNormalizatio (None, 14, 14, 512)  2048        conv_dw_8[0][0]                  \n",
      "__________________________________________________________________________________________________\n",
      "conv_dw_8_relu (ReLU)           (None, 14, 14, 512)  0           conv_dw_8_bn[0][0]               \n",
      "__________________________________________________________________________________________________\n",
      "conv_pw_8 (Conv2D)              (None, 14, 14, 512)  262144      conv_dw_8_relu[0][0]             \n",
      "__________________________________________________________________________________________________\n",
      "conv_pw_8_bn (BatchNormalizatio (None, 14, 14, 512)  2048        conv_pw_8[0][0]                  \n",
      "__________________________________________________________________________________________________\n",
      "conv_pw_8_relu (ReLU)           (None, 14, 14, 512)  0           conv_pw_8_bn[0][0]               \n",
      "__________________________________________________________________________________________________\n",
      "conv_dw_9 (DepthwiseConv2D)     (None, 14, 14, 512)  4608        conv_pw_8_relu[0][0]             \n",
      "__________________________________________________________________________________________________\n",
      "conv_dw_9_bn (BatchNormalizatio (None, 14, 14, 512)  2048        conv_dw_9[0][0]                  \n",
      "__________________________________________________________________________________________________\n",
      "conv_dw_9_relu (ReLU)           (None, 14, 14, 512)  0           conv_dw_9_bn[0][0]               \n",
      "__________________________________________________________________________________________________\n",
      "conv_pw_9 (Conv2D)              (None, 14, 14, 512)  262144      conv_dw_9_relu[0][0]             \n",
      "__________________________________________________________________________________________________\n",
      "conv_pw_9_bn (BatchNormalizatio (None, 14, 14, 512)  2048        conv_pw_9[0][0]                  \n",
      "__________________________________________________________________________________________________\n",
      "conv_pw_9_relu (ReLU)           (None, 14, 14, 512)  0           conv_pw_9_bn[0][0]               \n",
      "__________________________________________________________________________________________________\n",
      "conv_dw_10 (DepthwiseConv2D)    (None, 14, 14, 512)  4608        conv_pw_9_relu[0][0]             \n",
      "__________________________________________________________________________________________________\n",
      "conv_dw_10_bn (BatchNormalizati (None, 14, 14, 512)  2048        conv_dw_10[0][0]                 \n",
      "__________________________________________________________________________________________________\n",
      "conv_dw_10_relu (ReLU)          (None, 14, 14, 512)  0           conv_dw_10_bn[0][0]              \n",
      "__________________________________________________________________________________________________\n",
      "conv_pw_10 (Conv2D)             (None, 14, 14, 512)  262144      conv_dw_10_relu[0][0]            \n",
      "__________________________________________________________________________________________________\n",
      "conv_pw_10_bn (BatchNormalizati (None, 14, 14, 512)  2048        conv_pw_10[0][0]                 \n",
      "__________________________________________________________________________________________________\n",
      "conv_pw_10_relu (ReLU)          (None, 14, 14, 512)  0           conv_pw_10_bn[0][0]              \n",
      "__________________________________________________________________________________________________\n",
      "conv_dw_11 (DepthwiseConv2D)    (None, 14, 14, 512)  4608        conv_pw_10_relu[0][0]            \n",
      "__________________________________________________________________________________________________\n",
      "conv_dw_11_bn (BatchNormalizati (None, 14, 14, 512)  2048        conv_dw_11[0][0]                 \n",
      "__________________________________________________________________________________________________\n",
      "conv_dw_11_relu (ReLU)          (None, 14, 14, 512)  0           conv_dw_11_bn[0][0]              \n",
      "__________________________________________________________________________________________________\n",
      "conv_pw_11 (Conv2D)             (None, 14, 14, 512)  262144      conv_dw_11_relu[0][0]            \n",
      "__________________________________________________________________________________________________\n",
      "conv_pw_11_bn (BatchNormalizati (None, 14, 14, 512)  2048        conv_pw_11[0][0]                 \n",
      "__________________________________________________________________________________________________\n",
      "conv_pw_11_relu (ReLU)          (None, 14, 14, 512)  0           conv_pw_11_bn[0][0]              \n",
      "__________________________________________________________________________________________________\n",
      "conv_pad_12 (ZeroPadding2D)     (None, 15, 15, 512)  0           conv_pw_11_relu[0][0]            \n",
      "__________________________________________________________________________________________________\n",
      "conv_dw_12 (DepthwiseConv2D)    (None, 7, 7, 512)    4608        conv_pad_12[0][0]                \n",
      "__________________________________________________________________________________________________\n",
      "conv_dw_12_bn (BatchNormalizati (None, 7, 7, 512)    2048        conv_dw_12[0][0]                 \n",
      "__________________________________________________________________________________________________\n",
      "conv_dw_12_relu (ReLU)          (None, 7, 7, 512)    0           conv_dw_12_bn[0][0]              \n",
      "__________________________________________________________________________________________________\n",
      "conv_pw_12 (Conv2D)             (None, 7, 7, 1024)   524288      conv_dw_12_relu[0][0]            \n",
      "__________________________________________________________________________________________________\n",
      "conv_pw_12_bn (BatchNormalizati (None, 7, 7, 1024)   4096        conv_pw_12[0][0]                 \n",
      "__________________________________________________________________________________________________\n",
      "conv_pw_12_relu (ReLU)          (None, 7, 7, 1024)   0           conv_pw_12_bn[0][0]              \n",
      "__________________________________________________________________________________________________\n",
      "conv_dw_13 (DepthwiseConv2D)    (None, 7, 7, 1024)   9216        conv_pw_12_relu[0][0]            \n",
      "__________________________________________________________________________________________________\n",
      "conv_dw_13_bn (BatchNormalizati (None, 7, 7, 1024)   4096        conv_dw_13[0][0]                 \n",
      "__________________________________________________________________________________________________\n",
      "conv_dw_13_relu (ReLU)          (None, 7, 7, 1024)   0           conv_dw_13_bn[0][0]              \n",
      "__________________________________________________________________________________________________\n",
      "conv_pw_13 (Conv2D)             (None, 7, 7, 1024)   1048576     conv_dw_13_relu[0][0]            \n",
      "__________________________________________________________________________________________________\n",
      "conv_pw_13_bn (BatchNormalizati (None, 7, 7, 1024)   4096        conv_pw_13[0][0]                 \n",
      "__________________________________________________________________________________________________\n",
      "conv_pw_13_relu (ReLU)          (None, 7, 7, 1024)   0           conv_pw_13_bn[0][0]              \n",
      "__________________________________________________________________________________________________\n",
      "up_sampling2d (UpSampling2D)    (None, 14, 14, 1024) 0           conv_pw_13_relu[0][0]            \n",
      "__________________________________________________________________________________________________\n",
      "concatenate (Concatenate)       (None, 14, 14, 1536) 0           up_sampling2d[0][0]              \n",
      "                                                                 conv_pw_11_relu[0][0]            \n",
      "__________________________________________________________________________________________________\n",
      "up_sampling2d_1 (UpSampling2D)  (None, 28, 28, 1536) 0           concatenate[0][0]                \n",
      "__________________________________________________________________________________________________\n",
      "concatenate_1 (Concatenate)     (None, 28, 28, 1792) 0           up_sampling2d_1[0][0]            \n",
      "                                                                 conv_pw_5_relu[0][0]             \n",
      "__________________________________________________________________________________________________\n",
      "conv2d (Conv2D)                 (None, 28, 28, 1)    1793        concatenate_1[0][0]              \n",
      "__________________________________________________________________________________________________\n",
      "reshape (Reshape)               (None, 28, 28)       0           conv2d[0][0]                     \n",
      "==================================================================================================\n",
      "Total params: 3,230,657\n",
      "Trainable params: 1,793\n",
      "Non-trainable params: 3,228,864\n",
      "__________________________________________________________________________________________________\n"
     ]
    }
   ],
   "source": [
    "# Give trainable=False as argument, if you want to freeze lower layers for fast training (but low accuracy)\n",
    "model = create_model(False)\n",
    "\n",
    "# Print summary\n",
    "model.summary()"
   ]
  },
  {
   "cell_type": "markdown",
   "metadata": {
    "colab_type": "text",
    "id": "2spcE4TvfEZw"
   },
   "source": [
    "### Define dice coefficient function (10 marks)\n",
    "- Create a function to calculate dice coefficient\n"
   ]
  },
  {
   "cell_type": "code",
   "execution_count": 16,
   "metadata": {
    "colab": {},
    "colab_type": "code",
    "id": "8H8aViXZuWz1"
   },
   "outputs": [],
   "source": [
    "from tensorflow.keras.losses import binary_crossentropy\n",
    "from tensorflow.keras.backend import log, epsilon\n",
    "\n",
    "def dice_coefficient(y_true, y_pred):\n",
    "    numerator = 2 * tensorflow.reduce_sum(y_true * y_pred)\n",
    "    denominator = tensorflow.reduce_sum(y_true + y_pred)\n",
    "\n",
    "    return numerator / (denominator + epsilon())"
   ]
  },
  {
   "cell_type": "markdown",
   "metadata": {
    "colab_type": "text",
    "id": "Nkp5SDM1fIu2"
   },
   "source": [
    "### Define loss"
   ]
  },
  {
   "cell_type": "code",
   "execution_count": 17,
   "metadata": {
    "colab": {},
    "colab_type": "code",
    "id": "FEOVfs19KVLv"
   },
   "outputs": [],
   "source": [
    "def loss(y_true, y_pred):\n",
    "    return binary_crossentropy(y_true, y_pred) - log(dice_coefficient(y_true, y_pred) + epsilon())"
   ]
  },
  {
   "cell_type": "markdown",
   "metadata": {
    "colab_type": "text",
    "id": "Thltv_akfOMS"
   },
   "source": [
    "### Compile the model (3 marks)\n",
    "- Complie the model using below parameters\n",
    "  - loss: use the loss function defined above\n",
    "  - optimizers: use Adam optimizer\n",
    "  - metrics: use dice_coefficient function defined above"
   ]
  },
  {
   "cell_type": "code",
   "execution_count": 18,
   "metadata": {
    "colab": {},
    "colab_type": "code",
    "id": "atPb8xm2qkK5"
   },
   "outputs": [],
   "source": [
    "from tensorflow.keras.optimizers import Adam\n",
    "\n",
    "optimizer = Adam(lr=1e-4, beta_1=0.9, beta_2=0.999, epsilon=None, decay=0.0, amsgrad=False)\n",
    "model.compile(loss=loss, optimizer=optimizer, metrics=[dice_coefficient])"
   ]
  },
  {
   "cell_type": "markdown",
   "metadata": {
    "colab_type": "text",
    "id": "VTumZyg0fuVy"
   },
   "source": [
    "### Define checkpoint and earlystopping"
   ]
  },
  {
   "cell_type": "code",
   "execution_count": 19,
   "metadata": {
    "colab": {
     "base_uri": "https://localhost:8080/",
     "height": 34
    },
    "colab_type": "code",
    "id": "QNlQHt8DMy7h",
    "outputId": "786bf0ab-6599-4972-ba39-1f475821bffe"
   },
   "outputs": [
    {
     "name": "stdout",
     "output_type": "stream",
     "text": [
      "WARNING:tensorflow:`period` argument is deprecated. Please use `save_freq` to specify the frequency in number of batches seen.\n"
     ]
    }
   ],
   "source": [
    "from tensorflow.keras.callbacks import ModelCheckpoint, EarlyStopping, ReduceLROnPlateau\n",
    "checkpoint = ModelCheckpoint(\"model-{loss:.2f}.h5\", monitor=\"loss\", verbose=1, save_best_only=True,\n",
    "                             save_weights_only=True, mode=\"min\", period=1)\n",
    "stop = EarlyStopping(monitor=\"loss\", patience=5, mode=\"min\")\n",
    "reduce_lr = ReduceLROnPlateau(monitor=\"loss\", factor=0.2, patience=5, min_lr=1e-6, verbose=1, mode=\"min\")"
   ]
  },
  {
   "cell_type": "markdown",
   "metadata": {
    "colab_type": "text",
    "id": "LxxbwvXEf07e"
   },
   "source": [
    "### Fit the model (3 marks)\n",
    "- Fit the model using below parameters\n",
    "  - epochs: you can decide\n",
    "  - batch_size: 1\n",
    "  - callbacks: checkpoint, reduce_lr, stop"
   ]
  },
  {
   "cell_type": "code",
   "execution_count": 20,
   "metadata": {
    "colab": {
     "base_uri": "https://localhost:8080/",
     "height": 1000
    },
    "colab_type": "code",
    "id": "guFfKsEmq58j",
    "outputId": "36f644da-f942-4d2e-f5fe-5806c46359fc"
   },
   "outputs": [
    {
     "name": "stdout",
     "output_type": "stream",
     "text": [
      "Epoch 1/100\n",
      "404/409 [============================>.] - ETA: 0s - loss: 1.9179 - dice_coefficient: 0.2869\n",
      "Epoch 00001: loss improved from inf to 1.91180, saving model to model-1.91.h5\n",
      "409/409 [==============================] - 2s 4ms/step - loss: 1.9118 - dice_coefficient: 0.2875\n",
      "Epoch 2/100\n",
      "400/409 [============================>.] - ETA: 0s - loss: 1.2770 - dice_coefficient: 0.4188\n",
      "Epoch 00002: loss improved from 1.91180 to 1.27208, saving model to model-1.27.h5\n",
      "409/409 [==============================] - 3s 6ms/step - loss: 1.2721 - dice_coefficient: 0.4211\n",
      "Epoch 3/100\n",
      "400/409 [============================>.] - ETA: 0s - loss: 1.0889 - dice_coefficient: 0.4824\n",
      "Epoch 00003: loss improved from 1.27208 to 1.09005, saving model to model-1.09.h5\n",
      "409/409 [==============================] - 3s 6ms/step - loss: 1.0901 - dice_coefficient: 0.4812\n",
      "Epoch 4/100\n",
      "398/409 [============================>.] - ETA: 0s - loss: 1.0173 - dice_coefficient: 0.5088\n",
      "Epoch 00004: loss improved from 1.09005 to 1.00992, saving model to model-1.01.h5\n",
      "409/409 [==============================] - 3s 7ms/step - loss: 1.0099 - dice_coefficient: 0.5112\n",
      "Epoch 5/100\n",
      "409/409 [==============================] - ETA: 0s - loss: 0.9621 - dice_coefficient: 0.5316\n",
      "Epoch 00005: loss improved from 1.00992 to 0.96214, saving model to model-0.96.h5\n",
      "409/409 [==============================] - 3s 7ms/step - loss: 0.9621 - dice_coefficient: 0.5316\n",
      "Epoch 6/100\n",
      "405/409 [============================>.] - ETA: 0s - loss: 0.9288 - dice_coefficient: 0.5452\n",
      "Epoch 00006: loss improved from 0.96214 to 0.92946, saving model to model-0.93.h5\n",
      "409/409 [==============================] - 3s 7ms/step - loss: 0.9295 - dice_coefficient: 0.5452\n",
      "Epoch 7/100\n",
      "400/409 [============================>.] - ETA: 0s - loss: 0.9076 - dice_coefficient: 0.5550\n",
      "Epoch 00007: loss improved from 0.92946 to 0.90684, saving model to model-0.91.h5\n",
      "409/409 [==============================] - 2s 5ms/step - loss: 0.9068 - dice_coefficient: 0.5549\n",
      "Epoch 8/100\n",
      "402/409 [============================>.] - ETA: 0s - loss: 0.8840 - dice_coefficient: 0.5651\n",
      "Epoch 00008: loss improved from 0.90684 to 0.88674, saving model to model-0.89.h5\n",
      "409/409 [==============================] - 2s 4ms/step - loss: 0.8867 - dice_coefficient: 0.5637\n",
      "Epoch 9/100\n",
      "400/409 [============================>.] - ETA: 0s - loss: 0.8727 - dice_coefficient: 0.5702\n",
      "Epoch 00009: loss improved from 0.88674 to 0.87216, saving model to model-0.87.h5\n",
      "409/409 [==============================] - 3s 6ms/step - loss: 0.8722 - dice_coefficient: 0.5702\n",
      "Epoch 10/100\n",
      "400/409 [============================>.] - ETA: 0s - loss: 0.8622 - dice_coefficient: 0.5750\n",
      "Epoch 00010: loss improved from 0.87216 to 0.85958, saving model to model-0.86.h5\n",
      "409/409 [==============================] - 4s 9ms/step - loss: 0.8596 - dice_coefficient: 0.5757\n",
      "Epoch 11/100\n",
      "409/409 [==============================] - ETA: 0s - loss: 0.8456 - dice_coefficient: 0.5810\n",
      "Epoch 00011: loss improved from 0.85958 to 0.84564, saving model to model-0.85.h5\n",
      "409/409 [==============================] - 3s 7ms/step - loss: 0.8456 - dice_coefficient: 0.5810\n",
      "Epoch 12/100\n",
      "399/409 [============================>.] - ETA: 0s - loss: 0.8329 - dice_coefficient: 0.5861\n",
      "Epoch 00012: loss improved from 0.84564 to 0.83732, saving model to model-0.84.h5\n",
      "409/409 [==============================] - 3s 6ms/step - loss: 0.8373 - dice_coefficient: 0.5847\n",
      "Epoch 13/100\n",
      "406/409 [============================>.] - ETA: 0s - loss: 0.8250 - dice_coefficient: 0.5903\n",
      "Epoch 00013: loss improved from 0.83732 to 0.82778, saving model to model-0.83.h5\n",
      "409/409 [==============================] - 3s 6ms/step - loss: 0.8278 - dice_coefficient: 0.5888\n",
      "Epoch 14/100\n",
      "405/409 [============================>.] - ETA: 0s - loss: 0.8222 - dice_coefficient: 0.5916\n",
      "Epoch 00014: loss improved from 0.82778 to 0.82048, saving model to model-0.82.h5\n",
      "409/409 [==============================] - 3s 7ms/step - loss: 0.8205 - dice_coefficient: 0.5915\n",
      "Epoch 15/100\n",
      "399/409 [============================>.] - ETA: 0s - loss: 0.8137 - dice_coefficient: 0.5937\n",
      "Epoch 00015: loss improved from 0.82048 to 0.81237, saving model to model-0.81.h5\n",
      "409/409 [==============================] - 2s 6ms/step - loss: 0.8124 - dice_coefficient: 0.5939\n",
      "Epoch 16/100\n",
      "405/409 [============================>.] - ETA: 0s - loss: 0.8079 - dice_coefficient: 0.5956\n",
      "Epoch 00016: loss improved from 0.81237 to 0.80598, saving model to model-0.81.h5\n",
      "409/409 [==============================] - 2s 4ms/step - loss: 0.8060 - dice_coefficient: 0.5964\n",
      "Epoch 17/100\n",
      "400/409 [============================>.] - ETA: 0s - loss: 0.7997 - dice_coefficient: 0.5985\n",
      "Epoch 00017: loss improved from 0.80598 to 0.79682, saving model to model-0.80.h5\n",
      "409/409 [==============================] - 3s 6ms/step - loss: 0.7968 - dice_coefficient: 0.6000\n",
      "Epoch 18/100\n",
      "409/409 [==============================] - ETA: 0s - loss: 0.7908 - dice_coefficient: 0.6020\n",
      "Epoch 00018: loss improved from 0.79682 to 0.79082, saving model to model-0.79.h5\n",
      "409/409 [==============================] - 3s 7ms/step - loss: 0.7908 - dice_coefficient: 0.6020\n",
      "Epoch 19/100\n",
      "403/409 [============================>.] - ETA: 0s - loss: 0.7480 - dice_coefficient: 0.6061\n",
      "Epoch 00019: loss improved from 0.79082 to 0.78656, saving model to model-0.79.h5\n",
      "409/409 [==============================] - 2s 5ms/step - loss: 0.7866 - dice_coefficient: 0.6039\n",
      "Epoch 20/100\n",
      "408/409 [============================>.] - ETA: 0s - loss: 0.7810 - dice_coefficient: 0.6057\n",
      "Epoch 00020: loss improved from 0.78656 to 0.78118, saving model to model-0.78.h5\n",
      "409/409 [==============================] - 3s 7ms/step - loss: 0.7812 - dice_coefficient: 0.6057\n",
      "Epoch 21/100\n",
      "401/409 [============================>.] - ETA: 0s - loss: 0.7772 - dice_coefficient: 0.6076\n",
      "Epoch 00021: loss improved from 0.78118 to 0.77636, saving model to model-0.78.h5\n",
      "409/409 [==============================] - 2s 5ms/step - loss: 0.7764 - dice_coefficient: 0.6074\n",
      "Epoch 22/100\n",
      "408/409 [============================>.] - ETA: 0s - loss: 0.7702 - dice_coefficient: 0.6092\n",
      "Epoch 00022: loss improved from 0.77636 to 0.76973, saving model to model-0.77.h5\n",
      "409/409 [==============================] - 3s 7ms/step - loss: 0.7697 - dice_coefficient: 0.6093\n",
      "Epoch 23/100\n",
      "407/409 [============================>.] - ETA: 0s - loss: 0.7653 - dice_coefficient: 0.6113\n",
      "Epoch 00023: loss improved from 0.76973 to 0.76559, saving model to model-0.77.h5\n",
      "409/409 [==============================] - 2s 5ms/step - loss: 0.7656 - dice_coefficient: 0.6108\n",
      "Epoch 24/100\n",
      "406/409 [============================>.] - ETA: 0s - loss: 0.7608 - dice_coefficient: 0.6131\n",
      "Epoch 00024: loss improved from 0.76559 to 0.76155, saving model to model-0.76.h5\n",
      "409/409 [==============================] - 3s 8ms/step - loss: 0.7615 - dice_coefficient: 0.6125\n",
      "Epoch 25/100\n",
      "405/409 [============================>.] - ETA: 0s - loss: 0.7569 - dice_coefficient: 0.6143\n",
      "Epoch 00025: loss improved from 0.76155 to 0.75610, saving model to model-0.76.h5\n",
      "409/409 [==============================] - 2s 4ms/step - loss: 0.7561 - dice_coefficient: 0.6145\n",
      "Epoch 26/100\n",
      "408/409 [============================>.] - ETA: 0s - loss: 0.7503 - dice_coefficient: 0.6166\n",
      "Epoch 00026: loss improved from 0.75610 to 0.75051, saving model to model-0.75.h5\n",
      "409/409 [==============================] - 3s 6ms/step - loss: 0.7505 - dice_coefficient: 0.6164\n",
      "Epoch 27/100\n",
      "403/409 [============================>.] - ETA: 0s - loss: 0.7488 - dice_coefficient: 0.6166\n",
      "Epoch 00027: loss did not improve from 0.75051\n",
      "409/409 [==============================] - 2s 4ms/step - loss: 0.7514 - dice_coefficient: 0.6162\n",
      "Epoch 28/100\n",
      "400/409 [============================>.] - ETA: 0s - loss: 0.7474 - dice_coefficient: 0.6183\n",
      "Epoch 00028: loss improved from 0.75051 to 0.74782, saving model to model-0.75.h5\n",
      "409/409 [==============================] - 2s 4ms/step - loss: 0.7478 - dice_coefficient: 0.6185\n",
      "Epoch 29/100\n",
      "403/409 [============================>.] - ETA: 0s - loss: 0.7458 - dice_coefficient: 0.6180\n",
      "Epoch 00029: loss improved from 0.74782 to 0.74245, saving model to model-0.74.h5\n",
      "409/409 [==============================] - 3s 7ms/step - loss: 0.7425 - dice_coefficient: 0.6194\n",
      "Epoch 30/100\n",
      "395/409 [===========================>..] - ETA: 0s - loss: 0.7423 - dice_coefficient: 0.6190\n",
      "Epoch 00030: loss improved from 0.74245 to 0.74125, saving model to model-0.74.h5\n",
      "409/409 [==============================] - 2s 4ms/step - loss: 0.7412 - dice_coefficient: 0.6202\n",
      "Epoch 31/100\n",
      "409/409 [==============================] - ETA: 0s - loss: 0.7367 - dice_coefficient: 0.6216\n",
      "Epoch 00031: loss improved from 0.74125 to 0.73670, saving model to model-0.74.h5\n",
      "409/409 [==============================] - 2s 4ms/step - loss: 0.7367 - dice_coefficient: 0.6216\n",
      "Epoch 32/100\n",
      "406/409 [============================>.] - ETA: 0s - loss: 0.7360 - dice_coefficient: 0.6225\n",
      "Epoch 00032: loss improved from 0.73670 to 0.73520, saving model to model-0.74.h5\n",
      "409/409 [==============================] - 2s 4ms/step - loss: 0.7352 - dice_coefficient: 0.6224\n",
      "Epoch 33/100\n",
      "400/409 [============================>.] - ETA: 0s - loss: 0.7328 - dice_coefficient: 0.6243\n",
      "Epoch 00033: loss improved from 0.73520 to 0.73205, saving model to model-0.73.h5\n",
      "409/409 [==============================] - 3s 7ms/step - loss: 0.7320 - dice_coefficient: 0.6238\n",
      "Epoch 34/100\n",
      "400/409 [============================>.] - ETA: 0s - loss: 0.7308 - dice_coefficient: 0.6249\n",
      "Epoch 00034: loss improved from 0.73205 to 0.72880, saving model to model-0.73.h5\n",
      "409/409 [==============================] - 2s 5ms/step - loss: 0.7288 - dice_coefficient: 0.6252\n",
      "Epoch 35/100\n",
      "405/409 [============================>.] - ETA: 0s - loss: 0.7288 - dice_coefficient: 0.6247\n",
      "Epoch 00035: loss improved from 0.72880 to 0.72793, saving model to model-0.73.h5\n",
      "409/409 [==============================] - 2s 5ms/step - loss: 0.7279 - dice_coefficient: 0.6255\n",
      "Epoch 36/100\n",
      "408/409 [============================>.] - ETA: 0s - loss: 0.7261 - dice_coefficient: 0.6261\n",
      "Epoch 00036: loss improved from 0.72793 to 0.72583, saving model to model-0.73.h5\n",
      "409/409 [==============================] - 2s 4ms/step - loss: 0.7258 - dice_coefficient: 0.6263\n",
      "Epoch 37/100\n",
      "395/409 [===========================>..] - ETA: 0s - loss: 0.7250 - dice_coefficient: 0.6275\n",
      "Epoch 00037: loss improved from 0.72583 to 0.72136, saving model to model-0.72.h5\n",
      "409/409 [==============================] - 3s 6ms/step - loss: 0.7214 - dice_coefficient: 0.6280\n",
      "Epoch 38/100\n",
      "398/409 [============================>.] - ETA: 0s - loss: 0.7183 - dice_coefficient: 0.6288\n",
      "Epoch 00038: loss improved from 0.72136 to 0.71974, saving model to model-0.72.h5\n",
      "409/409 [==============================] - 2s 5ms/step - loss: 0.7197 - dice_coefficient: 0.6283\n",
      "Epoch 39/100\n",
      "406/409 [============================>.] - ETA: 0s - loss: 0.7185 - dice_coefficient: 0.6294\n",
      "Epoch 00039: loss improved from 0.71974 to 0.71873, saving model to model-0.72.h5\n",
      "409/409 [==============================] - 2s 5ms/step - loss: 0.7187 - dice_coefficient: 0.6293\n",
      "Epoch 40/100\n",
      "406/409 [============================>.] - ETA: 0s - loss: 0.7155 - dice_coefficient: 0.6310\n",
      "Epoch 00040: loss improved from 0.71873 to 0.71593, saving model to model-0.72.h5\n",
      "409/409 [==============================] - 2s 5ms/step - loss: 0.7159 - dice_coefficient: 0.6302\n",
      "Epoch 41/100\n",
      "409/409 [==============================] - ETA: 0s - loss: 0.7163 - dice_coefficient: 0.6304\n",
      "Epoch 00041: loss did not improve from 0.71593\n",
      "409/409 [==============================] - 2s 4ms/step - loss: 0.7163 - dice_coefficient: 0.6304\n",
      "Epoch 42/100\n",
      "401/409 [============================>.] - ETA: 0s - loss: 0.7130 - dice_coefficient: 0.6319\n",
      "Epoch 00042: loss improved from 0.71593 to 0.71110, saving model to model-0.71.h5\n",
      "409/409 [==============================] - 3s 7ms/step - loss: 0.7111 - dice_coefficient: 0.6322\n",
      "Epoch 43/100\n",
      "399/409 [============================>.] - ETA: 0s - loss: 0.7133 - dice_coefficient: 0.6327\n",
      "Epoch 00043: loss improved from 0.71110 to 0.71072, saving model to model-0.71.h5\n",
      "409/409 [==============================] - 2s 5ms/step - loss: 0.7107 - dice_coefficient: 0.6326\n",
      "Epoch 44/100\n",
      "397/409 [============================>.] - ETA: 0s - loss: 0.7106 - dice_coefficient: 0.6339\n",
      "Epoch 00044: loss improved from 0.71072 to 0.70946, saving model to model-0.71.h5\n",
      "409/409 [==============================] - 2s 5ms/step - loss: 0.7095 - dice_coefficient: 0.6335\n",
      "Epoch 45/100\n",
      "398/409 [============================>.] - ETA: 0s - loss: 0.7118 - dice_coefficient: 0.6311\n",
      "Epoch 00045: loss improved from 0.70946 to 0.70871, saving model to model-0.71.h5\n",
      "409/409 [==============================] - 2s 4ms/step - loss: 0.7087 - dice_coefficient: 0.6334\n",
      "Epoch 46/100\n",
      "404/409 [============================>.] - ETA: 0s - loss: 0.7058 - dice_coefficient: 0.6343\n",
      "Epoch 00046: loss improved from 0.70871 to 0.70593, saving model to model-0.71.h5\n",
      "409/409 [==============================] - 2s 4ms/step - loss: 0.7059 - dice_coefficient: 0.6343\n",
      "Epoch 47/100\n",
      "400/409 [============================>.] - ETA: 0s - loss: 0.7078 - dice_coefficient: 0.6344\n",
      "Epoch 00047: loss improved from 0.70593 to 0.70486, saving model to model-0.70.h5\n",
      "409/409 [==============================] - 3s 6ms/step - loss: 0.7049 - dice_coefficient: 0.6352\n",
      "Epoch 48/100\n",
      "404/409 [============================>.] - ETA: 0s - loss: 0.7022 - dice_coefficient: 0.6366\n",
      "Epoch 00048: loss improved from 0.70486 to 0.70203, saving model to model-0.70.h5\n",
      "409/409 [==============================] - 2s 4ms/step - loss: 0.7020 - dice_coefficient: 0.6362\n",
      "Epoch 49/100\n",
      "399/409 [============================>.] - ETA: 0s - loss: 0.7032 - dice_coefficient: 0.6360\n",
      "Epoch 00049: loss improved from 0.70203 to 0.70030, saving model to model-0.70.h5\n",
      "409/409 [==============================] - 2s 4ms/step - loss: 0.7003 - dice_coefficient: 0.6372\n",
      "Epoch 50/100\n",
      "396/409 [============================>.] - ETA: 0s - loss: 0.7027 - dice_coefficient: 0.6370\n",
      "Epoch 00050: loss did not improve from 0.70030\n",
      "409/409 [==============================] - 2s 4ms/step - loss: 0.7006 - dice_coefficient: 0.6374\n",
      "Epoch 51/100\n",
      "407/409 [============================>.] - ETA: 0s - loss: 0.6989 - dice_coefficient: 0.6375\n",
      "Epoch 00051: loss improved from 0.70030 to 0.69899, saving model to model-0.70.h5\n",
      "409/409 [==============================] - 2s 5ms/step - loss: 0.6990 - dice_coefficient: 0.6373\n",
      "Epoch 52/100\n",
      "401/409 [============================>.] - ETA: 0s - loss: 0.7013 - dice_coefficient: 0.6367\n",
      "Epoch 00052: loss improved from 0.69899 to 0.69863, saving model to model-0.70.h5\n",
      "409/409 [==============================] - 2s 5ms/step - loss: 0.6986 - dice_coefficient: 0.6378\n",
      "Epoch 53/100\n",
      "399/409 [============================>.] - ETA: 0s - loss: 0.6967 - dice_coefficient: 0.6393\n",
      "Epoch 00053: loss improved from 0.69863 to 0.69483, saving model to model-0.69.h5\n",
      "409/409 [==============================] - 3s 6ms/step - loss: 0.6948 - dice_coefficient: 0.6395\n",
      "Epoch 54/100\n",
      "404/409 [============================>.] - ETA: 0s - loss: 0.6966 - dice_coefficient: 0.6382\n",
      "Epoch 00054: loss did not improve from 0.69483\n",
      "409/409 [==============================] - 2s 4ms/step - loss: 0.6949 - dice_coefficient: 0.6392\n",
      "Epoch 55/100\n",
      "402/409 [============================>.] - ETA: 0s - loss: 0.6907 - dice_coefficient: 0.6410\n",
      "Epoch 00055: loss improved from 0.69483 to 0.69360, saving model to model-0.69.h5\n",
      "409/409 [==============================] - 2s 4ms/step - loss: 0.6936 - dice_coefficient: 0.6402\n",
      "Epoch 56/100\n",
      "399/409 [============================>.] - ETA: 0s - loss: 0.6935 - dice_coefficient: 0.6402\n",
      "Epoch 00056: loss improved from 0.69360 to 0.69271, saving model to model-0.69.h5\n",
      "409/409 [==============================] - 2s 5ms/step - loss: 0.6927 - dice_coefficient: 0.6408\n",
      "Epoch 57/100\n",
      "406/409 [============================>.] - ETA: 0s - loss: 0.6912 - dice_coefficient: 0.6412\n",
      "Epoch 00057: loss improved from 0.69271 to 0.68990, saving model to model-0.69.h5\n",
      "409/409 [==============================] - 2s 4ms/step - loss: 0.6899 - dice_coefficient: 0.6416\n",
      "Epoch 58/100\n",
      "400/409 [============================>.] - ETA: 0s - loss: 0.6930 - dice_coefficient: 0.6408\n",
      "Epoch 00058: loss did not improve from 0.68990\n",
      "409/409 [==============================] - 1s 4ms/step - loss: 0.6922 - dice_coefficient: 0.6410\n",
      "Epoch 59/100\n",
      "409/409 [==============================] - ETA: 0s - loss: 0.6890 - dice_coefficient: 0.6418\n",
      "Epoch 00059: loss improved from 0.68990 to 0.68895, saving model to model-0.69.h5\n",
      "409/409 [==============================] - 2s 4ms/step - loss: 0.6890 - dice_coefficient: 0.6418\n",
      "Epoch 60/100\n",
      "407/409 [============================>.] - ETA: 0s - loss: 0.6898 - dice_coefficient: 0.6420\n",
      "Epoch 00060: loss improved from 0.68895 to 0.68893, saving model to model-0.69.h5\n",
      "409/409 [==============================] - 2s 4ms/step - loss: 0.6889 - dice_coefficient: 0.6422\n",
      "Epoch 61/100\n",
      "405/409 [============================>.] - ETA: 0s - loss: 0.6903 - dice_coefficient: 0.6422\n",
      "Epoch 00061: loss did not improve from 0.68893\n",
      "409/409 [==============================] - 2s 4ms/step - loss: 0.6890 - dice_coefficient: 0.6425\n",
      "Epoch 62/100\n",
      "407/409 [============================>.] - ETA: 0s - loss: 0.6870 - dice_coefficient: 0.6435\n",
      "Epoch 00062: loss improved from 0.68893 to 0.68682, saving model to model-0.69.h5\n",
      "409/409 [==============================] - 2s 4ms/step - loss: 0.6868 - dice_coefficient: 0.6435\n",
      "Epoch 63/100\n",
      "402/409 [============================>.] - ETA: 0s - loss: 0.6868 - dice_coefficient: 0.6441\n",
      "Epoch 00063: loss improved from 0.68682 to 0.68651, saving model to model-0.69.h5\n",
      "409/409 [==============================] - 2s 4ms/step - loss: 0.6865 - dice_coefficient: 0.6439\n",
      "Epoch 64/100\n",
      "409/409 [==============================] - ETA: 0s - loss: 0.6852 - dice_coefficient: 0.6440\n",
      "Epoch 00064: loss improved from 0.68651 to 0.68522, saving model to model-0.69.h5\n",
      "409/409 [==============================] - 2s 4ms/step - loss: 0.6852 - dice_coefficient: 0.6440\n",
      "Epoch 65/100\n",
      "401/409 [============================>.] - ETA: 0s - loss: 0.6862 - dice_coefficient: 0.6441\n",
      "Epoch 00065: loss improved from 0.68522 to 0.68422, saving model to model-0.68.h5\n",
      "409/409 [==============================] - 3s 7ms/step - loss: 0.6842 - dice_coefficient: 0.6445\n",
      "Epoch 66/100\n",
      "398/409 [============================>.] - ETA: 0s - loss: 0.6836 - dice_coefficient: 0.6454\n",
      "Epoch 00066: loss improved from 0.68422 to 0.68291, saving model to model-0.68.h5\n",
      "409/409 [==============================] - 2s 4ms/step - loss: 0.6829 - dice_coefficient: 0.6447\n",
      "Epoch 67/100\n",
      "403/409 [============================>.] - ETA: 0s - loss: 0.6835 - dice_coefficient: 0.6456\n",
      "Epoch 00067: loss improved from 0.68291 to 0.68241, saving model to model-0.68.h5\n",
      "409/409 [==============================] - 2s 4ms/step - loss: 0.6824 - dice_coefficient: 0.6455\n",
      "Epoch 68/100\n",
      "407/409 [============================>.] - ETA: 0s - loss: 0.6799 - dice_coefficient: 0.6459\n",
      "Epoch 00068: loss improved from 0.68241 to 0.68042, saving model to model-0.68.h5\n",
      "409/409 [==============================] - 2s 4ms/step - loss: 0.6804 - dice_coefficient: 0.6456\n",
      "Epoch 69/100\n",
      "408/409 [============================>.] - ETA: 0s - loss: 0.6811 - dice_coefficient: 0.6463\n",
      "Epoch 00069: loss did not improve from 0.68042\n",
      "409/409 [==============================] - 2s 4ms/step - loss: 0.6812 - dice_coefficient: 0.6460\n",
      "Epoch 70/100\n",
      "405/409 [============================>.] - ETA: 0s - loss: 0.6814 - dice_coefficient: 0.6464\n",
      "Epoch 00070: loss improved from 0.68042 to 0.68038, saving model to model-0.68.h5\n",
      "409/409 [==============================] - 2s 4ms/step - loss: 0.6804 - dice_coefficient: 0.6466\n",
      "Epoch 71/100\n",
      "396/409 [============================>.] - ETA: 0s - loss: 0.6810 - dice_coefficient: 0.6469\n",
      "Epoch 00071: loss improved from 0.68038 to 0.67898, saving model to model-0.68.h5\n",
      "409/409 [==============================] - 2s 4ms/step - loss: 0.6790 - dice_coefficient: 0.6468\n",
      "Epoch 72/100\n",
      "402/409 [============================>.] - ETA: 0s - loss: 0.6789 - dice_coefficient: 0.6473\n",
      "Epoch 00072: loss improved from 0.67898 to 0.67816, saving model to model-0.68.h5\n",
      "409/409 [==============================] - 2s 5ms/step - loss: 0.6782 - dice_coefficient: 0.6474\n",
      "Epoch 73/100\n",
      "405/409 [============================>.] - ETA: 0s - loss: 0.6779 - dice_coefficient: 0.6475\n",
      "Epoch 00073: loss improved from 0.67816 to 0.67807, saving model to model-0.68.h5\n",
      "409/409 [==============================] - 2s 4ms/step - loss: 0.6781 - dice_coefficient: 0.6474\n",
      "Epoch 74/100\n",
      "397/409 [============================>.] - ETA: 0s - loss: 0.6744 - dice_coefficient: 0.6506\n",
      "Epoch 00074: loss improved from 0.67807 to 0.67803, saving model to model-0.68.h5\n",
      "409/409 [==============================] - 2s 4ms/step - loss: 0.6780 - dice_coefficient: 0.6479\n",
      "Epoch 75/100\n",
      "398/409 [============================>.] - ETA: 0s - loss: 0.6756 - dice_coefficient: 0.6486\n",
      "Epoch 00075: loss improved from 0.67803 to 0.67656, saving model to model-0.68.h5\n",
      "409/409 [==============================] - 2s 4ms/step - loss: 0.6766 - dice_coefficient: 0.6482\n",
      "Epoch 76/100\n",
      "405/409 [============================>.] - ETA: 0s - loss: 0.6769 - dice_coefficient: 0.6481\n",
      "Epoch 00076: loss improved from 0.67656 to 0.67582, saving model to model-0.68.h5\n",
      "409/409 [==============================] - 2s 4ms/step - loss: 0.6758 - dice_coefficient: 0.6485\n",
      "Epoch 77/100\n",
      "396/409 [============================>.] - ETA: 0s - loss: 0.6801 - dice_coefficient: 0.6471\n",
      "Epoch 00077: loss improved from 0.67582 to 0.67561, saving model to model-0.68.h5\n",
      "409/409 [==============================] - 2s 4ms/step - loss: 0.6756 - dice_coefficient: 0.6486\n",
      "Epoch 78/100\n",
      "402/409 [============================>.] - ETA: 0s - loss: 0.6740 - dice_coefficient: 0.6502\n",
      "Epoch 00078: loss improved from 0.67561 to 0.67387, saving model to model-0.67.h5\n",
      "409/409 [==============================] - 3s 7ms/step - loss: 0.6739 - dice_coefficient: 0.6493\n",
      "Epoch 79/100\n",
      "398/409 [============================>.] - ETA: 0s - loss: 0.6755 - dice_coefficient: 0.6488\n",
      "Epoch 00079: loss improved from 0.67387 to 0.67275, saving model to model-0.67.h5\n",
      "409/409 [==============================] - 2s 4ms/step - loss: 0.6728 - dice_coefficient: 0.6498\n",
      "Epoch 80/100\n",
      "398/409 [============================>.] - ETA: 0s - loss: 0.6756 - dice_coefficient: 0.6498\n",
      "Epoch 00080: loss did not improve from 0.67275\n",
      "409/409 [==============================] - 1s 4ms/step - loss: 0.6731 - dice_coefficient: 0.6503\n",
      "Epoch 81/100\n",
      "407/409 [============================>.] - ETA: 0s - loss: 0.6749 - dice_coefficient: 0.6492\n",
      "Epoch 00081: loss did not improve from 0.67275\n",
      "409/409 [==============================] - 2s 4ms/step - loss: 0.6740 - dice_coefficient: 0.6495\n",
      "Epoch 82/100\n",
      "409/409 [==============================] - ETA: 0s - loss: 0.6716 - dice_coefficient: 0.6507\n",
      "Epoch 00082: loss improved from 0.67275 to 0.67162, saving model to model-0.67.h5\n",
      "409/409 [==============================] - 2s 4ms/step - loss: 0.6716 - dice_coefficient: 0.6507\n",
      "Epoch 83/100\n",
      "406/409 [============================>.] - ETA: 0s - loss: 0.6724 - dice_coefficient: 0.6504\n",
      "Epoch 00083: loss improved from 0.67162 to 0.67138, saving model to model-0.67.h5\n",
      "409/409 [==============================] - 2s 4ms/step - loss: 0.6714 - dice_coefficient: 0.6507\n",
      "Epoch 84/100\n",
      "406/409 [============================>.] - ETA: 0s - loss: 0.6722 - dice_coefficient: 0.6508\n",
      "Epoch 00084: loss did not improve from 0.67138\n",
      "409/409 [==============================] - 2s 4ms/step - loss: 0.6717 - dice_coefficient: 0.6508\n",
      "Epoch 85/100\n",
      "408/409 [============================>.] - ETA: 0s - loss: 0.6697 - dice_coefficient: 0.6517\n",
      "Epoch 00085: loss improved from 0.67138 to 0.66996, saving model to model-0.67.h5\n",
      "409/409 [==============================] - 2s 4ms/step - loss: 0.6700 - dice_coefficient: 0.6515\n",
      "Epoch 86/100\n",
      "401/409 [============================>.] - ETA: 0s - loss: 0.6685 - dice_coefficient: 0.6536\n",
      "Epoch 00086: loss did not improve from 0.66996\n",
      "409/409 [==============================] - 2s 4ms/step - loss: 0.6711 - dice_coefficient: 0.6514\n",
      "Epoch 87/100\n",
      "398/409 [============================>.] - ETA: 0s - loss: 0.6708 - dice_coefficient: 0.6507\n",
      "Epoch 00087: loss improved from 0.66996 to 0.66937, saving model to model-0.67.h5\n",
      "409/409 [==============================] - 2s 5ms/step - loss: 0.6694 - dice_coefficient: 0.6516\n",
      "Epoch 88/100\n",
      "406/409 [============================>.] - ETA: 0s - loss: 0.6696 - dice_coefficient: 0.6519\n",
      "Epoch 00088: loss did not improve from 0.66937\n",
      "409/409 [==============================] - 2s 4ms/step - loss: 0.6695 - dice_coefficient: 0.6516\n",
      "Epoch 89/100\n",
      "409/409 [==============================] - ETA: 0s - loss: 0.6689 - dice_coefficient: 0.6523\n",
      "Epoch 00089: loss improved from 0.66937 to 0.66893, saving model to model-0.67.h5\n",
      "409/409 [==============================] - 2s 4ms/step - loss: 0.6689 - dice_coefficient: 0.6523\n",
      "Epoch 90/100\n",
      "409/409 [==============================] - ETA: 0s - loss: 0.6689 - dice_coefficient: 0.6522\n",
      "Epoch 00090: loss improved from 0.66893 to 0.66885, saving model to model-0.67.h5\n",
      "409/409 [==============================] - 2s 4ms/step - loss: 0.6689 - dice_coefficient: 0.6522\n",
      "Epoch 91/100\n",
      "400/409 [============================>.] - ETA: 0s - loss: 0.6655 - dice_coefficient: 0.6529\n",
      "Epoch 00091: loss improved from 0.66885 to 0.66534, saving model to model-0.67.h5\n",
      "409/409 [==============================] - 2s 4ms/step - loss: 0.6653 - dice_coefficient: 0.6539\n",
      "Epoch 92/100\n",
      "400/409 [============================>.] - ETA: 0s - loss: 0.6677 - dice_coefficient: 0.6524\n",
      "Epoch 00092: loss improved from 0.66534 to 0.66501, saving model to model-0.67.h5\n",
      "409/409 [==============================] - 2s 4ms/step - loss: 0.6650 - dice_coefficient: 0.6534\n",
      "Epoch 93/100\n",
      "402/409 [============================>.] - ETA: 0s - loss: 0.6679 - dice_coefficient: 0.6527\n",
      "Epoch 00093: loss did not improve from 0.66501\n",
      "409/409 [==============================] - 2s 4ms/step - loss: 0.6660 - dice_coefficient: 0.6537\n",
      "Epoch 94/100\n",
      "405/409 [============================>.] - ETA: 0s - loss: 0.6664 - dice_coefficient: 0.6543\n",
      "Epoch 00094: loss did not improve from 0.66501\n",
      "409/409 [==============================] - 1s 4ms/step - loss: 0.6653 - dice_coefficient: 0.6542\n",
      "Epoch 95/100\n",
      "396/409 [============================>.] - ETA: 0s - loss: 0.6690 - dice_coefficient: 0.6532\n",
      "Epoch 00095: loss did not improve from 0.66501\n",
      "409/409 [==============================] - 2s 4ms/step - loss: 0.6661 - dice_coefficient: 0.6538\n",
      "Epoch 96/100\n",
      "397/409 [============================>.] - ETA: 0s - loss: 0.6651 - dice_coefficient: 0.6560\n",
      "Epoch 00096: loss improved from 0.66501 to 0.66488, saving model to model-0.66.h5\n",
      "409/409 [==============================] - 3s 6ms/step - loss: 0.6649 - dice_coefficient: 0.6542\n",
      "Epoch 97/100\n",
      "397/409 [============================>.] - ETA: 0s - loss: 0.6623 - dice_coefficient: 0.6565\n",
      "Epoch 00097: loss improved from 0.66488 to 0.66431, saving model to model-0.66.h5\n",
      "409/409 [==============================] - 2s 4ms/step - loss: 0.6643 - dice_coefficient: 0.6546\n",
      "Epoch 98/100\n",
      "398/409 [============================>.] - ETA: 0s - loss: 0.6671 - dice_coefficient: 0.6537\n",
      "Epoch 00098: loss did not improve from 0.66431\n",
      "409/409 [==============================] - 1s 4ms/step - loss: 0.6657 - dice_coefficient: 0.6542\n",
      "Epoch 99/100\n",
      "403/409 [============================>.] - ETA: 0s - loss: 0.6646 - dice_coefficient: 0.6549\n",
      "Epoch 00099: loss improved from 0.66431 to 0.66322, saving model to model-0.66.h5\n",
      "409/409 [==============================] - 2s 4ms/step - loss: 0.6632 - dice_coefficient: 0.6551\n",
      "Epoch 100/100\n",
      "404/409 [============================>.] - ETA: 0s - loss: 0.6659 - dice_coefficient: 0.6549\n",
      "Epoch 00100: loss did not improve from 0.66322\n",
      "409/409 [==============================] - 1s 4ms/step - loss: 0.6643 - dice_coefficient: 0.6547\n"
     ]
    },
    {
     "data": {
      "text/plain": [
       "<tensorflow.python.keras.callbacks.History at 0x7fde7e076630>"
      ]
     },
     "execution_count": 20,
     "metadata": {
      "tags": []
     },
     "output_type": "execute_result"
    }
   ],
   "source": [
    "model.fit(X_train, masks, epochs=100, batch_size=1, verbose=1, callbacks=[checkpoint, stop, reduce_lr])"
   ]
  },
  {
   "cell_type": "markdown",
   "metadata": {
    "colab_type": "text",
    "id": "5VtnuzlOf4uL"
   },
   "source": [
    "### Get the predicted mask for a sample image   (5 marks)"
   ]
  },
  {
   "cell_type": "code",
   "execution_count": 26,
   "metadata": {
    "colab": {},
    "colab_type": "code",
    "id": "o-CBCMysrchu"
   },
   "outputs": [],
   "source": [
    "n = 6\n",
    "sample_image = X_train[n]\n",
    "\n",
    "image = cv2.resize(sample_image, (IMAGE_WIDTH, IMAGE_HEIGHT))\n",
    "pred_mask = cv2.resize(1.0*(model.predict(x=np.array([image]))[0]), (IMAGE_WIDTH, IMAGE_HEIGHT))"
   ]
  },
  {
   "cell_type": "markdown",
   "metadata": {
    "colab_type": "text",
    "id": "fDIetz0HgA4R"
   },
   "source": [
    "### Impose the mask on the image (5 marks)"
   ]
  },
  {
   "cell_type": "code",
   "execution_count": 27,
   "metadata": {
    "colab": {
     "base_uri": "https://localhost:8080/",
     "height": 302
    },
    "colab_type": "code",
    "id": "MTAHGkb5xdzu",
    "outputId": "7fb575a5-4e0f-43c3-9b05-45687342d04f"
   },
   "outputs": [
    {
     "name": "stderr",
     "output_type": "stream",
     "text": [
      "Clipping input data to the valid range for imshow with RGB data ([0..1] for floats or [0..255] for integers).\n"
     ]
    },
    {
     "data": {
      "text/plain": [
       "<matplotlib.image.AxesImage at 0x7fde795c7908>"
      ]
     },
     "execution_count": 27,
     "metadata": {
      "tags": []
     },
     "output_type": "execute_result"
    },
    {
     "data": {
      "image/png": "[encoded data removed]",
      "text/plain": [
       "<Figure size 432x288 with 1 Axes>"
      ]
     },
     "metadata": {
      "needs_background": "light",
      "tags": []
     },
     "output_type": "display_data"
    }
   ],
   "source": [
    "image2 = image\n",
    "image2[:,:,0] = pred_mask*image[:,:,0]\n",
    "image2[:,:,1] = pred_mask*image[:,:,1]\n",
    "image2[:,:,2] = pred_mask*image[:,:,2]\n",
    "\n",
    "out_image = image2\n",
    "\n",
    "pyplot.imshow(image)"
   ]
  }
 ],
 "metadata": {
  "accelerator": "GPU",
  "colab": {
   "collapsed_sections": [],
   "name": "Face_mask_segmentation_Questions_Project_CV_AIML_Online.ipynb",
   "provenance": []
  },
  "kernelspec": {
   "display_name": "Python 3",
   "language": "python",
   "name": "python3"
  },
  "language_info": {
   "codemirror_mode": {
    "name": "ipython",
    "version": 3
   },
   "file_extension": ".py",
   "mimetype": "text/x-python",
   "name": "python",
   "nbconvert_exporter": "python",
   "pygments_lexer": "ipython3",
   "version": "3.7.4"
  }
 },
 "nbformat": 4,
 "nbformat_minor": 1
}
